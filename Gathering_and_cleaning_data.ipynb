{
  "cells": [
    {
      "cell_type": "code",
      "execution_count": 1,
      "outputs": [
        {
          "output_type": "stream",
          "name": "stdout",
          "text": [
            "Looking in indexes: https://pypi.org/simple, https://us-python.pkg.dev/colab-wheels/public/simple/\n",
            "Requirement already satisfied: geopy in /usr/local/lib/python3.7/dist-packages (1.17.0)\n",
            "Requirement already satisfied: geographiclib<2,>=1.49 in /usr/local/lib/python3.7/dist-packages (from geopy) (1.52)\n"
          ]
        }
      ],
      "source": [
        "#pip install the geopy package for latitudes and longitudes\n",
        "!pip install geopy"
      ],
      "metadata": {
        "pycharm": {
          "name": "#%%\n"
        },
        "colab": {
          "base_uri": "https://localhost:8080/"
        },
        "id": "dsjIK9OCcczL",
        "outputId": "2ce55307-1a0c-44c0-ff11-a876dc318ed7"
      }
    },
    {
      "cell_type": "code",
      "execution_count": 2,
      "outputs": [],
      "source": [
        "import seaborn as sns\n",
        "import matplotlib.pyplot as plt\n",
        "import pandas as pd\n",
        "from geopy.geocoders import Nominatim #for fetching latitude and longitude\n",
        "from time import sleep\n",
        "\n",
        "%matplotlib inline"
      ],
      "metadata": {
        "pycharm": {
          "name": "#%%\n"
        },
        "id": "u-piXzP4cczO"
      }
    },
    {
      "cell_type": "code",
      "execution_count": 4,
      "outputs": [],
      "source": [
        "#Loading the datasets obtained from Kaggle\n",
        "#These can be found at https://www.kaggle.com/datasets/datafiniti/hotel-reviews\n",
        "reviews1 = pd.read_csv(\"Datafiniti_Hotel_Reviews.csv\")\n",
        "reviews2 = pd.read_csv(\"Datafiniti_Hotel_Reviews_Jun19.csv\")\n",
        "reviews3 = pd.read_csv(\"7282_1.csv\")"
      ],
      "metadata": {
        "pycharm": {
          "name": "#%%\n"
        },
        "id": "bdBQkiuvcczO"
      }
    },
    {
      "cell_type": "code",
      "execution_count": 5,
      "outputs": [
        {
          "output_type": "stream",
          "name": "stdout",
          "text": [
            "reviews1 shape is (10000, 25)\n",
            "reviews2 shape is (10000, 26)\n",
            "reviews3 shape is (35912, 19)\n"
          ]
        }
      ],
      "source": [
        "#Number of columns is not identical - need to investigate before joining datasets\n",
        "print(f'reviews1 shape is {reviews1.shape}')\n",
        "print(f'reviews2 shape is {reviews2.shape}')\n",
        "print(f'reviews3 shape is {reviews3.shape}')"
      ],
      "metadata": {
        "pycharm": {
          "name": "#%%\n"
        },
        "colab": {
          "base_uri": "https://localhost:8080/"
        },
        "id": "2Kkkm4tqcczP",
        "outputId": "b732301f-4e99-4b6e-860f-a3c7c0841211"
      }
    },
    {
      "cell_type": "code",
      "execution_count": 6,
      "outputs": [
        {
          "output_type": "stream",
          "name": "stdout",
          "text": [
            "Comparing differences between reviews1 and reviews2: \n",
            "Compared to reviews1, reviews2 lacks these columns: []\n",
            "Compared to review2, reviews1 lacks these columns: ['reviews.dateAdded']\n",
            "\n",
            "Comparing differences between reviews1 and reviews3: \n",
            "Compared to reviews1, reviews3 lacks these columns: ['dateAdded', 'dateUpdated', 'id', 'keys', 'primaryCategories', 'reviews.dateSeen', 'reviews.sourceURLs', 'sourceURLs', 'websites']\n",
            "Compared to reviews3, reviews1 lacks these columns: ['reviews.dateAdded', 'reviews.doRecommend', 'reviews.id']\n",
            "\n",
            "Comparing differences between reviews2 and reviews3: \n",
            "Compared to reviews2, reviews3 lacks these columns: ['dateAdded', 'dateUpdated', 'id', 'keys', 'primaryCategories', 'reviews.dateSeen', 'reviews.sourceURLs', 'sourceURLs', 'websites']\n",
            "Compared to reviews3, reviews2 lacks these columns: ['reviews.doRecommend', 'reviews.id']\n"
          ]
        }
      ],
      "source": [
        "#Differences between column names\n",
        "cols1=reviews1.columns.tolist()\n",
        "cols2=reviews2.columns.tolist()\n",
        "cols3=reviews3.columns.tolist()\n",
        "cols1.sort()\n",
        "cols2.sort()\n",
        "cols3.sort()\n",
        "\n",
        "cols1 = pd.Index(cols1)\n",
        "cols2 = pd.Index(cols2)\n",
        "cols3 = pd.Index(cols3)\n",
        "\n",
        "cols1cols2 = cols1.difference(cols2).tolist()\n",
        "cols1cols3 = cols1.difference(cols3).tolist()\n",
        "cols2cols1 = cols2.difference(cols1).tolist()\n",
        "cols2cols3 = cols2.difference(cols3).tolist()\n",
        "cols3cols1 = cols3.difference(cols1).tolist()\n",
        "cols3cols2 = cols3.difference(cols2).tolist()\n",
        "\n",
        "print(\"Comparing differences between reviews1 and reviews2: \")\n",
        "print(f\"Compared to reviews1, reviews2 lacks these columns: {cols1cols2}\")\n",
        "print(f\"Compared to review2, reviews1 lacks these columns: {cols2cols1}\")\n",
        "print()\n",
        "print(\"Comparing differences between reviews1 and reviews3: \")\n",
        "print(f\"Compared to reviews1, reviews3 lacks these columns: {cols1cols3}\")\n",
        "print(f\"Compared to reviews3, reviews1 lacks these columns: {cols3cols1}\")\n",
        "print()\n",
        "print(\"Comparing differences between reviews2 and reviews3: \")\n",
        "print(f\"Compared to reviews2, reviews3 lacks these columns: {cols2cols3}\")\n",
        "print(f\"Compared to reviews3, reviews2 lacks these columns: {cols3cols2}\")"
      ],
      "metadata": {
        "pycharm": {
          "name": "#%%\n"
        },
        "colab": {
          "base_uri": "https://localhost:8080/"
        },
        "id": "5UkMWwcQcczR",
        "outputId": "6ba57526-fc9f-4481-9220-b550c6f9ab6f"
      }
    },
    {
      "cell_type": "code",
      "execution_count": 7,
      "outputs": [
        {
          "output_type": "execute_result",
          "data": {
            "text/plain": [
              "       id dateAdded dateUpdated address categories primaryCategories    city  \\\n",
              "0  object    object      object  object     object            object  object   \n",
              "1  object    object      object  object     object            object  object   \n",
              "2     NaN       NaN         NaN  object     object               NaN  object   \n",
              "\n",
              "  country    keys latitude  ... reviews.text reviews.title reviews.userCity  \\\n",
              "0  object  object  float64  ...       object        object           object   \n",
              "1  object  object  float64  ...       object        object           object   \n",
              "2  object     NaN  float64  ...       object        object           object   \n",
              "\n",
              "  reviews.userProvince reviews.username sourceURLs websites reviews.dateAdded  \\\n",
              "0               object           object     object   object               NaN   \n",
              "1               object           object     object   object           float64   \n",
              "2               object           object        NaN      NaN            object   \n",
              "\n",
              "  reviews.doRecommend reviews.id  \n",
              "0                 NaN        NaN  \n",
              "1                 NaN        NaN  \n",
              "2             float64    float64  \n",
              "\n",
              "[3 rows x 28 columns]"
            ],
            "text/html": [
              "\n",
              "  <div id=\"df-7b507933-ce12-4106-89ae-7bafac234e52\">\n",
              "    <div class=\"colab-df-container\">\n",
              "      <div>\n",
              "<style scoped>\n",
              "    .dataframe tbody tr th:only-of-type {\n",
              "        vertical-align: middle;\n",
              "    }\n",
              "\n",
              "    .dataframe tbody tr th {\n",
              "        vertical-align: top;\n",
              "    }\n",
              "\n",
              "    .dataframe thead th {\n",
              "        text-align: right;\n",
              "    }\n",
              "</style>\n",
              "<table border=\"1\" class=\"dataframe\">\n",
              "  <thead>\n",
              "    <tr style=\"text-align: right;\">\n",
              "      <th></th>\n",
              "      <th>id</th>\n",
              "      <th>dateAdded</th>\n",
              "      <th>dateUpdated</th>\n",
              "      <th>address</th>\n",
              "      <th>categories</th>\n",
              "      <th>primaryCategories</th>\n",
              "      <th>city</th>\n",
              "      <th>country</th>\n",
              "      <th>keys</th>\n",
              "      <th>latitude</th>\n",
              "      <th>...</th>\n",
              "      <th>reviews.text</th>\n",
              "      <th>reviews.title</th>\n",
              "      <th>reviews.userCity</th>\n",
              "      <th>reviews.userProvince</th>\n",
              "      <th>reviews.username</th>\n",
              "      <th>sourceURLs</th>\n",
              "      <th>websites</th>\n",
              "      <th>reviews.dateAdded</th>\n",
              "      <th>reviews.doRecommend</th>\n",
              "      <th>reviews.id</th>\n",
              "    </tr>\n",
              "  </thead>\n",
              "  <tbody>\n",
              "    <tr>\n",
              "      <th>0</th>\n",
              "      <td>object</td>\n",
              "      <td>object</td>\n",
              "      <td>object</td>\n",
              "      <td>object</td>\n",
              "      <td>object</td>\n",
              "      <td>object</td>\n",
              "      <td>object</td>\n",
              "      <td>object</td>\n",
              "      <td>object</td>\n",
              "      <td>float64</td>\n",
              "      <td>...</td>\n",
              "      <td>object</td>\n",
              "      <td>object</td>\n",
              "      <td>object</td>\n",
              "      <td>object</td>\n",
              "      <td>object</td>\n",
              "      <td>object</td>\n",
              "      <td>object</td>\n",
              "      <td>NaN</td>\n",
              "      <td>NaN</td>\n",
              "      <td>NaN</td>\n",
              "    </tr>\n",
              "    <tr>\n",
              "      <th>1</th>\n",
              "      <td>object</td>\n",
              "      <td>object</td>\n",
              "      <td>object</td>\n",
              "      <td>object</td>\n",
              "      <td>object</td>\n",
              "      <td>object</td>\n",
              "      <td>object</td>\n",
              "      <td>object</td>\n",
              "      <td>object</td>\n",
              "      <td>float64</td>\n",
              "      <td>...</td>\n",
              "      <td>object</td>\n",
              "      <td>object</td>\n",
              "      <td>object</td>\n",
              "      <td>object</td>\n",
              "      <td>object</td>\n",
              "      <td>object</td>\n",
              "      <td>object</td>\n",
              "      <td>float64</td>\n",
              "      <td>NaN</td>\n",
              "      <td>NaN</td>\n",
              "    </tr>\n",
              "    <tr>\n",
              "      <th>2</th>\n",
              "      <td>NaN</td>\n",
              "      <td>NaN</td>\n",
              "      <td>NaN</td>\n",
              "      <td>object</td>\n",
              "      <td>object</td>\n",
              "      <td>NaN</td>\n",
              "      <td>object</td>\n",
              "      <td>object</td>\n",
              "      <td>NaN</td>\n",
              "      <td>float64</td>\n",
              "      <td>...</td>\n",
              "      <td>object</td>\n",
              "      <td>object</td>\n",
              "      <td>object</td>\n",
              "      <td>object</td>\n",
              "      <td>object</td>\n",
              "      <td>NaN</td>\n",
              "      <td>NaN</td>\n",
              "      <td>object</td>\n",
              "      <td>float64</td>\n",
              "      <td>float64</td>\n",
              "    </tr>\n",
              "  </tbody>\n",
              "</table>\n",
              "<p>3 rows × 28 columns</p>\n",
              "</div>\n",
              "      <button class=\"colab-df-convert\" onclick=\"convertToInteractive('df-7b507933-ce12-4106-89ae-7bafac234e52')\"\n",
              "              title=\"Convert this dataframe to an interactive table.\"\n",
              "              style=\"display:none;\">\n",
              "        \n",
              "  <svg xmlns=\"http://www.w3.org/2000/svg\" height=\"24px\"viewBox=\"0 0 24 24\"\n",
              "       width=\"24px\">\n",
              "    <path d=\"M0 0h24v24H0V0z\" fill=\"none\"/>\n",
              "    <path d=\"M18.56 5.44l.94 2.06.94-2.06 2.06-.94-2.06-.94-.94-2.06-.94 2.06-2.06.94zm-11 1L8.5 8.5l.94-2.06 2.06-.94-2.06-.94L8.5 2.5l-.94 2.06-2.06.94zm10 10l.94 2.06.94-2.06 2.06-.94-2.06-.94-.94-2.06-.94 2.06-2.06.94z\"/><path d=\"M17.41 7.96l-1.37-1.37c-.4-.4-.92-.59-1.43-.59-.52 0-1.04.2-1.43.59L10.3 9.45l-7.72 7.72c-.78.78-.78 2.05 0 2.83L4 21.41c.39.39.9.59 1.41.59.51 0 1.02-.2 1.41-.59l7.78-7.78 2.81-2.81c.8-.78.8-2.07 0-2.86zM5.41 20L4 18.59l7.72-7.72 1.47 1.35L5.41 20z\"/>\n",
              "  </svg>\n",
              "      </button>\n",
              "      \n",
              "  <style>\n",
              "    .colab-df-container {\n",
              "      display:flex;\n",
              "      flex-wrap:wrap;\n",
              "      gap: 12px;\n",
              "    }\n",
              "\n",
              "    .colab-df-convert {\n",
              "      background-color: #E8F0FE;\n",
              "      border: none;\n",
              "      border-radius: 50%;\n",
              "      cursor: pointer;\n",
              "      display: none;\n",
              "      fill: #1967D2;\n",
              "      height: 32px;\n",
              "      padding: 0 0 0 0;\n",
              "      width: 32px;\n",
              "    }\n",
              "\n",
              "    .colab-df-convert:hover {\n",
              "      background-color: #E2EBFA;\n",
              "      box-shadow: 0px 1px 2px rgba(60, 64, 67, 0.3), 0px 1px 3px 1px rgba(60, 64, 67, 0.15);\n",
              "      fill: #174EA6;\n",
              "    }\n",
              "\n",
              "    [theme=dark] .colab-df-convert {\n",
              "      background-color: #3B4455;\n",
              "      fill: #D2E3FC;\n",
              "    }\n",
              "\n",
              "    [theme=dark] .colab-df-convert:hover {\n",
              "      background-color: #434B5C;\n",
              "      box-shadow: 0px 1px 3px 1px rgba(0, 0, 0, 0.15);\n",
              "      filter: drop-shadow(0px 1px 2px rgba(0, 0, 0, 0.3));\n",
              "      fill: #FFFFFF;\n",
              "    }\n",
              "  </style>\n",
              "\n",
              "      <script>\n",
              "        const buttonEl =\n",
              "          document.querySelector('#df-7b507933-ce12-4106-89ae-7bafac234e52 button.colab-df-convert');\n",
              "        buttonEl.style.display =\n",
              "          google.colab.kernel.accessAllowed ? 'block' : 'none';\n",
              "\n",
              "        async function convertToInteractive(key) {\n",
              "          const element = document.querySelector('#df-7b507933-ce12-4106-89ae-7bafac234e52');\n",
              "          const dataTable =\n",
              "            await google.colab.kernel.invokeFunction('convertToInteractive',\n",
              "                                                     [key], {});\n",
              "          if (!dataTable) return;\n",
              "\n",
              "          const docLinkHtml = 'Like what you see? Visit the ' +\n",
              "            '<a target=\"_blank\" href=https://colab.research.google.com/notebooks/data_table.ipynb>data table notebook</a>'\n",
              "            + ' to learn more about interactive tables.';\n",
              "          element.innerHTML = '';\n",
              "          dataTable['output_type'] = 'display_data';\n",
              "          await google.colab.output.renderOutput(dataTable, element);\n",
              "          const docLink = document.createElement('div');\n",
              "          docLink.innerHTML = docLinkHtml;\n",
              "          element.appendChild(docLink);\n",
              "        }\n",
              "      </script>\n",
              "    </div>\n",
              "  </div>\n",
              "  "
            ]
          },
          "metadata": {},
          "execution_count": 7
        }
      ],
      "source": [
        "#not entire match in data types, but pd.concat() should be able to tolerate this\n",
        "df = pd.DataFrame([reviews1.dtypes, reviews2.dtypes, reviews3.dtypes])\n",
        "df.head()"
      ],
      "metadata": {
        "pycharm": {
          "name": "#%%\n"
        },
        "colab": {
          "base_uri": "https://localhost:8080/",
          "height": 237
        },
        "id": "RqPOylYTcczS",
        "outputId": "cc400f79-96c6-4dfa-b762-b864b1354715"
      }
    },
    {
      "cell_type": "code",
      "execution_count": 8,
      "outputs": [
        {
          "output_type": "execute_result",
          "data": {
            "text/plain": [
              "                     id             dateAdded           dateUpdated  \\\n",
              "0  AVwc252WIN2L1WUfpqLP  2016-10-30T21:42:42Z  2018-09-10T21:06:27Z   \n",
              "1  AVwc252WIN2L1WUfpqLP  2016-10-30T21:42:42Z  2018-09-10T21:06:27Z   \n",
              "2  AVwc252WIN2L1WUfpqLP  2016-10-30T21:42:42Z  2018-09-10T21:06:27Z   \n",
              "3  AVwdOclqIN2L1WUfti38  2015-11-28T19:19:35Z  2018-09-10T21:06:16Z   \n",
              "4  AVwdOclqIN2L1WUfti38  2015-11-28T19:19:35Z  2018-09-10T21:06:16Z   \n",
              "\n",
              "             address                                         categories  \\\n",
              "0  5921 Valencia Cir  Hotels,Hotels and motels,Hotel and motel reser...   \n",
              "1  5921 Valencia Cir  Hotels,Hotels and motels,Hotel and motel reser...   \n",
              "2  5921 Valencia Cir  Hotels,Hotels and motels,Hotel and motel reser...   \n",
              "3     7520 Teague Rd  Hotels,Hotels and motels,Travel agencies and b...   \n",
              "4     7520 Teague Rd  Hotels,Hotels and motels,Travel agencies and b...   \n",
              "\n",
              "               primaryCategories             city country  \\\n",
              "0  Accommodation & Food Services  Rancho Santa Fe      US   \n",
              "1  Accommodation & Food Services  Rancho Santa Fe      US   \n",
              "2  Accommodation & Food Services  Rancho Santa Fe      US   \n",
              "3  Accommodation & Food Services          Hanover      US   \n",
              "4  Accommodation & Food Services          Hanover      US   \n",
              "\n",
              "                                            keys   latitude  ...  \\\n",
              "0  us/ca/ranchosantafe/5921valenciacir/359754519  32.990959  ...   \n",
              "1  us/ca/ranchosantafe/5921valenciacir/359754519  32.990959  ...   \n",
              "2  us/ca/ranchosantafe/5921valenciacir/359754519  32.990959  ...   \n",
              "3         us/md/hanover/7520teaguerd/-2043779672  39.155929  ...   \n",
              "4         us/md/hanover/7520teaguerd/-2043779672  39.155929  ...   \n",
              "\n",
              "                                    reviews.dateSeen reviews.rating  \\\n",
              "0  2016-08-03T00:00:00Z,2016-07-26T00:00:00Z,2016...            5.0   \n",
              "1  2016-08-02T00:00:00Z,2016-08-26T00:00:00Z,2016...            5.0   \n",
              "2  2016-11-15T00:00:00Z,2016-08-23T00:00:00Z,2016...            5.0   \n",
              "3          2016-05-21T00:00:00Z,2016-07-31T00:00:00Z            2.0   \n",
              "4                               2016-07-31T00:00:00Z            5.0   \n",
              "\n",
              "                                  reviews.sourceURLs  \\\n",
              "0    https://www.hotels.com/hotel/125419/reviews%20/   \n",
              "1    https://www.hotels.com/hotel/125419/reviews%20/   \n",
              "2    https://www.hotels.com/hotel/125419/reviews%20/   \n",
              "3  https://www.tripadvisor.com/Hotel_Review-g4118...   \n",
              "4  https://www.tripadvisor.com/Hotel_Review-g4118...   \n",
              "\n",
              "                                        reviews.text  \\\n",
              "0  Our experience at Rancho Valencia was absolute...   \n",
              "1  Amazing place. Everyone was extremely warm and...   \n",
              "2  We booked a 3 night stay at Rancho Valencia to...   \n",
              "3  Currently in bed writing this for the past hr ...   \n",
              "4  I live in Md and the Aloft is my Home away fro...   \n",
              "\n",
              "                              reviews.title reviews.userCity  \\\n",
              "0           Best romantic vacation ever!!!!              NaN   \n",
              "1                      Sweet sweet serenity              NaN   \n",
              "2           Amazing Property and Experience              NaN   \n",
              "3  Never again...beware, if you want sleep.         Richmond   \n",
              "4                      ALWAYS GREAT STAY...           Laurel   \n",
              "\n",
              "   reviews.userProvince reviews.username  \\\n",
              "0                   NaN            Paula   \n",
              "1                   NaN                D   \n",
              "2                   NaN              Ron   \n",
              "3                    VA        jaeem2016   \n",
              "4                    MD       MamaNiaOne   \n",
              "\n",
              "                                          sourceURLs  \\\n",
              "0  http://www.hotels.com/ho125419/%25252525253Flo...   \n",
              "1  http://www.hotels.com/ho125419/%25252525253Flo...   \n",
              "2  http://www.hotels.com/ho125419/%25252525253Flo...   \n",
              "3  http://www.yellowbook.com/profile/aloft-arunde...   \n",
              "4  http://www.yellowbook.com/profile/aloft-arunde...   \n",
              "\n",
              "                                            websites  \n",
              "0                      http://www.ranchovalencia.com  \n",
              "1                      http://www.ranchovalencia.com  \n",
              "2                      http://www.ranchovalencia.com  \n",
              "3  http://www.starwoodhotels.com/alofthotels/prop...  \n",
              "4  http://www.starwoodhotels.com/alofthotels/prop...  \n",
              "\n",
              "[5 rows x 25 columns]"
            ],
            "text/html": [
              "\n",
              "  <div id=\"df-c348026e-e2b0-4e88-ae9d-f1b8ce2a5715\">\n",
              "    <div class=\"colab-df-container\">\n",
              "      <div>\n",
              "<style scoped>\n",
              "    .dataframe tbody tr th:only-of-type {\n",
              "        vertical-align: middle;\n",
              "    }\n",
              "\n",
              "    .dataframe tbody tr th {\n",
              "        vertical-align: top;\n",
              "    }\n",
              "\n",
              "    .dataframe thead th {\n",
              "        text-align: right;\n",
              "    }\n",
              "</style>\n",
              "<table border=\"1\" class=\"dataframe\">\n",
              "  <thead>\n",
              "    <tr style=\"text-align: right;\">\n",
              "      <th></th>\n",
              "      <th>id</th>\n",
              "      <th>dateAdded</th>\n",
              "      <th>dateUpdated</th>\n",
              "      <th>address</th>\n",
              "      <th>categories</th>\n",
              "      <th>primaryCategories</th>\n",
              "      <th>city</th>\n",
              "      <th>country</th>\n",
              "      <th>keys</th>\n",
              "      <th>latitude</th>\n",
              "      <th>...</th>\n",
              "      <th>reviews.dateSeen</th>\n",
              "      <th>reviews.rating</th>\n",
              "      <th>reviews.sourceURLs</th>\n",
              "      <th>reviews.text</th>\n",
              "      <th>reviews.title</th>\n",
              "      <th>reviews.userCity</th>\n",
              "      <th>reviews.userProvince</th>\n",
              "      <th>reviews.username</th>\n",
              "      <th>sourceURLs</th>\n",
              "      <th>websites</th>\n",
              "    </tr>\n",
              "  </thead>\n",
              "  <tbody>\n",
              "    <tr>\n",
              "      <th>0</th>\n",
              "      <td>AVwc252WIN2L1WUfpqLP</td>\n",
              "      <td>2016-10-30T21:42:42Z</td>\n",
              "      <td>2018-09-10T21:06:27Z</td>\n",
              "      <td>5921 Valencia Cir</td>\n",
              "      <td>Hotels,Hotels and motels,Hotel and motel reser...</td>\n",
              "      <td>Accommodation &amp; Food Services</td>\n",
              "      <td>Rancho Santa Fe</td>\n",
              "      <td>US</td>\n",
              "      <td>us/ca/ranchosantafe/5921valenciacir/359754519</td>\n",
              "      <td>32.990959</td>\n",
              "      <td>...</td>\n",
              "      <td>2016-08-03T00:00:00Z,2016-07-26T00:00:00Z,2016...</td>\n",
              "      <td>5.0</td>\n",
              "      <td>https://www.hotels.com/hotel/125419/reviews%20/</td>\n",
              "      <td>Our experience at Rancho Valencia was absolute...</td>\n",
              "      <td>Best romantic vacation ever!!!!</td>\n",
              "      <td>NaN</td>\n",
              "      <td>NaN</td>\n",
              "      <td>Paula</td>\n",
              "      <td>http://www.hotels.com/ho125419/%25252525253Flo...</td>\n",
              "      <td>http://www.ranchovalencia.com</td>\n",
              "    </tr>\n",
              "    <tr>\n",
              "      <th>1</th>\n",
              "      <td>AVwc252WIN2L1WUfpqLP</td>\n",
              "      <td>2016-10-30T21:42:42Z</td>\n",
              "      <td>2018-09-10T21:06:27Z</td>\n",
              "      <td>5921 Valencia Cir</td>\n",
              "      <td>Hotels,Hotels and motels,Hotel and motel reser...</td>\n",
              "      <td>Accommodation &amp; Food Services</td>\n",
              "      <td>Rancho Santa Fe</td>\n",
              "      <td>US</td>\n",
              "      <td>us/ca/ranchosantafe/5921valenciacir/359754519</td>\n",
              "      <td>32.990959</td>\n",
              "      <td>...</td>\n",
              "      <td>2016-08-02T00:00:00Z,2016-08-26T00:00:00Z,2016...</td>\n",
              "      <td>5.0</td>\n",
              "      <td>https://www.hotels.com/hotel/125419/reviews%20/</td>\n",
              "      <td>Amazing place. Everyone was extremely warm and...</td>\n",
              "      <td>Sweet sweet serenity</td>\n",
              "      <td>NaN</td>\n",
              "      <td>NaN</td>\n",
              "      <td>D</td>\n",
              "      <td>http://www.hotels.com/ho125419/%25252525253Flo...</td>\n",
              "      <td>http://www.ranchovalencia.com</td>\n",
              "    </tr>\n",
              "    <tr>\n",
              "      <th>2</th>\n",
              "      <td>AVwc252WIN2L1WUfpqLP</td>\n",
              "      <td>2016-10-30T21:42:42Z</td>\n",
              "      <td>2018-09-10T21:06:27Z</td>\n",
              "      <td>5921 Valencia Cir</td>\n",
              "      <td>Hotels,Hotels and motels,Hotel and motel reser...</td>\n",
              "      <td>Accommodation &amp; Food Services</td>\n",
              "      <td>Rancho Santa Fe</td>\n",
              "      <td>US</td>\n",
              "      <td>us/ca/ranchosantafe/5921valenciacir/359754519</td>\n",
              "      <td>32.990959</td>\n",
              "      <td>...</td>\n",
              "      <td>2016-11-15T00:00:00Z,2016-08-23T00:00:00Z,2016...</td>\n",
              "      <td>5.0</td>\n",
              "      <td>https://www.hotels.com/hotel/125419/reviews%20/</td>\n",
              "      <td>We booked a 3 night stay at Rancho Valencia to...</td>\n",
              "      <td>Amazing Property and Experience</td>\n",
              "      <td>NaN</td>\n",
              "      <td>NaN</td>\n",
              "      <td>Ron</td>\n",
              "      <td>http://www.hotels.com/ho125419/%25252525253Flo...</td>\n",
              "      <td>http://www.ranchovalencia.com</td>\n",
              "    </tr>\n",
              "    <tr>\n",
              "      <th>3</th>\n",
              "      <td>AVwdOclqIN2L1WUfti38</td>\n",
              "      <td>2015-11-28T19:19:35Z</td>\n",
              "      <td>2018-09-10T21:06:16Z</td>\n",
              "      <td>7520 Teague Rd</td>\n",
              "      <td>Hotels,Hotels and motels,Travel agencies and b...</td>\n",
              "      <td>Accommodation &amp; Food Services</td>\n",
              "      <td>Hanover</td>\n",
              "      <td>US</td>\n",
              "      <td>us/md/hanover/7520teaguerd/-2043779672</td>\n",
              "      <td>39.155929</td>\n",
              "      <td>...</td>\n",
              "      <td>2016-05-21T00:00:00Z,2016-07-31T00:00:00Z</td>\n",
              "      <td>2.0</td>\n",
              "      <td>https://www.tripadvisor.com/Hotel_Review-g4118...</td>\n",
              "      <td>Currently in bed writing this for the past hr ...</td>\n",
              "      <td>Never again...beware, if you want sleep.</td>\n",
              "      <td>Richmond</td>\n",
              "      <td>VA</td>\n",
              "      <td>jaeem2016</td>\n",
              "      <td>http://www.yellowbook.com/profile/aloft-arunde...</td>\n",
              "      <td>http://www.starwoodhotels.com/alofthotels/prop...</td>\n",
              "    </tr>\n",
              "    <tr>\n",
              "      <th>4</th>\n",
              "      <td>AVwdOclqIN2L1WUfti38</td>\n",
              "      <td>2015-11-28T19:19:35Z</td>\n",
              "      <td>2018-09-10T21:06:16Z</td>\n",
              "      <td>7520 Teague Rd</td>\n",
              "      <td>Hotels,Hotels and motels,Travel agencies and b...</td>\n",
              "      <td>Accommodation &amp; Food Services</td>\n",
              "      <td>Hanover</td>\n",
              "      <td>US</td>\n",
              "      <td>us/md/hanover/7520teaguerd/-2043779672</td>\n",
              "      <td>39.155929</td>\n",
              "      <td>...</td>\n",
              "      <td>2016-07-31T00:00:00Z</td>\n",
              "      <td>5.0</td>\n",
              "      <td>https://www.tripadvisor.com/Hotel_Review-g4118...</td>\n",
              "      <td>I live in Md and the Aloft is my Home away fro...</td>\n",
              "      <td>ALWAYS GREAT STAY...</td>\n",
              "      <td>Laurel</td>\n",
              "      <td>MD</td>\n",
              "      <td>MamaNiaOne</td>\n",
              "      <td>http://www.yellowbook.com/profile/aloft-arunde...</td>\n",
              "      <td>http://www.starwoodhotels.com/alofthotels/prop...</td>\n",
              "    </tr>\n",
              "  </tbody>\n",
              "</table>\n",
              "<p>5 rows × 25 columns</p>\n",
              "</div>\n",
              "      <button class=\"colab-df-convert\" onclick=\"convertToInteractive('df-c348026e-e2b0-4e88-ae9d-f1b8ce2a5715')\"\n",
              "              title=\"Convert this dataframe to an interactive table.\"\n",
              "              style=\"display:none;\">\n",
              "        \n",
              "  <svg xmlns=\"http://www.w3.org/2000/svg\" height=\"24px\"viewBox=\"0 0 24 24\"\n",
              "       width=\"24px\">\n",
              "    <path d=\"M0 0h24v24H0V0z\" fill=\"none\"/>\n",
              "    <path d=\"M18.56 5.44l.94 2.06.94-2.06 2.06-.94-2.06-.94-.94-2.06-.94 2.06-2.06.94zm-11 1L8.5 8.5l.94-2.06 2.06-.94-2.06-.94L8.5 2.5l-.94 2.06-2.06.94zm10 10l.94 2.06.94-2.06 2.06-.94-2.06-.94-.94-2.06-.94 2.06-2.06.94z\"/><path d=\"M17.41 7.96l-1.37-1.37c-.4-.4-.92-.59-1.43-.59-.52 0-1.04.2-1.43.59L10.3 9.45l-7.72 7.72c-.78.78-.78 2.05 0 2.83L4 21.41c.39.39.9.59 1.41.59.51 0 1.02-.2 1.41-.59l7.78-7.78 2.81-2.81c.8-.78.8-2.07 0-2.86zM5.41 20L4 18.59l7.72-7.72 1.47 1.35L5.41 20z\"/>\n",
              "  </svg>\n",
              "      </button>\n",
              "      \n",
              "  <style>\n",
              "    .colab-df-container {\n",
              "      display:flex;\n",
              "      flex-wrap:wrap;\n",
              "      gap: 12px;\n",
              "    }\n",
              "\n",
              "    .colab-df-convert {\n",
              "      background-color: #E8F0FE;\n",
              "      border: none;\n",
              "      border-radius: 50%;\n",
              "      cursor: pointer;\n",
              "      display: none;\n",
              "      fill: #1967D2;\n",
              "      height: 32px;\n",
              "      padding: 0 0 0 0;\n",
              "      width: 32px;\n",
              "    }\n",
              "\n",
              "    .colab-df-convert:hover {\n",
              "      background-color: #E2EBFA;\n",
              "      box-shadow: 0px 1px 2px rgba(60, 64, 67, 0.3), 0px 1px 3px 1px rgba(60, 64, 67, 0.15);\n",
              "      fill: #174EA6;\n",
              "    }\n",
              "\n",
              "    [theme=dark] .colab-df-convert {\n",
              "      background-color: #3B4455;\n",
              "      fill: #D2E3FC;\n",
              "    }\n",
              "\n",
              "    [theme=dark] .colab-df-convert:hover {\n",
              "      background-color: #434B5C;\n",
              "      box-shadow: 0px 1px 3px 1px rgba(0, 0, 0, 0.15);\n",
              "      filter: drop-shadow(0px 1px 2px rgba(0, 0, 0, 0.3));\n",
              "      fill: #FFFFFF;\n",
              "    }\n",
              "  </style>\n",
              "\n",
              "      <script>\n",
              "        const buttonEl =\n",
              "          document.querySelector('#df-c348026e-e2b0-4e88-ae9d-f1b8ce2a5715 button.colab-df-convert');\n",
              "        buttonEl.style.display =\n",
              "          google.colab.kernel.accessAllowed ? 'block' : 'none';\n",
              "\n",
              "        async function convertToInteractive(key) {\n",
              "          const element = document.querySelector('#df-c348026e-e2b0-4e88-ae9d-f1b8ce2a5715');\n",
              "          const dataTable =\n",
              "            await google.colab.kernel.invokeFunction('convertToInteractive',\n",
              "                                                     [key], {});\n",
              "          if (!dataTable) return;\n",
              "\n",
              "          const docLinkHtml = 'Like what you see? Visit the ' +\n",
              "            '<a target=\"_blank\" href=https://colab.research.google.com/notebooks/data_table.ipynb>data table notebook</a>'\n",
              "            + ' to learn more about interactive tables.';\n",
              "          element.innerHTML = '';\n",
              "          dataTable['output_type'] = 'display_data';\n",
              "          await google.colab.output.renderOutput(dataTable, element);\n",
              "          const docLink = document.createElement('div');\n",
              "          docLink.innerHTML = docLinkHtml;\n",
              "          element.appendChild(docLink);\n",
              "        }\n",
              "      </script>\n",
              "    </div>\n",
              "  </div>\n",
              "  "
            ]
          },
          "metadata": {},
          "execution_count": 8
        }
      ],
      "source": [
        "#Overview (five rows) of reviews1\n",
        "reviews1.head()"
      ],
      "metadata": {
        "pycharm": {
          "name": "#%%\n"
        },
        "colab": {
          "base_uri": "https://localhost:8080/",
          "height": 646
        },
        "id": "GUe4ivXQcczS",
        "outputId": "b7dba7e4-4b61-4c8c-f8b6-a7e1640b3e3c"
      }
    },
    {
      "cell_type": "code",
      "execution_count": 9,
      "outputs": [
        {
          "output_type": "execute_result",
          "data": {
            "text/plain": [
              "                     id             dateAdded           dateUpdated  \\\n",
              "0  AWE2FvX5RxPSIh2RscTK  2018-01-18T18:43:12Z  2019-05-20T23:55:47Z   \n",
              "1  AVwcj_OhkufWRAb5wi9T  2016-11-06T20:21:05Z  2019-05-20T23:31:56Z   \n",
              "2  AVwcj_OhkufWRAb5wi9T  2016-11-06T20:21:05Z  2019-05-20T23:31:56Z   \n",
              "3  AVwcj_OhkufWRAb5wi9T  2016-11-06T20:21:05Z  2019-05-20T23:31:56Z   \n",
              "4  AVwcj_OhkufWRAb5wi9T  2016-11-06T20:21:05Z  2019-05-20T23:31:56Z   \n",
              "\n",
              "                          address  \\\n",
              "0                 5620 Calle Real   \n",
              "1  5th And San Carlos PO Box 3574   \n",
              "2  5th And San Carlos PO Box 3574   \n",
              "3  5th And San Carlos PO Box 3574   \n",
              "4  5th And San Carlos PO Box 3574   \n",
              "\n",
              "                                          categories  \\\n",
              "0  Hotels,Hotels and motels,Hotel and motel mgmt....   \n",
              "1                               Hotels,Lodging,Hotel   \n",
              "2                               Hotels,Lodging,Hotel   \n",
              "3                               Hotels,Lodging,Hotel   \n",
              "4                               Hotels,Lodging,Hotel   \n",
              "\n",
              "               primaryCategories               city country  \\\n",
              "0  Accommodation & Food Services             Goleta      US   \n",
              "1  Accommodation & Food Services  Carmel by the Sea      US   \n",
              "2  Accommodation & Food Services  Carmel by the Sea      US   \n",
              "3  Accommodation & Food Services  Carmel by the Sea      US   \n",
              "4  Accommodation & Food Services  Carmel by the Sea      US   \n",
              "\n",
              "                                                keys  latitude  ...  \\\n",
              "0             us/ca/goleta/5620callereal/-1127060008  34.44178  ...   \n",
              "1  us/ca/carmelbythesea/5thandsancarlospobox3574/...  36.55722  ...   \n",
              "2  us/ca/carmelbythesea/5thandsancarlospobox3574/...  36.55722  ...   \n",
              "3  us/ca/carmelbythesea/5thandsancarlospobox3574/...  36.55722  ...   \n",
              "4  us/ca/carmelbythesea/5thandsancarlospobox3574/...  36.55722  ...   \n",
              "\n",
              "                            reviews.dateSeen reviews.rating  \\\n",
              "0                       2018-01-03T00:00:00Z              3   \n",
              "1                       2016-10-09T00:00:00Z              4   \n",
              "2                       2016-10-09T00:00:00Z              3   \n",
              "3                       2016-10-31T00:00:00Z              5   \n",
              "4  2016-10-09T00:00:00Z,2016-03-27T00:00:00Z              2   \n",
              "\n",
              "                                  reviews.sourceURLs  \\\n",
              "0  https://www.tripadvisor.com/Hotel_Review-g3243...   \n",
              "1  https://www.tripadvisor.com/Hotel_Review-g3217...   \n",
              "2  https://www.tripadvisor.com/Hotel_Review-g3217...   \n",
              "3  https://www.tripadvisor.com/Hotel_Review-g3217...   \n",
              "4  https://www.tripadvisor.com/Hotel_Review-g3217...   \n",
              "\n",
              "                                        reviews.text  \\\n",
              "0  This hotel was nice and quiet. Did not know, t...   \n",
              "1  We stayed in the king suite with the separatio...   \n",
              "2  Parking was horrible, somebody ran into my ren...   \n",
              "3  Not cheap but excellent location. Price is som...   \n",
              "4  If you get the room that they advertised on th...   \n",
              "\n",
              "                                       reviews.title  reviews.userCity  \\\n",
              "0                            Best Western Plus Hotel          San Jose   \n",
              "1  Clean rooms at solid rates in the heart of Carmel     San Francisco   \n",
              "2                                           Business   Prescott Valley   \n",
              "3                                          Very good          Guaynabo   \n",
              "4                       Low chance to come back here              Reno   \n",
              "\n",
              "  reviews.userProvince  reviews.username  \\\n",
              "0         UnitedStates      tatsurok2018   \n",
              "1                   CA         STEPHEN N   \n",
              "2                   AZ         15Deborah   \n",
              "3                   PR        Wilfredo M   \n",
              "4                   NV             Luc D   \n",
              "\n",
              "                                          sourceURLs  \\\n",
              "0  https://www.tripadvisor.com/Hotel_Review-g3243...   \n",
              "1  http://www.tripadvisor.com/Hotel_Review-g32172...   \n",
              "2  http://www.tripadvisor.com/Hotel_Review-g32172...   \n",
              "3  http://www.tripadvisor.com/Hotel_Review-g32172...   \n",
              "4  http://www.tripadvisor.com/Hotel_Review-g32172...   \n",
              "\n",
              "                                            websites  \n",
              "0  https://www.bestwestern.com/en_US/book/hotel-r...  \n",
              "1                         http://www.bestwestern.com  \n",
              "2                         http://www.bestwestern.com  \n",
              "3                         http://www.bestwestern.com  \n",
              "4                         http://www.bestwestern.com  \n",
              "\n",
              "[5 rows x 26 columns]"
            ],
            "text/html": [
              "\n",
              "  <div id=\"df-8180549e-03e7-4d46-8db8-1041b65c36f0\">\n",
              "    <div class=\"colab-df-container\">\n",
              "      <div>\n",
              "<style scoped>\n",
              "    .dataframe tbody tr th:only-of-type {\n",
              "        vertical-align: middle;\n",
              "    }\n",
              "\n",
              "    .dataframe tbody tr th {\n",
              "        vertical-align: top;\n",
              "    }\n",
              "\n",
              "    .dataframe thead th {\n",
              "        text-align: right;\n",
              "    }\n",
              "</style>\n",
              "<table border=\"1\" class=\"dataframe\">\n",
              "  <thead>\n",
              "    <tr style=\"text-align: right;\">\n",
              "      <th></th>\n",
              "      <th>id</th>\n",
              "      <th>dateAdded</th>\n",
              "      <th>dateUpdated</th>\n",
              "      <th>address</th>\n",
              "      <th>categories</th>\n",
              "      <th>primaryCategories</th>\n",
              "      <th>city</th>\n",
              "      <th>country</th>\n",
              "      <th>keys</th>\n",
              "      <th>latitude</th>\n",
              "      <th>...</th>\n",
              "      <th>reviews.dateSeen</th>\n",
              "      <th>reviews.rating</th>\n",
              "      <th>reviews.sourceURLs</th>\n",
              "      <th>reviews.text</th>\n",
              "      <th>reviews.title</th>\n",
              "      <th>reviews.userCity</th>\n",
              "      <th>reviews.userProvince</th>\n",
              "      <th>reviews.username</th>\n",
              "      <th>sourceURLs</th>\n",
              "      <th>websites</th>\n",
              "    </tr>\n",
              "  </thead>\n",
              "  <tbody>\n",
              "    <tr>\n",
              "      <th>0</th>\n",
              "      <td>AWE2FvX5RxPSIh2RscTK</td>\n",
              "      <td>2018-01-18T18:43:12Z</td>\n",
              "      <td>2019-05-20T23:55:47Z</td>\n",
              "      <td>5620 Calle Real</td>\n",
              "      <td>Hotels,Hotels and motels,Hotel and motel mgmt....</td>\n",
              "      <td>Accommodation &amp; Food Services</td>\n",
              "      <td>Goleta</td>\n",
              "      <td>US</td>\n",
              "      <td>us/ca/goleta/5620callereal/-1127060008</td>\n",
              "      <td>34.44178</td>\n",
              "      <td>...</td>\n",
              "      <td>2018-01-03T00:00:00Z</td>\n",
              "      <td>3</td>\n",
              "      <td>https://www.tripadvisor.com/Hotel_Review-g3243...</td>\n",
              "      <td>This hotel was nice and quiet. Did not know, t...</td>\n",
              "      <td>Best Western Plus Hotel</td>\n",
              "      <td>San Jose</td>\n",
              "      <td>UnitedStates</td>\n",
              "      <td>tatsurok2018</td>\n",
              "      <td>https://www.tripadvisor.com/Hotel_Review-g3243...</td>\n",
              "      <td>https://www.bestwestern.com/en_US/book/hotel-r...</td>\n",
              "    </tr>\n",
              "    <tr>\n",
              "      <th>1</th>\n",
              "      <td>AVwcj_OhkufWRAb5wi9T</td>\n",
              "      <td>2016-11-06T20:21:05Z</td>\n",
              "      <td>2019-05-20T23:31:56Z</td>\n",
              "      <td>5th And San Carlos PO Box 3574</td>\n",
              "      <td>Hotels,Lodging,Hotel</td>\n",
              "      <td>Accommodation &amp; Food Services</td>\n",
              "      <td>Carmel by the Sea</td>\n",
              "      <td>US</td>\n",
              "      <td>us/ca/carmelbythesea/5thandsancarlospobox3574/...</td>\n",
              "      <td>36.55722</td>\n",
              "      <td>...</td>\n",
              "      <td>2016-10-09T00:00:00Z</td>\n",
              "      <td>4</td>\n",
              "      <td>https://www.tripadvisor.com/Hotel_Review-g3217...</td>\n",
              "      <td>We stayed in the king suite with the separatio...</td>\n",
              "      <td>Clean rooms at solid rates in the heart of Carmel</td>\n",
              "      <td>San Francisco</td>\n",
              "      <td>CA</td>\n",
              "      <td>STEPHEN N</td>\n",
              "      <td>http://www.tripadvisor.com/Hotel_Review-g32172...</td>\n",
              "      <td>http://www.bestwestern.com</td>\n",
              "    </tr>\n",
              "    <tr>\n",
              "      <th>2</th>\n",
              "      <td>AVwcj_OhkufWRAb5wi9T</td>\n",
              "      <td>2016-11-06T20:21:05Z</td>\n",
              "      <td>2019-05-20T23:31:56Z</td>\n",
              "      <td>5th And San Carlos PO Box 3574</td>\n",
              "      <td>Hotels,Lodging,Hotel</td>\n",
              "      <td>Accommodation &amp; Food Services</td>\n",
              "      <td>Carmel by the Sea</td>\n",
              "      <td>US</td>\n",
              "      <td>us/ca/carmelbythesea/5thandsancarlospobox3574/...</td>\n",
              "      <td>36.55722</td>\n",
              "      <td>...</td>\n",
              "      <td>2016-10-09T00:00:00Z</td>\n",
              "      <td>3</td>\n",
              "      <td>https://www.tripadvisor.com/Hotel_Review-g3217...</td>\n",
              "      <td>Parking was horrible, somebody ran into my ren...</td>\n",
              "      <td>Business</td>\n",
              "      <td>Prescott Valley</td>\n",
              "      <td>AZ</td>\n",
              "      <td>15Deborah</td>\n",
              "      <td>http://www.tripadvisor.com/Hotel_Review-g32172...</td>\n",
              "      <td>http://www.bestwestern.com</td>\n",
              "    </tr>\n",
              "    <tr>\n",
              "      <th>3</th>\n",
              "      <td>AVwcj_OhkufWRAb5wi9T</td>\n",
              "      <td>2016-11-06T20:21:05Z</td>\n",
              "      <td>2019-05-20T23:31:56Z</td>\n",
              "      <td>5th And San Carlos PO Box 3574</td>\n",
              "      <td>Hotels,Lodging,Hotel</td>\n",
              "      <td>Accommodation &amp; Food Services</td>\n",
              "      <td>Carmel by the Sea</td>\n",
              "      <td>US</td>\n",
              "      <td>us/ca/carmelbythesea/5thandsancarlospobox3574/...</td>\n",
              "      <td>36.55722</td>\n",
              "      <td>...</td>\n",
              "      <td>2016-10-31T00:00:00Z</td>\n",
              "      <td>5</td>\n",
              "      <td>https://www.tripadvisor.com/Hotel_Review-g3217...</td>\n",
              "      <td>Not cheap but excellent location. Price is som...</td>\n",
              "      <td>Very good</td>\n",
              "      <td>Guaynabo</td>\n",
              "      <td>PR</td>\n",
              "      <td>Wilfredo M</td>\n",
              "      <td>http://www.tripadvisor.com/Hotel_Review-g32172...</td>\n",
              "      <td>http://www.bestwestern.com</td>\n",
              "    </tr>\n",
              "    <tr>\n",
              "      <th>4</th>\n",
              "      <td>AVwcj_OhkufWRAb5wi9T</td>\n",
              "      <td>2016-11-06T20:21:05Z</td>\n",
              "      <td>2019-05-20T23:31:56Z</td>\n",
              "      <td>5th And San Carlos PO Box 3574</td>\n",
              "      <td>Hotels,Lodging,Hotel</td>\n",
              "      <td>Accommodation &amp; Food Services</td>\n",
              "      <td>Carmel by the Sea</td>\n",
              "      <td>US</td>\n",
              "      <td>us/ca/carmelbythesea/5thandsancarlospobox3574/...</td>\n",
              "      <td>36.55722</td>\n",
              "      <td>...</td>\n",
              "      <td>2016-10-09T00:00:00Z,2016-03-27T00:00:00Z</td>\n",
              "      <td>2</td>\n",
              "      <td>https://www.tripadvisor.com/Hotel_Review-g3217...</td>\n",
              "      <td>If you get the room that they advertised on th...</td>\n",
              "      <td>Low chance to come back here</td>\n",
              "      <td>Reno</td>\n",
              "      <td>NV</td>\n",
              "      <td>Luc D</td>\n",
              "      <td>http://www.tripadvisor.com/Hotel_Review-g32172...</td>\n",
              "      <td>http://www.bestwestern.com</td>\n",
              "    </tr>\n",
              "  </tbody>\n",
              "</table>\n",
              "<p>5 rows × 26 columns</p>\n",
              "</div>\n",
              "      <button class=\"colab-df-convert\" onclick=\"convertToInteractive('df-8180549e-03e7-4d46-8db8-1041b65c36f0')\"\n",
              "              title=\"Convert this dataframe to an interactive table.\"\n",
              "              style=\"display:none;\">\n",
              "        \n",
              "  <svg xmlns=\"http://www.w3.org/2000/svg\" height=\"24px\"viewBox=\"0 0 24 24\"\n",
              "       width=\"24px\">\n",
              "    <path d=\"M0 0h24v24H0V0z\" fill=\"none\"/>\n",
              "    <path d=\"M18.56 5.44l.94 2.06.94-2.06 2.06-.94-2.06-.94-.94-2.06-.94 2.06-2.06.94zm-11 1L8.5 8.5l.94-2.06 2.06-.94-2.06-.94L8.5 2.5l-.94 2.06-2.06.94zm10 10l.94 2.06.94-2.06 2.06-.94-2.06-.94-.94-2.06-.94 2.06-2.06.94z\"/><path d=\"M17.41 7.96l-1.37-1.37c-.4-.4-.92-.59-1.43-.59-.52 0-1.04.2-1.43.59L10.3 9.45l-7.72 7.72c-.78.78-.78 2.05 0 2.83L4 21.41c.39.39.9.59 1.41.59.51 0 1.02-.2 1.41-.59l7.78-7.78 2.81-2.81c.8-.78.8-2.07 0-2.86zM5.41 20L4 18.59l7.72-7.72 1.47 1.35L5.41 20z\"/>\n",
              "  </svg>\n",
              "      </button>\n",
              "      \n",
              "  <style>\n",
              "    .colab-df-container {\n",
              "      display:flex;\n",
              "      flex-wrap:wrap;\n",
              "      gap: 12px;\n",
              "    }\n",
              "\n",
              "    .colab-df-convert {\n",
              "      background-color: #E8F0FE;\n",
              "      border: none;\n",
              "      border-radius: 50%;\n",
              "      cursor: pointer;\n",
              "      display: none;\n",
              "      fill: #1967D2;\n",
              "      height: 32px;\n",
              "      padding: 0 0 0 0;\n",
              "      width: 32px;\n",
              "    }\n",
              "\n",
              "    .colab-df-convert:hover {\n",
              "      background-color: #E2EBFA;\n",
              "      box-shadow: 0px 1px 2px rgba(60, 64, 67, 0.3), 0px 1px 3px 1px rgba(60, 64, 67, 0.15);\n",
              "      fill: #174EA6;\n",
              "    }\n",
              "\n",
              "    [theme=dark] .colab-df-convert {\n",
              "      background-color: #3B4455;\n",
              "      fill: #D2E3FC;\n",
              "    }\n",
              "\n",
              "    [theme=dark] .colab-df-convert:hover {\n",
              "      background-color: #434B5C;\n",
              "      box-shadow: 0px 1px 3px 1px rgba(0, 0, 0, 0.15);\n",
              "      filter: drop-shadow(0px 1px 2px rgba(0, 0, 0, 0.3));\n",
              "      fill: #FFFFFF;\n",
              "    }\n",
              "  </style>\n",
              "\n",
              "      <script>\n",
              "        const buttonEl =\n",
              "          document.querySelector('#df-8180549e-03e7-4d46-8db8-1041b65c36f0 button.colab-df-convert');\n",
              "        buttonEl.style.display =\n",
              "          google.colab.kernel.accessAllowed ? 'block' : 'none';\n",
              "\n",
              "        async function convertToInteractive(key) {\n",
              "          const element = document.querySelector('#df-8180549e-03e7-4d46-8db8-1041b65c36f0');\n",
              "          const dataTable =\n",
              "            await google.colab.kernel.invokeFunction('convertToInteractive',\n",
              "                                                     [key], {});\n",
              "          if (!dataTable) return;\n",
              "\n",
              "          const docLinkHtml = 'Like what you see? Visit the ' +\n",
              "            '<a target=\"_blank\" href=https://colab.research.google.com/notebooks/data_table.ipynb>data table notebook</a>'\n",
              "            + ' to learn more about interactive tables.';\n",
              "          element.innerHTML = '';\n",
              "          dataTable['output_type'] = 'display_data';\n",
              "          await google.colab.output.renderOutput(dataTable, element);\n",
              "          const docLink = document.createElement('div');\n",
              "          docLink.innerHTML = docLinkHtml;\n",
              "          element.appendChild(docLink);\n",
              "        }\n",
              "      </script>\n",
              "    </div>\n",
              "  </div>\n",
              "  "
            ]
          },
          "metadata": {},
          "execution_count": 9
        }
      ],
      "source": [
        "#Overview (five rows) of reviews2\n",
        "reviews2.head()"
      ],
      "metadata": {
        "pycharm": {
          "name": "#%%\n"
        },
        "colab": {
          "base_uri": "https://localhost:8080/",
          "height": 629
        },
        "id": "7by8eKZDcczT",
        "outputId": "18c8310d-d47b-4266-84e1-847321914d08"
      }
    },
    {
      "cell_type": "code",
      "execution_count": 10,
      "outputs": [
        {
          "output_type": "execute_result",
          "data": {
            "text/plain": [
              "                  address categories      city country   latitude  longitude  \\\n",
              "0  Riviera San Nicol 11/a     Hotels  Mableton      US  45.421611  12.376187   \n",
              "1  Riviera San Nicol 11/a     Hotels  Mableton      US  45.421611  12.376187   \n",
              "2  Riviera San Nicol 11/a     Hotels  Mableton      US  45.421611  12.376187   \n",
              "3  Riviera San Nicol 11/a     Hotels  Mableton      US  45.421611  12.376187   \n",
              "4  Riviera San Nicol 11/a     Hotels  Mableton      US  45.421611  12.376187   \n",
              "\n",
              "                 name postalCode province          reviews.date  \\\n",
              "0  Hotel Russo Palace      30126       GA  2013-09-22T00:00:00Z   \n",
              "1  Hotel Russo Palace      30126       GA  2015-04-03T00:00:00Z   \n",
              "2  Hotel Russo Palace      30126       GA  2014-05-13T00:00:00Z   \n",
              "3  Hotel Russo Palace      30126       GA  2013-10-27T00:00:00Z   \n",
              "4  Hotel Russo Palace      30126       GA  2015-03-05T00:00:00Z   \n",
              "\n",
              "      reviews.dateAdded  reviews.doRecommend  reviews.id  reviews.rating  \\\n",
              "0  2016-10-24T00:00:25Z                  NaN         NaN             4.0   \n",
              "1  2016-10-24T00:00:25Z                  NaN         NaN             5.0   \n",
              "2  2016-10-24T00:00:25Z                  NaN         NaN             5.0   \n",
              "3  2016-10-24T00:00:25Z                  NaN         NaN             5.0   \n",
              "4  2016-10-24T00:00:25Z                  NaN         NaN             5.0   \n",
              "\n",
              "                                        reviews.text  \\\n",
              "0  Pleasant 10 min walk along the sea front to th...   \n",
              "1  Really lovely hotel. Stayed on the very top fl...   \n",
              "2  Ett mycket bra hotell. Det som drog ner betyge...   \n",
              "3  We stayed here for four nights in October. The...   \n",
              "4  We stayed here for four nights in October. The...   \n",
              "\n",
              "                        reviews.title reviews.userCity reviews.username  \\\n",
              "0  Good location away from the crouds              NaN      Russ (kent)   \n",
              "1      Great hotel with Jacuzzi bath!              NaN       A Traveler   \n",
              "2                         Lugnt l��ge              NaN             Maud   \n",
              "3          Good location on the Lido.              NaN            Julie   \n",
              "4              ������ ���������������              NaN         sungchul   \n",
              "\n",
              "  reviews.userProvince  \n",
              "0                  NaN  \n",
              "1                  NaN  \n",
              "2                  NaN  \n",
              "3                  NaN  \n",
              "4                  NaN  "
            ],
            "text/html": [
              "\n",
              "  <div id=\"df-e9eaaad6-8495-4004-8c4c-69c2b3df0962\">\n",
              "    <div class=\"colab-df-container\">\n",
              "      <div>\n",
              "<style scoped>\n",
              "    .dataframe tbody tr th:only-of-type {\n",
              "        vertical-align: middle;\n",
              "    }\n",
              "\n",
              "    .dataframe tbody tr th {\n",
              "        vertical-align: top;\n",
              "    }\n",
              "\n",
              "    .dataframe thead th {\n",
              "        text-align: right;\n",
              "    }\n",
              "</style>\n",
              "<table border=\"1\" class=\"dataframe\">\n",
              "  <thead>\n",
              "    <tr style=\"text-align: right;\">\n",
              "      <th></th>\n",
              "      <th>address</th>\n",
              "      <th>categories</th>\n",
              "      <th>city</th>\n",
              "      <th>country</th>\n",
              "      <th>latitude</th>\n",
              "      <th>longitude</th>\n",
              "      <th>name</th>\n",
              "      <th>postalCode</th>\n",
              "      <th>province</th>\n",
              "      <th>reviews.date</th>\n",
              "      <th>reviews.dateAdded</th>\n",
              "      <th>reviews.doRecommend</th>\n",
              "      <th>reviews.id</th>\n",
              "      <th>reviews.rating</th>\n",
              "      <th>reviews.text</th>\n",
              "      <th>reviews.title</th>\n",
              "      <th>reviews.userCity</th>\n",
              "      <th>reviews.username</th>\n",
              "      <th>reviews.userProvince</th>\n",
              "    </tr>\n",
              "  </thead>\n",
              "  <tbody>\n",
              "    <tr>\n",
              "      <th>0</th>\n",
              "      <td>Riviera San Nicol 11/a</td>\n",
              "      <td>Hotels</td>\n",
              "      <td>Mableton</td>\n",
              "      <td>US</td>\n",
              "      <td>45.421611</td>\n",
              "      <td>12.376187</td>\n",
              "      <td>Hotel Russo Palace</td>\n",
              "      <td>30126</td>\n",
              "      <td>GA</td>\n",
              "      <td>2013-09-22T00:00:00Z</td>\n",
              "      <td>2016-10-24T00:00:25Z</td>\n",
              "      <td>NaN</td>\n",
              "      <td>NaN</td>\n",
              "      <td>4.0</td>\n",
              "      <td>Pleasant 10 min walk along the sea front to th...</td>\n",
              "      <td>Good location away from the crouds</td>\n",
              "      <td>NaN</td>\n",
              "      <td>Russ (kent)</td>\n",
              "      <td>NaN</td>\n",
              "    </tr>\n",
              "    <tr>\n",
              "      <th>1</th>\n",
              "      <td>Riviera San Nicol 11/a</td>\n",
              "      <td>Hotels</td>\n",
              "      <td>Mableton</td>\n",
              "      <td>US</td>\n",
              "      <td>45.421611</td>\n",
              "      <td>12.376187</td>\n",
              "      <td>Hotel Russo Palace</td>\n",
              "      <td>30126</td>\n",
              "      <td>GA</td>\n",
              "      <td>2015-04-03T00:00:00Z</td>\n",
              "      <td>2016-10-24T00:00:25Z</td>\n",
              "      <td>NaN</td>\n",
              "      <td>NaN</td>\n",
              "      <td>5.0</td>\n",
              "      <td>Really lovely hotel. Stayed on the very top fl...</td>\n",
              "      <td>Great hotel with Jacuzzi bath!</td>\n",
              "      <td>NaN</td>\n",
              "      <td>A Traveler</td>\n",
              "      <td>NaN</td>\n",
              "    </tr>\n",
              "    <tr>\n",
              "      <th>2</th>\n",
              "      <td>Riviera San Nicol 11/a</td>\n",
              "      <td>Hotels</td>\n",
              "      <td>Mableton</td>\n",
              "      <td>US</td>\n",
              "      <td>45.421611</td>\n",
              "      <td>12.376187</td>\n",
              "      <td>Hotel Russo Palace</td>\n",
              "      <td>30126</td>\n",
              "      <td>GA</td>\n",
              "      <td>2014-05-13T00:00:00Z</td>\n",
              "      <td>2016-10-24T00:00:25Z</td>\n",
              "      <td>NaN</td>\n",
              "      <td>NaN</td>\n",
              "      <td>5.0</td>\n",
              "      <td>Ett mycket bra hotell. Det som drog ner betyge...</td>\n",
              "      <td>Lugnt l��ge</td>\n",
              "      <td>NaN</td>\n",
              "      <td>Maud</td>\n",
              "      <td>NaN</td>\n",
              "    </tr>\n",
              "    <tr>\n",
              "      <th>3</th>\n",
              "      <td>Riviera San Nicol 11/a</td>\n",
              "      <td>Hotels</td>\n",
              "      <td>Mableton</td>\n",
              "      <td>US</td>\n",
              "      <td>45.421611</td>\n",
              "      <td>12.376187</td>\n",
              "      <td>Hotel Russo Palace</td>\n",
              "      <td>30126</td>\n",
              "      <td>GA</td>\n",
              "      <td>2013-10-27T00:00:00Z</td>\n",
              "      <td>2016-10-24T00:00:25Z</td>\n",
              "      <td>NaN</td>\n",
              "      <td>NaN</td>\n",
              "      <td>5.0</td>\n",
              "      <td>We stayed here for four nights in October. The...</td>\n",
              "      <td>Good location on the Lido.</td>\n",
              "      <td>NaN</td>\n",
              "      <td>Julie</td>\n",
              "      <td>NaN</td>\n",
              "    </tr>\n",
              "    <tr>\n",
              "      <th>4</th>\n",
              "      <td>Riviera San Nicol 11/a</td>\n",
              "      <td>Hotels</td>\n",
              "      <td>Mableton</td>\n",
              "      <td>US</td>\n",
              "      <td>45.421611</td>\n",
              "      <td>12.376187</td>\n",
              "      <td>Hotel Russo Palace</td>\n",
              "      <td>30126</td>\n",
              "      <td>GA</td>\n",
              "      <td>2015-03-05T00:00:00Z</td>\n",
              "      <td>2016-10-24T00:00:25Z</td>\n",
              "      <td>NaN</td>\n",
              "      <td>NaN</td>\n",
              "      <td>5.0</td>\n",
              "      <td>We stayed here for four nights in October. The...</td>\n",
              "      <td>������ ���������������</td>\n",
              "      <td>NaN</td>\n",
              "      <td>sungchul</td>\n",
              "      <td>NaN</td>\n",
              "    </tr>\n",
              "  </tbody>\n",
              "</table>\n",
              "</div>\n",
              "      <button class=\"colab-df-convert\" onclick=\"convertToInteractive('df-e9eaaad6-8495-4004-8c4c-69c2b3df0962')\"\n",
              "              title=\"Convert this dataframe to an interactive table.\"\n",
              "              style=\"display:none;\">\n",
              "        \n",
              "  <svg xmlns=\"http://www.w3.org/2000/svg\" height=\"24px\"viewBox=\"0 0 24 24\"\n",
              "       width=\"24px\">\n",
              "    <path d=\"M0 0h24v24H0V0z\" fill=\"none\"/>\n",
              "    <path d=\"M18.56 5.44l.94 2.06.94-2.06 2.06-.94-2.06-.94-.94-2.06-.94 2.06-2.06.94zm-11 1L8.5 8.5l.94-2.06 2.06-.94-2.06-.94L8.5 2.5l-.94 2.06-2.06.94zm10 10l.94 2.06.94-2.06 2.06-.94-2.06-.94-.94-2.06-.94 2.06-2.06.94z\"/><path d=\"M17.41 7.96l-1.37-1.37c-.4-.4-.92-.59-1.43-.59-.52 0-1.04.2-1.43.59L10.3 9.45l-7.72 7.72c-.78.78-.78 2.05 0 2.83L4 21.41c.39.39.9.59 1.41.59.51 0 1.02-.2 1.41-.59l7.78-7.78 2.81-2.81c.8-.78.8-2.07 0-2.86zM5.41 20L4 18.59l7.72-7.72 1.47 1.35L5.41 20z\"/>\n",
              "  </svg>\n",
              "      </button>\n",
              "      \n",
              "  <style>\n",
              "    .colab-df-container {\n",
              "      display:flex;\n",
              "      flex-wrap:wrap;\n",
              "      gap: 12px;\n",
              "    }\n",
              "\n",
              "    .colab-df-convert {\n",
              "      background-color: #E8F0FE;\n",
              "      border: none;\n",
              "      border-radius: 50%;\n",
              "      cursor: pointer;\n",
              "      display: none;\n",
              "      fill: #1967D2;\n",
              "      height: 32px;\n",
              "      padding: 0 0 0 0;\n",
              "      width: 32px;\n",
              "    }\n",
              "\n",
              "    .colab-df-convert:hover {\n",
              "      background-color: #E2EBFA;\n",
              "      box-shadow: 0px 1px 2px rgba(60, 64, 67, 0.3), 0px 1px 3px 1px rgba(60, 64, 67, 0.15);\n",
              "      fill: #174EA6;\n",
              "    }\n",
              "\n",
              "    [theme=dark] .colab-df-convert {\n",
              "      background-color: #3B4455;\n",
              "      fill: #D2E3FC;\n",
              "    }\n",
              "\n",
              "    [theme=dark] .colab-df-convert:hover {\n",
              "      background-color: #434B5C;\n",
              "      box-shadow: 0px 1px 3px 1px rgba(0, 0, 0, 0.15);\n",
              "      filter: drop-shadow(0px 1px 2px rgba(0, 0, 0, 0.3));\n",
              "      fill: #FFFFFF;\n",
              "    }\n",
              "  </style>\n",
              "\n",
              "      <script>\n",
              "        const buttonEl =\n",
              "          document.querySelector('#df-e9eaaad6-8495-4004-8c4c-69c2b3df0962 button.colab-df-convert');\n",
              "        buttonEl.style.display =\n",
              "          google.colab.kernel.accessAllowed ? 'block' : 'none';\n",
              "\n",
              "        async function convertToInteractive(key) {\n",
              "          const element = document.querySelector('#df-e9eaaad6-8495-4004-8c4c-69c2b3df0962');\n",
              "          const dataTable =\n",
              "            await google.colab.kernel.invokeFunction('convertToInteractive',\n",
              "                                                     [key], {});\n",
              "          if (!dataTable) return;\n",
              "\n",
              "          const docLinkHtml = 'Like what you see? Visit the ' +\n",
              "            '<a target=\"_blank\" href=https://colab.research.google.com/notebooks/data_table.ipynb>data table notebook</a>'\n",
              "            + ' to learn more about interactive tables.';\n",
              "          element.innerHTML = '';\n",
              "          dataTable['output_type'] = 'display_data';\n",
              "          await google.colab.output.renderOutput(dataTable, element);\n",
              "          const docLink = document.createElement('div');\n",
              "          docLink.innerHTML = docLinkHtml;\n",
              "          element.appendChild(docLink);\n",
              "        }\n",
              "      </script>\n",
              "    </div>\n",
              "  </div>\n",
              "  "
            ]
          },
          "metadata": {},
          "execution_count": 10
        }
      ],
      "source": [
        "#Overview (five rows) of reviews3\n",
        "reviews3.head()"
      ],
      "metadata": {
        "pycharm": {
          "name": "#%%\n"
        },
        "colab": {
          "base_uri": "https://localhost:8080/",
          "height": 530
        },
        "id": "UUWOfNkCcczT",
        "outputId": "3004cddd-43cd-4a27-c0d4-ffa749bd8097"
      }
    },
    {
      "cell_type": "code",
      "execution_count": 11,
      "outputs": [],
      "source": [
        "#The columns are overall similar, so it is acceptable to concatente datasets\n",
        "\n",
        "#concatenating the data frames\n",
        "frames = [reviews1, reviews2, reviews3]\n",
        "\n",
        "reviews = pd.concat(frames)\n",
        "\n",
        "#concat keeps the original indexes from dataframes\n",
        "# -> use reset_index for assigning unique indexes\n",
        "reviews.reset_index(inplace=True)\n",
        "\n",
        "#reset_index results in the formation of a unique index column that contains original indexes\n",
        "#-> drop the index column\n",
        "reviews.drop(columns=\"index\", inplace=True)"
      ],
      "metadata": {
        "pycharm": {
          "name": "#%%\n"
        },
        "id": "Lw39zbUgcczU"
      }
    },
    {
      "cell_type": "code",
      "execution_count": 12,
      "outputs": [
        {
          "output_type": "stream",
          "name": "stdout",
          "text": [
            "already dropped\n"
          ]
        }
      ],
      "source": [
        "# Checking that the column was successfully dropped\n",
        "try:\n",
        "    reviews.drop(columns=[\"index\"], inplace = False)\n",
        "except:\n",
        "    print(\"already dropped\")"
      ],
      "metadata": {
        "pycharm": {
          "name": "#%%\n"
        },
        "colab": {
          "base_uri": "https://localhost:8080/"
        },
        "id": "OUwqT-kZcczU",
        "outputId": "df0119d1-a9e9-4387-8eff-4e4cf7849635"
      }
    },
    {
      "cell_type": "code",
      "execution_count": 13,
      "outputs": [
        {
          "output_type": "execute_result",
          "data": {
            "text/plain": [
              "'Rancho Valencia Resort Spa'"
            ],
            "application/vnd.google.colaboratory.intrinsic+json": {
              "type": "string"
            }
          },
          "metadata": {},
          "execution_count": 13
        }
      ],
      "source": [
        "#Checking that the indexes are unique\n",
        "reviews[\"name\"][0]\n",
        "#If the index was not unique, this would return 3 results (from 3 datasets) instead of 1"
      ],
      "metadata": {
        "pycharm": {
          "name": "#%%\n"
        },
        "colab": {
          "base_uri": "https://localhost:8080/",
          "height": 36
        },
        "id": "sHgc3iQncczV",
        "outputId": "cdae437c-5a2a-43d1-c180-d89f21bd3f22"
      }
    },
    {
      "cell_type": "code",
      "execution_count": 14,
      "outputs": [
        {
          "output_type": "stream",
          "name": "stdout",
          "text": [
            "shape of reviews1 is (10000, 25)\n",
            "shape of reviews2 is (10000, 26)\n",
            "shape of reviews3 is (35912, 19)\n",
            "shape of reviews is (55912, 28)\n"
          ]
        },
        {
          "output_type": "execute_result",
          "data": {
            "text/plain": [
              "(55912, 28)"
            ]
          },
          "metadata": {},
          "execution_count": 14
        }
      ],
      "source": [
        "#The new number of rows is a sum of the rows from reviews1, reviews2, reviews3\n",
        "#This means there are no duplicates in the dataset - otherwise .concat() would remove them\n",
        "\n",
        "print(f\"shape of reviews1 is {reviews1.shape}\")\n",
        "print(f\"shape of reviews2 is {reviews2.shape}\")\n",
        "print(f\"shape of reviews3 is {reviews3.shape}\")\n",
        "print(f\"shape of reviews is {reviews.shape}\")\n",
        "reviews.shape"
      ],
      "metadata": {
        "pycharm": {
          "name": "#%%\n"
        },
        "colab": {
          "base_uri": "https://localhost:8080/"
        },
        "id": "66RYyCe5cczV",
        "outputId": "bc4fe15d-8c8f-49bc-99e3-b07a03ceb143"
      }
    },
    {
      "cell_type": "code",
      "execution_count": 15,
      "outputs": [
        {
          "output_type": "execute_result",
          "data": {
            "text/plain": [
              "id                       object\n",
              "dateAdded                object\n",
              "dateUpdated              object\n",
              "address                  object\n",
              "categories               object\n",
              "primaryCategories        object\n",
              "city                     object\n",
              "country                  object\n",
              "keys                     object\n",
              "latitude                float64\n",
              "longitude               float64\n",
              "name                     object\n",
              "postalCode               object\n",
              "province                 object\n",
              "reviews.date             object\n",
              "reviews.dateSeen         object\n",
              "reviews.rating          float64\n",
              "reviews.sourceURLs       object\n",
              "reviews.text             object\n",
              "reviews.title            object\n",
              "reviews.userCity         object\n",
              "reviews.userProvince     object\n",
              "reviews.username         object\n",
              "sourceURLs               object\n",
              "websites                 object\n",
              "reviews.dateAdded        object\n",
              "reviews.doRecommend     float64\n",
              "reviews.id              float64\n",
              "dtype: object"
            ]
          },
          "metadata": {},
          "execution_count": 15
        }
      ],
      "source": [
        "#The data types of reviews are appropriate\n",
        "reviews.dtypes"
      ],
      "metadata": {
        "pycharm": {
          "name": "#%%\n"
        },
        "colab": {
          "base_uri": "https://localhost:8080/"
        },
        "id": "vt0LsT_fcczW",
        "outputId": "07cadba9-8e8f-43c5-d17b-d3e5fd6cbfd2"
      }
    },
    {
      "cell_type": "code",
      "execution_count": 16,
      "outputs": [
        {
          "output_type": "execute_result",
          "data": {
            "text/plain": [
              "                     id             dateAdded           dateUpdated  \\\n",
              "0  AVwc252WIN2L1WUfpqLP  2016-10-30T21:42:42Z  2018-09-10T21:06:27Z   \n",
              "1  AVwc252WIN2L1WUfpqLP  2016-10-30T21:42:42Z  2018-09-10T21:06:27Z   \n",
              "2  AVwc252WIN2L1WUfpqLP  2016-10-30T21:42:42Z  2018-09-10T21:06:27Z   \n",
              "3  AVwdOclqIN2L1WUfti38  2015-11-28T19:19:35Z  2018-09-10T21:06:16Z   \n",
              "4  AVwdOclqIN2L1WUfti38  2015-11-28T19:19:35Z  2018-09-10T21:06:16Z   \n",
              "\n",
              "             address                                         categories  \\\n",
              "0  5921 Valencia Cir  Hotels,Hotels and motels,Hotel and motel reser...   \n",
              "1  5921 Valencia Cir  Hotels,Hotels and motels,Hotel and motel reser...   \n",
              "2  5921 Valencia Cir  Hotels,Hotels and motels,Hotel and motel reser...   \n",
              "3     7520 Teague Rd  Hotels,Hotels and motels,Travel agencies and b...   \n",
              "4     7520 Teague Rd  Hotels,Hotels and motels,Travel agencies and b...   \n",
              "\n",
              "               primaryCategories             city country  \\\n",
              "0  Accommodation & Food Services  Rancho Santa Fe      US   \n",
              "1  Accommodation & Food Services  Rancho Santa Fe      US   \n",
              "2  Accommodation & Food Services  Rancho Santa Fe      US   \n",
              "3  Accommodation & Food Services          Hanover      US   \n",
              "4  Accommodation & Food Services          Hanover      US   \n",
              "\n",
              "                                            keys   latitude  ...  \\\n",
              "0  us/ca/ranchosantafe/5921valenciacir/359754519  32.990959  ...   \n",
              "1  us/ca/ranchosantafe/5921valenciacir/359754519  32.990959  ...   \n",
              "2  us/ca/ranchosantafe/5921valenciacir/359754519  32.990959  ...   \n",
              "3         us/md/hanover/7520teaguerd/-2043779672  39.155929  ...   \n",
              "4         us/md/hanover/7520teaguerd/-2043779672  39.155929  ...   \n",
              "\n",
              "                                        reviews.text  \\\n",
              "0  Our experience at Rancho Valencia was absolute...   \n",
              "1  Amazing place. Everyone was extremely warm and...   \n",
              "2  We booked a 3 night stay at Rancho Valencia to...   \n",
              "3  Currently in bed writing this for the past hr ...   \n",
              "4  I live in Md and the Aloft is my Home away fro...   \n",
              "\n",
              "                              reviews.title reviews.userCity  \\\n",
              "0           Best romantic vacation ever!!!!              NaN   \n",
              "1                      Sweet sweet serenity              NaN   \n",
              "2           Amazing Property and Experience              NaN   \n",
              "3  Never again...beware, if you want sleep.         Richmond   \n",
              "4                      ALWAYS GREAT STAY...           Laurel   \n",
              "\n",
              "  reviews.userProvince reviews.username  \\\n",
              "0                  NaN            Paula   \n",
              "1                  NaN                D   \n",
              "2                  NaN              Ron   \n",
              "3                   VA        jaeem2016   \n",
              "4                   MD       MamaNiaOne   \n",
              "\n",
              "                                          sourceURLs  \\\n",
              "0  http://www.hotels.com/ho125419/%25252525253Flo...   \n",
              "1  http://www.hotels.com/ho125419/%25252525253Flo...   \n",
              "2  http://www.hotels.com/ho125419/%25252525253Flo...   \n",
              "3  http://www.yellowbook.com/profile/aloft-arunde...   \n",
              "4  http://www.yellowbook.com/profile/aloft-arunde...   \n",
              "\n",
              "                                            websites reviews.dateAdded  \\\n",
              "0                      http://www.ranchovalencia.com               NaN   \n",
              "1                      http://www.ranchovalencia.com               NaN   \n",
              "2                      http://www.ranchovalencia.com               NaN   \n",
              "3  http://www.starwoodhotels.com/alofthotels/prop...               NaN   \n",
              "4  http://www.starwoodhotels.com/alofthotels/prop...               NaN   \n",
              "\n",
              "  reviews.doRecommend reviews.id  \n",
              "0                 NaN        NaN  \n",
              "1                 NaN        NaN  \n",
              "2                 NaN        NaN  \n",
              "3                 NaN        NaN  \n",
              "4                 NaN        NaN  \n",
              "\n",
              "[5 rows x 28 columns]"
            ],
            "text/html": [
              "\n",
              "  <div id=\"df-7b0de983-2a1e-4bf6-b592-13165f32f786\">\n",
              "    <div class=\"colab-df-container\">\n",
              "      <div>\n",
              "<style scoped>\n",
              "    .dataframe tbody tr th:only-of-type {\n",
              "        vertical-align: middle;\n",
              "    }\n",
              "\n",
              "    .dataframe tbody tr th {\n",
              "        vertical-align: top;\n",
              "    }\n",
              "\n",
              "    .dataframe thead th {\n",
              "        text-align: right;\n",
              "    }\n",
              "</style>\n",
              "<table border=\"1\" class=\"dataframe\">\n",
              "  <thead>\n",
              "    <tr style=\"text-align: right;\">\n",
              "      <th></th>\n",
              "      <th>id</th>\n",
              "      <th>dateAdded</th>\n",
              "      <th>dateUpdated</th>\n",
              "      <th>address</th>\n",
              "      <th>categories</th>\n",
              "      <th>primaryCategories</th>\n",
              "      <th>city</th>\n",
              "      <th>country</th>\n",
              "      <th>keys</th>\n",
              "      <th>latitude</th>\n",
              "      <th>...</th>\n",
              "      <th>reviews.text</th>\n",
              "      <th>reviews.title</th>\n",
              "      <th>reviews.userCity</th>\n",
              "      <th>reviews.userProvince</th>\n",
              "      <th>reviews.username</th>\n",
              "      <th>sourceURLs</th>\n",
              "      <th>websites</th>\n",
              "      <th>reviews.dateAdded</th>\n",
              "      <th>reviews.doRecommend</th>\n",
              "      <th>reviews.id</th>\n",
              "    </tr>\n",
              "  </thead>\n",
              "  <tbody>\n",
              "    <tr>\n",
              "      <th>0</th>\n",
              "      <td>AVwc252WIN2L1WUfpqLP</td>\n",
              "      <td>2016-10-30T21:42:42Z</td>\n",
              "      <td>2018-09-10T21:06:27Z</td>\n",
              "      <td>5921 Valencia Cir</td>\n",
              "      <td>Hotels,Hotels and motels,Hotel and motel reser...</td>\n",
              "      <td>Accommodation &amp; Food Services</td>\n",
              "      <td>Rancho Santa Fe</td>\n",
              "      <td>US</td>\n",
              "      <td>us/ca/ranchosantafe/5921valenciacir/359754519</td>\n",
              "      <td>32.990959</td>\n",
              "      <td>...</td>\n",
              "      <td>Our experience at Rancho Valencia was absolute...</td>\n",
              "      <td>Best romantic vacation ever!!!!</td>\n",
              "      <td>NaN</td>\n",
              "      <td>NaN</td>\n",
              "      <td>Paula</td>\n",
              "      <td>http://www.hotels.com/ho125419/%25252525253Flo...</td>\n",
              "      <td>http://www.ranchovalencia.com</td>\n",
              "      <td>NaN</td>\n",
              "      <td>NaN</td>\n",
              "      <td>NaN</td>\n",
              "    </tr>\n",
              "    <tr>\n",
              "      <th>1</th>\n",
              "      <td>AVwc252WIN2L1WUfpqLP</td>\n",
              "      <td>2016-10-30T21:42:42Z</td>\n",
              "      <td>2018-09-10T21:06:27Z</td>\n",
              "      <td>5921 Valencia Cir</td>\n",
              "      <td>Hotels,Hotels and motels,Hotel and motel reser...</td>\n",
              "      <td>Accommodation &amp; Food Services</td>\n",
              "      <td>Rancho Santa Fe</td>\n",
              "      <td>US</td>\n",
              "      <td>us/ca/ranchosantafe/5921valenciacir/359754519</td>\n",
              "      <td>32.990959</td>\n",
              "      <td>...</td>\n",
              "      <td>Amazing place. Everyone was extremely warm and...</td>\n",
              "      <td>Sweet sweet serenity</td>\n",
              "      <td>NaN</td>\n",
              "      <td>NaN</td>\n",
              "      <td>D</td>\n",
              "      <td>http://www.hotels.com/ho125419/%25252525253Flo...</td>\n",
              "      <td>http://www.ranchovalencia.com</td>\n",
              "      <td>NaN</td>\n",
              "      <td>NaN</td>\n",
              "      <td>NaN</td>\n",
              "    </tr>\n",
              "    <tr>\n",
              "      <th>2</th>\n",
              "      <td>AVwc252WIN2L1WUfpqLP</td>\n",
              "      <td>2016-10-30T21:42:42Z</td>\n",
              "      <td>2018-09-10T21:06:27Z</td>\n",
              "      <td>5921 Valencia Cir</td>\n",
              "      <td>Hotels,Hotels and motels,Hotel and motel reser...</td>\n",
              "      <td>Accommodation &amp; Food Services</td>\n",
              "      <td>Rancho Santa Fe</td>\n",
              "      <td>US</td>\n",
              "      <td>us/ca/ranchosantafe/5921valenciacir/359754519</td>\n",
              "      <td>32.990959</td>\n",
              "      <td>...</td>\n",
              "      <td>We booked a 3 night stay at Rancho Valencia to...</td>\n",
              "      <td>Amazing Property and Experience</td>\n",
              "      <td>NaN</td>\n",
              "      <td>NaN</td>\n",
              "      <td>Ron</td>\n",
              "      <td>http://www.hotels.com/ho125419/%25252525253Flo...</td>\n",
              "      <td>http://www.ranchovalencia.com</td>\n",
              "      <td>NaN</td>\n",
              "      <td>NaN</td>\n",
              "      <td>NaN</td>\n",
              "    </tr>\n",
              "    <tr>\n",
              "      <th>3</th>\n",
              "      <td>AVwdOclqIN2L1WUfti38</td>\n",
              "      <td>2015-11-28T19:19:35Z</td>\n",
              "      <td>2018-09-10T21:06:16Z</td>\n",
              "      <td>7520 Teague Rd</td>\n",
              "      <td>Hotels,Hotels and motels,Travel agencies and b...</td>\n",
              "      <td>Accommodation &amp; Food Services</td>\n",
              "      <td>Hanover</td>\n",
              "      <td>US</td>\n",
              "      <td>us/md/hanover/7520teaguerd/-2043779672</td>\n",
              "      <td>39.155929</td>\n",
              "      <td>...</td>\n",
              "      <td>Currently in bed writing this for the past hr ...</td>\n",
              "      <td>Never again...beware, if you want sleep.</td>\n",
              "      <td>Richmond</td>\n",
              "      <td>VA</td>\n",
              "      <td>jaeem2016</td>\n",
              "      <td>http://www.yellowbook.com/profile/aloft-arunde...</td>\n",
              "      <td>http://www.starwoodhotels.com/alofthotels/prop...</td>\n",
              "      <td>NaN</td>\n",
              "      <td>NaN</td>\n",
              "      <td>NaN</td>\n",
              "    </tr>\n",
              "    <tr>\n",
              "      <th>4</th>\n",
              "      <td>AVwdOclqIN2L1WUfti38</td>\n",
              "      <td>2015-11-28T19:19:35Z</td>\n",
              "      <td>2018-09-10T21:06:16Z</td>\n",
              "      <td>7520 Teague Rd</td>\n",
              "      <td>Hotels,Hotels and motels,Travel agencies and b...</td>\n",
              "      <td>Accommodation &amp; Food Services</td>\n",
              "      <td>Hanover</td>\n",
              "      <td>US</td>\n",
              "      <td>us/md/hanover/7520teaguerd/-2043779672</td>\n",
              "      <td>39.155929</td>\n",
              "      <td>...</td>\n",
              "      <td>I live in Md and the Aloft is my Home away fro...</td>\n",
              "      <td>ALWAYS GREAT STAY...</td>\n",
              "      <td>Laurel</td>\n",
              "      <td>MD</td>\n",
              "      <td>MamaNiaOne</td>\n",
              "      <td>http://www.yellowbook.com/profile/aloft-arunde...</td>\n",
              "      <td>http://www.starwoodhotels.com/alofthotels/prop...</td>\n",
              "      <td>NaN</td>\n",
              "      <td>NaN</td>\n",
              "      <td>NaN</td>\n",
              "    </tr>\n",
              "  </tbody>\n",
              "</table>\n",
              "<p>5 rows × 28 columns</p>\n",
              "</div>\n",
              "      <button class=\"colab-df-convert\" onclick=\"convertToInteractive('df-7b0de983-2a1e-4bf6-b592-13165f32f786')\"\n",
              "              title=\"Convert this dataframe to an interactive table.\"\n",
              "              style=\"display:none;\">\n",
              "        \n",
              "  <svg xmlns=\"http://www.w3.org/2000/svg\" height=\"24px\"viewBox=\"0 0 24 24\"\n",
              "       width=\"24px\">\n",
              "    <path d=\"M0 0h24v24H0V0z\" fill=\"none\"/>\n",
              "    <path d=\"M18.56 5.44l.94 2.06.94-2.06 2.06-.94-2.06-.94-.94-2.06-.94 2.06-2.06.94zm-11 1L8.5 8.5l.94-2.06 2.06-.94-2.06-.94L8.5 2.5l-.94 2.06-2.06.94zm10 10l.94 2.06.94-2.06 2.06-.94-2.06-.94-.94-2.06-.94 2.06-2.06.94z\"/><path d=\"M17.41 7.96l-1.37-1.37c-.4-.4-.92-.59-1.43-.59-.52 0-1.04.2-1.43.59L10.3 9.45l-7.72 7.72c-.78.78-.78 2.05 0 2.83L4 21.41c.39.39.9.59 1.41.59.51 0 1.02-.2 1.41-.59l7.78-7.78 2.81-2.81c.8-.78.8-2.07 0-2.86zM5.41 20L4 18.59l7.72-7.72 1.47 1.35L5.41 20z\"/>\n",
              "  </svg>\n",
              "      </button>\n",
              "      \n",
              "  <style>\n",
              "    .colab-df-container {\n",
              "      display:flex;\n",
              "      flex-wrap:wrap;\n",
              "      gap: 12px;\n",
              "    }\n",
              "\n",
              "    .colab-df-convert {\n",
              "      background-color: #E8F0FE;\n",
              "      border: none;\n",
              "      border-radius: 50%;\n",
              "      cursor: pointer;\n",
              "      display: none;\n",
              "      fill: #1967D2;\n",
              "      height: 32px;\n",
              "      padding: 0 0 0 0;\n",
              "      width: 32px;\n",
              "    }\n",
              "\n",
              "    .colab-df-convert:hover {\n",
              "      background-color: #E2EBFA;\n",
              "      box-shadow: 0px 1px 2px rgba(60, 64, 67, 0.3), 0px 1px 3px 1px rgba(60, 64, 67, 0.15);\n",
              "      fill: #174EA6;\n",
              "    }\n",
              "\n",
              "    [theme=dark] .colab-df-convert {\n",
              "      background-color: #3B4455;\n",
              "      fill: #D2E3FC;\n",
              "    }\n",
              "\n",
              "    [theme=dark] .colab-df-convert:hover {\n",
              "      background-color: #434B5C;\n",
              "      box-shadow: 0px 1px 3px 1px rgba(0, 0, 0, 0.15);\n",
              "      filter: drop-shadow(0px 1px 2px rgba(0, 0, 0, 0.3));\n",
              "      fill: #FFFFFF;\n",
              "    }\n",
              "  </style>\n",
              "\n",
              "      <script>\n",
              "        const buttonEl =\n",
              "          document.querySelector('#df-7b0de983-2a1e-4bf6-b592-13165f32f786 button.colab-df-convert');\n",
              "        buttonEl.style.display =\n",
              "          google.colab.kernel.accessAllowed ? 'block' : 'none';\n",
              "\n",
              "        async function convertToInteractive(key) {\n",
              "          const element = document.querySelector('#df-7b0de983-2a1e-4bf6-b592-13165f32f786');\n",
              "          const dataTable =\n",
              "            await google.colab.kernel.invokeFunction('convertToInteractive',\n",
              "                                                     [key], {});\n",
              "          if (!dataTable) return;\n",
              "\n",
              "          const docLinkHtml = 'Like what you see? Visit the ' +\n",
              "            '<a target=\"_blank\" href=https://colab.research.google.com/notebooks/data_table.ipynb>data table notebook</a>'\n",
              "            + ' to learn more about interactive tables.';\n",
              "          element.innerHTML = '';\n",
              "          dataTable['output_type'] = 'display_data';\n",
              "          await google.colab.output.renderOutput(dataTable, element);\n",
              "          const docLink = document.createElement('div');\n",
              "          docLink.innerHTML = docLinkHtml;\n",
              "          element.appendChild(docLink);\n",
              "        }\n",
              "      </script>\n",
              "    </div>\n",
              "  </div>\n",
              "  "
            ]
          },
          "metadata": {},
          "execution_count": 16
        }
      ],
      "source": [
        "#Overview (five rows) of reviews\n",
        "reviews.head()"
      ],
      "metadata": {
        "pycharm": {
          "name": "#%%\n"
        },
        "colab": {
          "base_uri": "https://localhost:8080/",
          "height": 646
        },
        "id": "wlDw3vzmcczX",
        "outputId": "3e20becb-a0f6-4bb3-9f68-00c0d9e2f3ae"
      }
    },
    {
      "cell_type": "markdown",
      "source": [
        "**Redundant columns**"
      ],
      "metadata": {
        "collapsed": false,
        "pycharm": {
          "name": "#%% md\n"
        },
        "id": "z0gGJ3zfcczX"
      }
    },
    {
      "cell_type": "code",
      "execution_count": 17,
      "outputs": [],
      "source": [
        "#Dropping websites, keys and id as these are not relevant - I will generate my own keys later\n",
        "reviews.drop(columns=[\"reviews.sourceURLs\", \"sourceURLs\", \"websites\", \"keys\", \"id\"], inplace = True)"
      ],
      "metadata": {
        "pycharm": {
          "name": "#%%\n"
        },
        "id": "AOGYoq8WcczZ"
      }
    },
    {
      "cell_type": "code",
      "execution_count": 18,
      "outputs": [
        {
          "output_type": "stream",
          "name": "stdout",
          "text": [
            "already dropped\n"
          ]
        }
      ],
      "source": [
        "# Checking that the columns were successfully dropped\n",
        "try:\n",
        "    reviews.drop(columns=[\"reviews.sourceURLs\", \"sourceURLs\", \"websites\", \"keys\", \"ids\"], inplace = False)\n",
        "except:\n",
        "    print(\"already dropped\")"
      ],
      "metadata": {
        "pycharm": {
          "name": "#%%\n"
        },
        "colab": {
          "base_uri": "https://localhost:8080/"
        },
        "id": "iMl2Jvreccza",
        "outputId": "dbbc0f1e-ddcf-47bb-eb75-116e090d1f5f"
      }
    },
    {
      "cell_type": "markdown",
      "source": [
        "**Investigating nulls**"
      ],
      "metadata": {
        "collapsed": false,
        "pycharm": {
          "name": "#%% md\n"
        },
        "id": "NFevtUfsccza"
      }
    },
    {
      "cell_type": "code",
      "execution_count": 19,
      "outputs": [
        {
          "output_type": "execute_result",
          "data": {
            "text/plain": [
              "dateAdded                64.229504\n",
              "dateUpdated              64.229504\n",
              "address                   0.000000\n",
              "categories                0.000000\n",
              "primaryCategories        64.229504\n",
              "city                      0.000000\n",
              "country                   0.000000\n",
              "latitude                  0.153813\n",
              "longitude                 0.153813\n",
              "name                      0.000000\n",
              "postalCode                0.098369\n",
              "province                  0.000000\n",
              "reviews.date              0.463228\n",
              "reviews.dateSeen         64.229504\n",
              "reviews.rating            1.541708\n",
              "reviews.text              0.041136\n",
              "reviews.title             2.904564\n",
              "reviews.userCity         45.580555\n",
              "reviews.userProvince     45.948991\n",
              "reviews.username          0.076907\n",
              "reviews.dateAdded        35.770496\n",
              "reviews.doRecommend     100.000000\n",
              "reviews.id              100.000000\n",
              "dtype: float64"
            ]
          },
          "metadata": {},
          "execution_count": 19
        }
      ],
      "source": [
        "#counting nulls\n",
        "nulls= reviews.isnull().sum()\n",
        "\n",
        "#caulculating the percentage of nulls\n",
        "perc_nulls = (nulls/reviews.shape[0]) *100\n",
        "\n",
        "perc_nulls"
      ],
      "metadata": {
        "pycharm": {
          "name": "#%%\n"
        },
        "colab": {
          "base_uri": "https://localhost:8080/"
        },
        "id": "Y7A4F2r7ccza",
        "outputId": "18cd343a-0e2d-4b9f-ca90-b872ea7d0f25"
      }
    },
    {
      "cell_type": "markdown",
      "source": [
        "**Reviews.doRecommend** and **reviews.id** are **empty** (100% nulls)"
      ],
      "metadata": {
        "collapsed": false,
        "pycharm": {
          "name": "#%% md\n"
        },
        "id": "MyDUSAt1cczb"
      }
    },
    {
      "cell_type": "code",
      "execution_count": 20,
      "outputs": [
        {
          "output_type": "execute_result",
          "data": {
            "text/plain": [
              "reviews.doRecommend    100.0\n",
              "reviews.id             100.0\n",
              "dtype: float64"
            ]
          },
          "metadata": {},
          "execution_count": 20
        }
      ],
      "source": [
        "nulls= reviews[[\"reviews.doRecommend\", \"reviews.id\"]].isnull().sum()\n",
        "\n",
        "perc_nulls = (nulls/reviews.shape[0]) *100\n",
        "\n",
        "perc_nulls"
      ],
      "metadata": {
        "pycharm": {
          "name": "#%%\n"
        },
        "colab": {
          "base_uri": "https://localhost:8080/"
        },
        "id": "FulCrEMlcczb",
        "outputId": "41dab56d-e094-49a4-ddca-86fb68e50749"
      }
    },
    {
      "cell_type": "code",
      "execution_count": 21,
      "outputs": [],
      "source": [
        "#Dropping reviews.doRecommend and reviews.id because these are empty\n",
        "reviews.drop(columns=[\"reviews.doRecommend\", \"reviews.id\"], inplace = True)"
      ],
      "metadata": {
        "pycharm": {
          "name": "#%%\n"
        },
        "id": "qoODFybbcczb"
      }
    },
    {
      "cell_type": "code",
      "execution_count": 22,
      "outputs": [
        {
          "output_type": "stream",
          "name": "stdout",
          "text": [
            "already dropped\n"
          ]
        }
      ],
      "source": [
        "# Checking that the columns were successfully dropped\n",
        "try:\n",
        "    reviews.drop(columns=[\"reviews.doRecommend\", \"reviews.id\"], inplace = False)\n",
        "except:\n",
        "    print(\"already dropped\")"
      ],
      "metadata": {
        "pycharm": {
          "name": "#%%\n"
        },
        "colab": {
          "base_uri": "https://localhost:8080/"
        },
        "id": "OACJKeHNcczc",
        "outputId": "4506219b-13b5-4239-a0a9-0b61a37d0ba2"
      }
    },
    {
      "cell_type": "markdown",
      "source": [
        "**Reviews.rating, reviews.text,** and **reviews.title** nulls are **less than 3%** of the dataset"
      ],
      "metadata": {
        "collapsed": false,
        "pycharm": {
          "name": "#%% md\n"
        },
        "id": "n8Ns36g_cczc"
      }
    },
    {
      "cell_type": "code",
      "execution_count": 23,
      "outputs": [
        {
          "output_type": "execute_result",
          "data": {
            "text/plain": [
              "reviews.rating    1.541708\n",
              "reviews.text      0.041136\n",
              "reviews.title     2.904564\n",
              "dtype: float64"
            ]
          },
          "metadata": {},
          "execution_count": 23
        }
      ],
      "source": [
        "nulls= reviews[[\"reviews.rating\", \"reviews.text\", \"reviews.title\"]].isnull().sum()\n",
        "\n",
        "perc_nulls = (nulls/reviews.shape[0]) *100\n",
        "\n",
        "perc_nulls"
      ],
      "metadata": {
        "pycharm": {
          "name": "#%%\n"
        },
        "colab": {
          "base_uri": "https://localhost:8080/"
        },
        "id": "ZusaNYSXcczd",
        "outputId": "8a5bb987-1940-4b52-9035-8714b909a658"
      }
    },
    {
      "cell_type": "code",
      "execution_count": 24,
      "outputs": [],
      "source": [
        "#Dropping reviews.rating, reviews.text, reviews.title nulls\n",
        "# (These are no more than 5% of the total dataset, and accuracy of these is important for future investigations, so dropping them is the smartest choice)\n",
        "\n",
        "reviews.dropna(subset = [\"reviews.rating\", \"reviews.text\", \"reviews.title\"], inplace = True)\n",
        "\n",
        "#resetting the index after dropping rows because row indexes do not automatically reset\n",
        "#-> I will often rely on sequential indexes in my investigations, so this is important\n",
        "\n",
        "reviews.reset_index(inplace=True)\n",
        "reviews.drop(columns=\"index\", inplace=True)"
      ],
      "metadata": {
        "pycharm": {
          "name": "#%%\n"
        },
        "id": "mXYFKVlbcczd"
      }
    },
    {
      "cell_type": "code",
      "execution_count": 25,
      "outputs": [
        {
          "output_type": "execute_result",
          "data": {
            "text/plain": [
              "reviews.rating    0.0\n",
              "reviews.text      0.0\n",
              "reviews.title     0.0\n",
              "dtype: float64"
            ]
          },
          "metadata": {},
          "execution_count": 25
        }
      ],
      "source": [
        "#Checking that nulls were dropped\n",
        "nulls= reviews[[\"reviews.rating\", \"reviews.text\", \"reviews.title\"]].isnull().sum()\n",
        "\n",
        "perc_nulls = (nulls/reviews.shape[0]) *100\n",
        "\n",
        "perc_nulls"
      ],
      "metadata": {
        "pycharm": {
          "name": "#%%\n"
        },
        "colab": {
          "base_uri": "https://localhost:8080/"
        },
        "id": "frZIpf8Lcczd",
        "outputId": "5b58fbeb-c0bd-44d5-e82b-5294a6ac0a40"
      }
    },
    {
      "cell_type": "code",
      "execution_count": 26,
      "outputs": [
        {
          "output_type": "execute_result",
          "data": {
            "text/plain": [
              "54152"
            ]
          },
          "metadata": {},
          "execution_count": 26
        }
      ],
      "source": [
        "#No. rows after dropping rows from reviews.rating and reviews.text\n",
        "reviews.shape[0]"
      ],
      "metadata": {
        "pycharm": {
          "name": "#%%\n"
        },
        "colab": {
          "base_uri": "https://localhost:8080/"
        },
        "id": "Cm59pMhcccze",
        "outputId": "ee2af2d8-8358-4fc1-f394-0acf7bff2813"
      }
    },
    {
      "cell_type": "markdown",
      "source": [
        "**Filling in the latitude and longitude nulls** (0.048013%)"
      ],
      "metadata": {
        "collapsed": false,
        "pycharm": {
          "name": "#%% md\n"
        },
        "id": "v_IYpbxWccze"
      }
    },
    {
      "cell_type": "code",
      "execution_count": 27,
      "outputs": [
        {
          "output_type": "execute_result",
          "data": {
            "text/plain": [
              "latitude     0.048013\n",
              "longitude    0.048013\n",
              "dtype: float64"
            ]
          },
          "metadata": {},
          "execution_count": 27
        }
      ],
      "source": [
        "#Nulls overview\n",
        "nulls= reviews[[\"latitude\", \"longitude\"]].isnull().sum()\n",
        "\n",
        "perc_nulls = (nulls/reviews.shape[0]) *100\n",
        "\n",
        "perc_nulls"
      ],
      "metadata": {
        "pycharm": {
          "name": "#%%\n"
        },
        "colab": {
          "base_uri": "https://localhost:8080/"
        },
        "id": "-jTVuR1Hccze",
        "outputId": "da9e5aca-2b65-4808-9d42-140ed91b32cf"
      }
    },
    {
      "cell_type": "code",
      "execution_count": 28,
      "outputs": [
        {
          "output_type": "stream",
          "name": "stdout",
          "text": [
            "[20996, 20997, 20998, 20999, 21000, 21001, 21002, 21003, 21004, 21005, 21006, 21007, 21008, 21009, 21010, 21011, 21012, 21013, 21014, 21015, 28373, 28374, 33600, 33837, 33838, 35193]\n",
            "26\n"
          ]
        }
      ],
      "source": [
        "#Finding indexes where longitude is null\n",
        "\n",
        "counter=-1 #counter will serve for identifying unique indexes\n",
        "refslong=[] #empty list to store the indexes\n",
        "\n",
        "#when longitude is a null, the index(counter) is appended to refslong\n",
        "for i in reviews[\"longitude\"].isnull():\n",
        "    counter+=1\n",
        "    if i==True:\n",
        "        refslong.append(counter)\n",
        "\n",
        "#printing nulls and the length of the dataset\n",
        "print(refslong)\n",
        "print(len(refslong))"
      ],
      "metadata": {
        "pycharm": {
          "name": "#%%\n"
        },
        "colab": {
          "base_uri": "https://localhost:8080/"
        },
        "id": "pCdslRdsccze",
        "outputId": "e3db2f6e-a4a4-4bf6-a515-a0b295e0e86c"
      }
    },
    {
      "cell_type": "code",
      "execution_count": 29,
      "outputs": [
        {
          "output_type": "stream",
          "name": "stdout",
          "text": [
            "[20996, 20997, 20998, 20999, 21000, 21001, 21002, 21003, 21004, 21005, 21006, 21007, 21008, 21009, 21010, 21011, 21012, 21013, 21014, 21015, 28373, 28374, 33600, 33837, 33838, 35193]\n",
            "26\n",
            "Compared to latitude, longitude lacks: []\n",
            "Compared to longitude, latitude lacks: []\n"
          ]
        }
      ],
      "source": [
        "#Finding indexes where latitude is null\n",
        "# -> same logic as for \"Finding indexes where longitude is null\" above\n",
        "\n",
        "counter=-1\n",
        "refslat=[]\n",
        "for i in reviews[\"latitude\"].isnull():\n",
        "    counter+=1\n",
        "    if i==True:\n",
        "        refslat.append(counter)\n",
        "\n",
        "print(refslat)\n",
        "print(len(refslat))\n",
        "\n",
        "\n",
        "#Differences between lists\n",
        "refslat = pd.Index(refslat)\n",
        "refslong = pd.Index(refslong)\n",
        "\n",
        "print(f'Compared to latitude, longitude lacks: {refslat.difference(refslong).tolist()}')\n",
        "print(f'Compared to longitude, latitude lacks: {refslong.difference(refslat).tolist()}')\n",
        "\n",
        "#When longitude is missing, the latitude is missing (and vice versa)"
      ],
      "metadata": {
        "pycharm": {
          "name": "#%%\n"
        },
        "colab": {
          "base_uri": "https://localhost:8080/"
        },
        "id": "-tkR1Mm_cczf",
        "outputId": "4fa28c1b-b140-4e46-8684-965788992d5e"
      }
    },
    {
      "cell_type": "code",
      "execution_count": 30,
      "outputs": [
        {
          "output_type": "execute_result",
          "data": {
            "text/plain": [
              "[city    Boston\n",
              " Name: 20996, dtype: object, city    Boston\n",
              " Name: 20997, dtype: object, city    Boston\n",
              " Name: 20998, dtype: object]"
            ]
          },
          "metadata": {},
          "execution_count": 30
        }
      ],
      "source": [
        "#Using city (and country) to determine latitude and longitude\n",
        "\n",
        "#creating a new list that contains city names for indexes that lack latitude and longitude\n",
        "# -> indexes that lack latitude and longitude are in refslat/refslong\n",
        "location =[]\n",
        "for i in refslat:\n",
        "    location.append(reviews.loc[i, [\"city\"]])\n",
        "location[0:3]"
      ],
      "metadata": {
        "pycharm": {
          "name": "#%%\n"
        },
        "colab": {
          "base_uri": "https://localhost:8080/"
        },
        "id": "pQmIa5kecczf",
        "outputId": "e0276fcc-1c3f-42d0-a566-27c2ed615aab"
      }
    },
    {
      "cell_type": "code",
      "execution_count": 31,
      "outputs": [
        {
          "output_type": "execute_result",
          "data": {
            "text/plain": [
              "         city\n",
              "20996  Boston\n",
              "20997  Boston\n",
              "20998  Boston\n",
              "20999  Boston\n",
              "21000  Boston"
            ],
            "text/html": [
              "\n",
              "  <div id=\"df-81e07b20-d7c8-40c0-9553-c670901ee5e6\">\n",
              "    <div class=\"colab-df-container\">\n",
              "      <div>\n",
              "<style scoped>\n",
              "    .dataframe tbody tr th:only-of-type {\n",
              "        vertical-align: middle;\n",
              "    }\n",
              "\n",
              "    .dataframe tbody tr th {\n",
              "        vertical-align: top;\n",
              "    }\n",
              "\n",
              "    .dataframe thead th {\n",
              "        text-align: right;\n",
              "    }\n",
              "</style>\n",
              "<table border=\"1\" class=\"dataframe\">\n",
              "  <thead>\n",
              "    <tr style=\"text-align: right;\">\n",
              "      <th></th>\n",
              "      <th>city</th>\n",
              "    </tr>\n",
              "  </thead>\n",
              "  <tbody>\n",
              "    <tr>\n",
              "      <th>20996</th>\n",
              "      <td>Boston</td>\n",
              "    </tr>\n",
              "    <tr>\n",
              "      <th>20997</th>\n",
              "      <td>Boston</td>\n",
              "    </tr>\n",
              "    <tr>\n",
              "      <th>20998</th>\n",
              "      <td>Boston</td>\n",
              "    </tr>\n",
              "    <tr>\n",
              "      <th>20999</th>\n",
              "      <td>Boston</td>\n",
              "    </tr>\n",
              "    <tr>\n",
              "      <th>21000</th>\n",
              "      <td>Boston</td>\n",
              "    </tr>\n",
              "  </tbody>\n",
              "</table>\n",
              "</div>\n",
              "      <button class=\"colab-df-convert\" onclick=\"convertToInteractive('df-81e07b20-d7c8-40c0-9553-c670901ee5e6')\"\n",
              "              title=\"Convert this dataframe to an interactive table.\"\n",
              "              style=\"display:none;\">\n",
              "        \n",
              "  <svg xmlns=\"http://www.w3.org/2000/svg\" height=\"24px\"viewBox=\"0 0 24 24\"\n",
              "       width=\"24px\">\n",
              "    <path d=\"M0 0h24v24H0V0z\" fill=\"none\"/>\n",
              "    <path d=\"M18.56 5.44l.94 2.06.94-2.06 2.06-.94-2.06-.94-.94-2.06-.94 2.06-2.06.94zm-11 1L8.5 8.5l.94-2.06 2.06-.94-2.06-.94L8.5 2.5l-.94 2.06-2.06.94zm10 10l.94 2.06.94-2.06 2.06-.94-2.06-.94-.94-2.06-.94 2.06-2.06.94z\"/><path d=\"M17.41 7.96l-1.37-1.37c-.4-.4-.92-.59-1.43-.59-.52 0-1.04.2-1.43.59L10.3 9.45l-7.72 7.72c-.78.78-.78 2.05 0 2.83L4 21.41c.39.39.9.59 1.41.59.51 0 1.02-.2 1.41-.59l7.78-7.78 2.81-2.81c.8-.78.8-2.07 0-2.86zM5.41 20L4 18.59l7.72-7.72 1.47 1.35L5.41 20z\"/>\n",
              "  </svg>\n",
              "      </button>\n",
              "      \n",
              "  <style>\n",
              "    .colab-df-container {\n",
              "      display:flex;\n",
              "      flex-wrap:wrap;\n",
              "      gap: 12px;\n",
              "    }\n",
              "\n",
              "    .colab-df-convert {\n",
              "      background-color: #E8F0FE;\n",
              "      border: none;\n",
              "      border-radius: 50%;\n",
              "      cursor: pointer;\n",
              "      display: none;\n",
              "      fill: #1967D2;\n",
              "      height: 32px;\n",
              "      padding: 0 0 0 0;\n",
              "      width: 32px;\n",
              "    }\n",
              "\n",
              "    .colab-df-convert:hover {\n",
              "      background-color: #E2EBFA;\n",
              "      box-shadow: 0px 1px 2px rgba(60, 64, 67, 0.3), 0px 1px 3px 1px rgba(60, 64, 67, 0.15);\n",
              "      fill: #174EA6;\n",
              "    }\n",
              "\n",
              "    [theme=dark] .colab-df-convert {\n",
              "      background-color: #3B4455;\n",
              "      fill: #D2E3FC;\n",
              "    }\n",
              "\n",
              "    [theme=dark] .colab-df-convert:hover {\n",
              "      background-color: #434B5C;\n",
              "      box-shadow: 0px 1px 3px 1px rgba(0, 0, 0, 0.15);\n",
              "      filter: drop-shadow(0px 1px 2px rgba(0, 0, 0, 0.3));\n",
              "      fill: #FFFFFF;\n",
              "    }\n",
              "  </style>\n",
              "\n",
              "      <script>\n",
              "        const buttonEl =\n",
              "          document.querySelector('#df-81e07b20-d7c8-40c0-9553-c670901ee5e6 button.colab-df-convert');\n",
              "        buttonEl.style.display =\n",
              "          google.colab.kernel.accessAllowed ? 'block' : 'none';\n",
              "\n",
              "        async function convertToInteractive(key) {\n",
              "          const element = document.querySelector('#df-81e07b20-d7c8-40c0-9553-c670901ee5e6');\n",
              "          const dataTable =\n",
              "            await google.colab.kernel.invokeFunction('convertToInteractive',\n",
              "                                                     [key], {});\n",
              "          if (!dataTable) return;\n",
              "\n",
              "          const docLinkHtml = 'Like what you see? Visit the ' +\n",
              "            '<a target=\"_blank\" href=https://colab.research.google.com/notebooks/data_table.ipynb>data table notebook</a>'\n",
              "            + ' to learn more about interactive tables.';\n",
              "          element.innerHTML = '';\n",
              "          dataTable['output_type'] = 'display_data';\n",
              "          await google.colab.output.renderOutput(dataTable, element);\n",
              "          const docLink = document.createElement('div');\n",
              "          docLink.innerHTML = docLinkHtml;\n",
              "          element.appendChild(docLink);\n",
              "        }\n",
              "      </script>\n",
              "    </div>\n",
              "  </div>\n",
              "  "
            ]
          },
          "metadata": {},
          "execution_count": 31
        }
      ],
      "source": [
        "#converting the list to a dataframe\n",
        "location = pd.DataFrame(location)\n",
        "location.head()"
      ],
      "metadata": {
        "pycharm": {
          "name": "#%%\n"
        },
        "colab": {
          "base_uri": "https://localhost:8080/",
          "height": 206
        },
        "id": "8grrSUyAcczg",
        "outputId": "ad96b825-d868-4f91-f5d2-c87aa7d1bfa0"
      }
    },
    {
      "cell_type": "code",
      "execution_count": 32,
      "outputs": [
        {
          "output_type": "execute_result",
          "data": {
            "text/plain": [
              "array(['US'], dtype=object)"
            ]
          },
          "metadata": {},
          "execution_count": 32
        }
      ],
      "source": [
        "#Country is always US in the reviews dataset\n",
        "reviews[\"country\"].unique()"
      ],
      "metadata": {
        "pycharm": {
          "name": "#%%\n"
        },
        "colab": {
          "base_uri": "https://localhost:8080/"
        },
        "id": "mSjPpj4vcczg",
        "outputId": "1d1037df-b91a-43bb-92d1-cb23a443057e"
      }
    },
    {
      "cell_type": "code",
      "execution_count": 34,
      "outputs": [
        {
          "output_type": "stream",
          "name": "stdout",
          "text": [
            "latitude is: 42.3554334 \n",
            "longtitude is: -71.060511\n"
          ]
        }
      ],
      "source": [
        "#Nominatim API allows finding latitude and longitude based on city and country information\n",
        "\n",
        "#calling the Nominatim API by assigning a random user_agent\n",
        "geolocator = Nominatim(user_agent=\"my_user_agent\")\n",
        "city =\"Boston\"\n",
        "country =\"Us\"\n",
        "loc = geolocator.geocode(city+','+ country)\n",
        "print(\"latitude is:\" ,loc.latitude,\"\\nlongtitude is:\" ,loc.longitude)"
      ],
      "metadata": {
        "pycharm": {
          "name": "#%%\n"
        },
        "colab": {
          "base_uri": "https://localhost:8080/"
        },
        "id": "ep3egxufcczh",
        "outputId": "bb486787-d468-4ec3-9d51-d843141e27eb"
      }
    },
    {
      "cell_type": "code",
      "execution_count": 35,
      "outputs": [
        {
          "output_type": "execute_result",
          "data": {
            "text/plain": [
              "         city   latitude  longitude\n",
              "20996  Boston  42.355433 -71.060511\n",
              "20997  Boston  42.355433 -71.060511\n",
              "20998  Boston  42.355433 -71.060511\n",
              "20999  Boston  42.355433 -71.060511\n",
              "21000  Boston  42.355433 -71.060511"
            ],
            "text/html": [
              "\n",
              "  <div id=\"df-a308e098-2eaf-43fa-b093-08bd3fcdbb57\">\n",
              "    <div class=\"colab-df-container\">\n",
              "      <div>\n",
              "<style scoped>\n",
              "    .dataframe tbody tr th:only-of-type {\n",
              "        vertical-align: middle;\n",
              "    }\n",
              "\n",
              "    .dataframe tbody tr th {\n",
              "        vertical-align: top;\n",
              "    }\n",
              "\n",
              "    .dataframe thead th {\n",
              "        text-align: right;\n",
              "    }\n",
              "</style>\n",
              "<table border=\"1\" class=\"dataframe\">\n",
              "  <thead>\n",
              "    <tr style=\"text-align: right;\">\n",
              "      <th></th>\n",
              "      <th>city</th>\n",
              "      <th>latitude</th>\n",
              "      <th>longitude</th>\n",
              "    </tr>\n",
              "  </thead>\n",
              "  <tbody>\n",
              "    <tr>\n",
              "      <th>20996</th>\n",
              "      <td>Boston</td>\n",
              "      <td>42.355433</td>\n",
              "      <td>-71.060511</td>\n",
              "    </tr>\n",
              "    <tr>\n",
              "      <th>20997</th>\n",
              "      <td>Boston</td>\n",
              "      <td>42.355433</td>\n",
              "      <td>-71.060511</td>\n",
              "    </tr>\n",
              "    <tr>\n",
              "      <th>20998</th>\n",
              "      <td>Boston</td>\n",
              "      <td>42.355433</td>\n",
              "      <td>-71.060511</td>\n",
              "    </tr>\n",
              "    <tr>\n",
              "      <th>20999</th>\n",
              "      <td>Boston</td>\n",
              "      <td>42.355433</td>\n",
              "      <td>-71.060511</td>\n",
              "    </tr>\n",
              "    <tr>\n",
              "      <th>21000</th>\n",
              "      <td>Boston</td>\n",
              "      <td>42.355433</td>\n",
              "      <td>-71.060511</td>\n",
              "    </tr>\n",
              "  </tbody>\n",
              "</table>\n",
              "</div>\n",
              "      <button class=\"colab-df-convert\" onclick=\"convertToInteractive('df-a308e098-2eaf-43fa-b093-08bd3fcdbb57')\"\n",
              "              title=\"Convert this dataframe to an interactive table.\"\n",
              "              style=\"display:none;\">\n",
              "        \n",
              "  <svg xmlns=\"http://www.w3.org/2000/svg\" height=\"24px\"viewBox=\"0 0 24 24\"\n",
              "       width=\"24px\">\n",
              "    <path d=\"M0 0h24v24H0V0z\" fill=\"none\"/>\n",
              "    <path d=\"M18.56 5.44l.94 2.06.94-2.06 2.06-.94-2.06-.94-.94-2.06-.94 2.06-2.06.94zm-11 1L8.5 8.5l.94-2.06 2.06-.94-2.06-.94L8.5 2.5l-.94 2.06-2.06.94zm10 10l.94 2.06.94-2.06 2.06-.94-2.06-.94-.94-2.06-.94 2.06-2.06.94z\"/><path d=\"M17.41 7.96l-1.37-1.37c-.4-.4-.92-.59-1.43-.59-.52 0-1.04.2-1.43.59L10.3 9.45l-7.72 7.72c-.78.78-.78 2.05 0 2.83L4 21.41c.39.39.9.59 1.41.59.51 0 1.02-.2 1.41-.59l7.78-7.78 2.81-2.81c.8-.78.8-2.07 0-2.86zM5.41 20L4 18.59l7.72-7.72 1.47 1.35L5.41 20z\"/>\n",
              "  </svg>\n",
              "      </button>\n",
              "      \n",
              "  <style>\n",
              "    .colab-df-container {\n",
              "      display:flex;\n",
              "      flex-wrap:wrap;\n",
              "      gap: 12px;\n",
              "    }\n",
              "\n",
              "    .colab-df-convert {\n",
              "      background-color: #E8F0FE;\n",
              "      border: none;\n",
              "      border-radius: 50%;\n",
              "      cursor: pointer;\n",
              "      display: none;\n",
              "      fill: #1967D2;\n",
              "      height: 32px;\n",
              "      padding: 0 0 0 0;\n",
              "      width: 32px;\n",
              "    }\n",
              "\n",
              "    .colab-df-convert:hover {\n",
              "      background-color: #E2EBFA;\n",
              "      box-shadow: 0px 1px 2px rgba(60, 64, 67, 0.3), 0px 1px 3px 1px rgba(60, 64, 67, 0.15);\n",
              "      fill: #174EA6;\n",
              "    }\n",
              "\n",
              "    [theme=dark] .colab-df-convert {\n",
              "      background-color: #3B4455;\n",
              "      fill: #D2E3FC;\n",
              "    }\n",
              "\n",
              "    [theme=dark] .colab-df-convert:hover {\n",
              "      background-color: #434B5C;\n",
              "      box-shadow: 0px 1px 3px 1px rgba(0, 0, 0, 0.15);\n",
              "      filter: drop-shadow(0px 1px 2px rgba(0, 0, 0, 0.3));\n",
              "      fill: #FFFFFF;\n",
              "    }\n",
              "  </style>\n",
              "\n",
              "      <script>\n",
              "        const buttonEl =\n",
              "          document.querySelector('#df-a308e098-2eaf-43fa-b093-08bd3fcdbb57 button.colab-df-convert');\n",
              "        buttonEl.style.display =\n",
              "          google.colab.kernel.accessAllowed ? 'block' : 'none';\n",
              "\n",
              "        async function convertToInteractive(key) {\n",
              "          const element = document.querySelector('#df-a308e098-2eaf-43fa-b093-08bd3fcdbb57');\n",
              "          const dataTable =\n",
              "            await google.colab.kernel.invokeFunction('convertToInteractive',\n",
              "                                                     [key], {});\n",
              "          if (!dataTable) return;\n",
              "\n",
              "          const docLinkHtml = 'Like what you see? Visit the ' +\n",
              "            '<a target=\"_blank\" href=https://colab.research.google.com/notebooks/data_table.ipynb>data table notebook</a>'\n",
              "            + ' to learn more about interactive tables.';\n",
              "          element.innerHTML = '';\n",
              "          dataTable['output_type'] = 'display_data';\n",
              "          await google.colab.output.renderOutput(dataTable, element);\n",
              "          const docLink = document.createElement('div');\n",
              "          docLink.innerHTML = docLinkHtml;\n",
              "          element.appendChild(docLink);\n",
              "        }\n",
              "      </script>\n",
              "    </div>\n",
              "  </div>\n",
              "  "
            ]
          },
          "metadata": {},
          "execution_count": 35
        }
      ],
      "source": [
        "#Leveraging the Nominatim API to find the correct latitude and longitude for each unique row index\n",
        "geolocator = Nominatim(user_agent=\"my_user_agent\")\n",
        "\n",
        "#creating empty lists for appending latitude and longitude\n",
        "latitude=[]\n",
        "longitude=[]\n",
        "\n",
        "#creating a loop that appends the latitude and longitude based on the city and country information\n",
        "for i in location[\"city\"]:\n",
        "    country =\"Us\"\n",
        "    loc = geolocator.geocode(i+','+ country)\n",
        "    #Nominatim restricts heavy usage (allows only 1 request per second) - using sleep() to accommodate this\n",
        "    sleep(1)\n",
        "    latitude.append(loc.latitude)\n",
        "    sleep(1)\n",
        "    longitude.append(loc.longitude)\n",
        "\n",
        "#Adding the lists to the location dataframe as new columns\n",
        "location[\"latitude\"] = latitude\n",
        "location[\"longitude\"] = longitude\n",
        "location.head()"
      ],
      "metadata": {
        "pycharm": {
          "name": "#%%\n"
        },
        "colab": {
          "base_uri": "https://localhost:8080/",
          "height": 206
        },
        "id": "BaV5zbFHcczh",
        "outputId": "9ff95439-2295-4003-f36a-ff34e7c72ab2"
      }
    },
    {
      "cell_type": "code",
      "execution_count": 36,
      "outputs": [],
      "source": [
        "#Filling in the latitude and longitude nulls based on indexes\n",
        "# -> indexes that lack latitude and longitude are in refslat/refslong\n",
        "for i in refslat:\n",
        "    reviews.loc[i, [\"latitude\"]] = location.loc[i, [\"latitude\"]]\n",
        "    reviews.loc[i, [\"longitude\"]] = location.loc[i, [\"longitude\"]]"
      ],
      "metadata": {
        "pycharm": {
          "name": "#%%\n"
        },
        "id": "iim9y-pYcczh"
      }
    },
    {
      "cell_type": "code",
      "execution_count": 37,
      "outputs": [
        {
          "output_type": "execute_result",
          "data": {
            "text/plain": [
              "latitude     0.0\n",
              "longitude    0.0\n",
              "dtype: float64"
            ]
          },
          "metadata": {},
          "execution_count": 37
        }
      ],
      "source": [
        "#Checking that nulls are filled\n",
        "nulls= reviews[[\"latitude\", \"longitude\"]].isnull().sum()\n",
        "\n",
        "perc_nulls = (nulls/reviews.shape[0]) *100\n",
        "\n",
        "perc_nulls"
      ],
      "metadata": {
        "pycharm": {
          "name": "#%%\n"
        },
        "colab": {
          "base_uri": "https://localhost:8080/"
        },
        "id": "cQeuDrMecczi",
        "outputId": "0e1c71d8-7677-435f-9522-e0f1cbf85806"
      }
    },
    {
      "cell_type": "markdown",
      "source": [
        "**Date nulls**"
      ],
      "metadata": {
        "collapsed": false,
        "pycharm": {
          "name": "#%% md\n"
        },
        "id": "T6FZch5Lcczi"
      }
    },
    {
      "cell_type": "code",
      "execution_count": 38,
      "outputs": [
        {
          "output_type": "execute_result",
          "data": {
            "text/plain": [
              "dateAdded            63.072463\n",
              "reviews.date          0.068326\n",
              "reviews.dateSeen     63.072463\n",
              "reviews.dateAdded    36.927537\n",
              "dateUpdated          63.072463\n",
              "dtype: float64"
            ]
          },
          "metadata": {},
          "execution_count": 38
        }
      ],
      "source": [
        "#Nulls overview\n",
        "nulls= reviews[[\"dateAdded\", \"reviews.date\", \"reviews.dateSeen\", \"reviews.dateAdded\", \"dateUpdated\"]].isnull().sum()\n",
        "\n",
        "perc_nulls = (nulls/reviews.shape[0]) *100\n",
        "\n",
        "perc_nulls"
      ],
      "metadata": {
        "pycharm": {
          "name": "#%%\n"
        },
        "colab": {
          "base_uri": "https://localhost:8080/"
        },
        "id": "DGAEiDAvcczi",
        "outputId": "781806f1-3766-4f9c-b20f-b3a094d97c57"
      }
    },
    {
      "cell_type": "markdown",
      "source": [
        "Postulated data dictionary based on the dictionary from the Datafiniti website (datasets originate from Datafiniti):\n",
        " -dateAdded: The date this business was first added to the business database.\n",
        " -reviews.date: The date the review was posted.\n",
        " -reviews.dateSeen: The date when the review was seen by Datafiniti.\n",
        " -reviews.dateAdded: The date this reviews was first added to the reviews database.\n",
        " -date.Updated: The most recent date this business was updated or seen by the Datafiniti system."
      ],
      "metadata": {
        "collapsed": false,
        "pycharm": {
          "name": "#%% md\n"
        },
        "id": "41nzKxLccczj"
      }
    },
    {
      "cell_type": "code",
      "execution_count": 39,
      "outputs": [],
      "source": [
        "#Checking the data dictionary from the Datafiniti website suggests that reviews.date column is the most relevant column for this project\n",
        "\n",
        "#Dropping redundant dates\n",
        "reviews.drop(columns=[\"dateAdded\", \"reviews.dateSeen\", \"reviews.dateAdded\", \"dateUpdated\"], inplace=True)"
      ],
      "metadata": {
        "pycharm": {
          "name": "#%%\n"
        },
        "id": "afrx3jfucczj"
      }
    },
    {
      "cell_type": "code",
      "execution_count": 40,
      "outputs": [
        {
          "output_type": "stream",
          "name": "stdout",
          "text": [
            "already dropped\n"
          ]
        }
      ],
      "source": [
        "# Checking that the columns were successfully dropped\n",
        "try:\n",
        "    reviews.drop(columns=[\"dateAdded\", \"reviews.dateSeen\", \"reviews.dateAdded\", \"dateUpdated\"], inplace = False)\n",
        "except:\n",
        "    print(\"already dropped\")"
      ],
      "metadata": {
        "pycharm": {
          "name": "#%%\n"
        },
        "colab": {
          "base_uri": "https://localhost:8080/"
        },
        "id": "7lXqLBxQcczj",
        "outputId": "4d5cafa4-42cb-4fde-ffd5-c74d68b7acbb"
      }
    },
    {
      "cell_type": "code",
      "execution_count": 41,
      "outputs": [
        {
          "output_type": "execute_result",
          "data": {
            "text/plain": [
              "0    2013-11-14T00:00:00Z\n",
              "1    2014-07-06T00:00:00Z\n",
              "2    2015-01-02T00:00:00Z\n",
              "3    2016-05-15T00:00:00Z\n",
              "4    2016-07-09T00:00:00Z\n",
              "Name: reviews.date, dtype: object"
            ]
          },
          "metadata": {},
          "execution_count": 41
        }
      ],
      "source": [
        "#reviews.date overview\n",
        "reviews[\"reviews.date\"].head()"
      ],
      "metadata": {
        "pycharm": {
          "name": "#%%\n"
        },
        "colab": {
          "base_uri": "https://localhost:8080/"
        },
        "id": "_vIsYLEpcczj",
        "outputId": "59cb7637-fbc2-46f3-b820-5eafb6929c87"
      }
    },
    {
      "cell_type": "code",
      "execution_count": 42,
      "outputs": [
        {
          "output_type": "execute_result",
          "data": {
            "text/plain": [
              "0   2013-11-14 00:00:00+00:00\n",
              "1   2014-07-06 00:00:00+00:00\n",
              "2   2015-01-02 00:00:00+00:00\n",
              "3   2016-05-15 00:00:00+00:00\n",
              "4   2016-07-09 00:00:00+00:00\n",
              "Name: reviews.date, dtype: datetime64[ns, UTC]"
            ]
          },
          "metadata": {},
          "execution_count": 42
        }
      ],
      "source": [
        "#Converting reviews.date into a date data type\n",
        "reviews[\"reviews.date\"] = pd.to_datetime(reviews[\"reviews.date\"])\n",
        "reviews[\"reviews.date\"].head()"
      ],
      "metadata": {
        "pycharm": {
          "name": "#%%\n"
        },
        "colab": {
          "base_uri": "https://localhost:8080/"
        },
        "id": "D3kr0Z0Icczk",
        "outputId": "070bce23-1a11-4635-9a15-1301e48f13ec"
      }
    },
    {
      "cell_type": "code",
      "execution_count": 43,
      "outputs": [
        {
          "output_type": "execute_result",
          "data": {
            "text/plain": [
              "29"
            ]
          },
          "metadata": {},
          "execution_count": 43
        }
      ],
      "source": [
        "#Checking no. when the time of reviews.date is not 00:00:00+00:00 based on minutes\n",
        "reviews[\"reviews.date\"][reviews[\"reviews.date\"].dt.minute>0.0].count()"
      ],
      "metadata": {
        "pycharm": {
          "name": "#%%\n"
        },
        "colab": {
          "base_uri": "https://localhost:8080/"
        },
        "id": "Osq6Cg5acczk",
        "outputId": "5312d09a-34a0-4bdf-ced9-46c33e66132d"
      }
    },
    {
      "cell_type": "code",
      "execution_count": 44,
      "outputs": [
        {
          "output_type": "execute_result",
          "data": {
            "text/plain": [
              "683"
            ]
          },
          "metadata": {},
          "execution_count": 44
        }
      ],
      "source": [
        "#Checking no. when the time of reviews.date is not 00:00:00+00:00 based on hours\n",
        "reviews[\"reviews.date\"][reviews[\"reviews.date\"].dt.hour>0.0].count()"
      ],
      "metadata": {
        "pycharm": {
          "name": "#%%\n"
        },
        "colab": {
          "base_uri": "https://localhost:8080/"
        },
        "id": "QyfJqKLqcczk",
        "outputId": "1e5551fe-2bda-46be-d676-fe1c619e458f"
      }
    },
    {
      "cell_type": "code",
      "execution_count": 45,
      "outputs": [
        {
          "output_type": "execute_result",
          "data": {
            "text/plain": [
              "0    2013-11-14\n",
              "Name: reviews.date, dtype: object"
            ]
          },
          "metadata": {},
          "execution_count": 45
        }
      ],
      "source": [
        "#getting rid of time in datetime because in most cases the time is not informative (00:00:00+00:00)\n",
        "reviews[\"reviews.date\"] = pd.to_datetime(reviews[\"reviews.date\"]).dt.date\n",
        "reviews[\"reviews.date\"].head(1)"
      ],
      "metadata": {
        "pycharm": {
          "name": "#%%\n"
        },
        "colab": {
          "base_uri": "https://localhost:8080/"
        },
        "id": "ZUnYkauxcczl",
        "outputId": "8e8c4339-784c-4614-e3c8-8ae45f0627aa"
      }
    },
    {
      "cell_type": "code",
      "execution_count": 46,
      "outputs": [
        {
          "output_type": "execute_result",
          "data": {
            "text/plain": [
              "0   2013-11-14\n",
              "Name: reviews.date, dtype: datetime64[ns]"
            ]
          },
          "metadata": {},
          "execution_count": 46
        }
      ],
      "source": [
        "# Converting reviews.date back into a date data type\n",
        "# Note: dt is a pandas attribute, not a datetime attribute\n",
        "reviews[\"reviews.date\"] = pd.to_datetime(reviews[\"reviews.date\"])\n",
        "reviews[\"reviews.date\"].head(1)"
      ],
      "metadata": {
        "pycharm": {
          "name": "#%%\n"
        },
        "colab": {
          "base_uri": "https://localhost:8080/"
        },
        "id": "7q-RmZaEcczl",
        "outputId": "8d89fa58-d8de-4c2b-8382-e347034a94b5"
      }
    },
    {
      "cell_type": "code",
      "execution_count": 48,
      "outputs": [
        {
          "output_type": "execute_result",
          "data": {
            "text/plain": [
              "Timestamp('2016-06-27 00:00:00')"
            ]
          },
          "metadata": {},
          "execution_count": 48
        }
      ],
      "source": [
        "#Checking the mode that will be used to fill in reviews.date\n",
        "mode=reviews[\"reviews.date\"].mode()\n",
        "mode[0]"
      ],
      "metadata": {
        "pycharm": {
          "name": "#%%\n"
        },
        "colab": {
          "base_uri": "https://localhost:8080/"
        },
        "id": "csfffiYVcczl",
        "outputId": "8a19ff93-57bf-4b48-f220-8155459434a3"
      }
    },
    {
      "cell_type": "code",
      "execution_count": 49,
      "outputs": [],
      "source": [
        "#Filling the nulls in reviews.date with the most common occurring date\n",
        "reviews[\"reviews.date\"].fillna(value=mode[0], inplace=True)\n",
        "\n",
        "#This may not be the most accurate use of fillna(), but dates are not crucial in this investigation, so it might be more beneficial to fill them in with .mode() than to drop rows at the expense of other columns\n",
        "#Alternatively, nulls are less than 0.5%, so it would have also been acceptable to drop rows"
      ],
      "metadata": {
        "pycharm": {
          "name": "#%%\n"
        },
        "id": "OmGFC2qvcczm"
      }
    },
    {
      "cell_type": "code",
      "execution_count": 50,
      "outputs": [
        {
          "output_type": "execute_result",
          "data": {
            "text/plain": [
              "  reviews.date\n",
              "0   2013-11-14\n",
              "1   2014-07-06\n",
              "2   2015-01-02\n",
              "3   2016-05-15\n",
              "4   2016-07-09"
            ],
            "text/html": [
              "\n",
              "  <div id=\"df-177a0a06-f8f3-4d85-a52f-7355c756f56b\">\n",
              "    <div class=\"colab-df-container\">\n",
              "      <div>\n",
              "<style scoped>\n",
              "    .dataframe tbody tr th:only-of-type {\n",
              "        vertical-align: middle;\n",
              "    }\n",
              "\n",
              "    .dataframe tbody tr th {\n",
              "        vertical-align: top;\n",
              "    }\n",
              "\n",
              "    .dataframe thead th {\n",
              "        text-align: right;\n",
              "    }\n",
              "</style>\n",
              "<table border=\"1\" class=\"dataframe\">\n",
              "  <thead>\n",
              "    <tr style=\"text-align: right;\">\n",
              "      <th></th>\n",
              "      <th>reviews.date</th>\n",
              "    </tr>\n",
              "  </thead>\n",
              "  <tbody>\n",
              "    <tr>\n",
              "      <th>0</th>\n",
              "      <td>2013-11-14</td>\n",
              "    </tr>\n",
              "    <tr>\n",
              "      <th>1</th>\n",
              "      <td>2014-07-06</td>\n",
              "    </tr>\n",
              "    <tr>\n",
              "      <th>2</th>\n",
              "      <td>2015-01-02</td>\n",
              "    </tr>\n",
              "    <tr>\n",
              "      <th>3</th>\n",
              "      <td>2016-05-15</td>\n",
              "    </tr>\n",
              "    <tr>\n",
              "      <th>4</th>\n",
              "      <td>2016-07-09</td>\n",
              "    </tr>\n",
              "  </tbody>\n",
              "</table>\n",
              "</div>\n",
              "      <button class=\"colab-df-convert\" onclick=\"convertToInteractive('df-177a0a06-f8f3-4d85-a52f-7355c756f56b')\"\n",
              "              title=\"Convert this dataframe to an interactive table.\"\n",
              "              style=\"display:none;\">\n",
              "        \n",
              "  <svg xmlns=\"http://www.w3.org/2000/svg\" height=\"24px\"viewBox=\"0 0 24 24\"\n",
              "       width=\"24px\">\n",
              "    <path d=\"M0 0h24v24H0V0z\" fill=\"none\"/>\n",
              "    <path d=\"M18.56 5.44l.94 2.06.94-2.06 2.06-.94-2.06-.94-.94-2.06-.94 2.06-2.06.94zm-11 1L8.5 8.5l.94-2.06 2.06-.94-2.06-.94L8.5 2.5l-.94 2.06-2.06.94zm10 10l.94 2.06.94-2.06 2.06-.94-2.06-.94-.94-2.06-.94 2.06-2.06.94z\"/><path d=\"M17.41 7.96l-1.37-1.37c-.4-.4-.92-.59-1.43-.59-.52 0-1.04.2-1.43.59L10.3 9.45l-7.72 7.72c-.78.78-.78 2.05 0 2.83L4 21.41c.39.39.9.59 1.41.59.51 0 1.02-.2 1.41-.59l7.78-7.78 2.81-2.81c.8-.78.8-2.07 0-2.86zM5.41 20L4 18.59l7.72-7.72 1.47 1.35L5.41 20z\"/>\n",
              "  </svg>\n",
              "      </button>\n",
              "      \n",
              "  <style>\n",
              "    .colab-df-container {\n",
              "      display:flex;\n",
              "      flex-wrap:wrap;\n",
              "      gap: 12px;\n",
              "    }\n",
              "\n",
              "    .colab-df-convert {\n",
              "      background-color: #E8F0FE;\n",
              "      border: none;\n",
              "      border-radius: 50%;\n",
              "      cursor: pointer;\n",
              "      display: none;\n",
              "      fill: #1967D2;\n",
              "      height: 32px;\n",
              "      padding: 0 0 0 0;\n",
              "      width: 32px;\n",
              "    }\n",
              "\n",
              "    .colab-df-convert:hover {\n",
              "      background-color: #E2EBFA;\n",
              "      box-shadow: 0px 1px 2px rgba(60, 64, 67, 0.3), 0px 1px 3px 1px rgba(60, 64, 67, 0.15);\n",
              "      fill: #174EA6;\n",
              "    }\n",
              "\n",
              "    [theme=dark] .colab-df-convert {\n",
              "      background-color: #3B4455;\n",
              "      fill: #D2E3FC;\n",
              "    }\n",
              "\n",
              "    [theme=dark] .colab-df-convert:hover {\n",
              "      background-color: #434B5C;\n",
              "      box-shadow: 0px 1px 3px 1px rgba(0, 0, 0, 0.15);\n",
              "      filter: drop-shadow(0px 1px 2px rgba(0, 0, 0, 0.3));\n",
              "      fill: #FFFFFF;\n",
              "    }\n",
              "  </style>\n",
              "\n",
              "      <script>\n",
              "        const buttonEl =\n",
              "          document.querySelector('#df-177a0a06-f8f3-4d85-a52f-7355c756f56b button.colab-df-convert');\n",
              "        buttonEl.style.display =\n",
              "          google.colab.kernel.accessAllowed ? 'block' : 'none';\n",
              "\n",
              "        async function convertToInteractive(key) {\n",
              "          const element = document.querySelector('#df-177a0a06-f8f3-4d85-a52f-7355c756f56b');\n",
              "          const dataTable =\n",
              "            await google.colab.kernel.invokeFunction('convertToInteractive',\n",
              "                                                     [key], {});\n",
              "          if (!dataTable) return;\n",
              "\n",
              "          const docLinkHtml = 'Like what you see? Visit the ' +\n",
              "            '<a target=\"_blank\" href=https://colab.research.google.com/notebooks/data_table.ipynb>data table notebook</a>'\n",
              "            + ' to learn more about interactive tables.';\n",
              "          element.innerHTML = '';\n",
              "          dataTable['output_type'] = 'display_data';\n",
              "          await google.colab.output.renderOutput(dataTable, element);\n",
              "          const docLink = document.createElement('div');\n",
              "          docLink.innerHTML = docLinkHtml;\n",
              "          element.appendChild(docLink);\n",
              "        }\n",
              "      </script>\n",
              "    </div>\n",
              "  </div>\n",
              "  "
            ]
          },
          "metadata": {},
          "execution_count": 50
        }
      ],
      "source": [
        "#Overview\n",
        "reviews[[\"reviews.date\"]].head()"
      ],
      "metadata": {
        "pycharm": {
          "name": "#%%\n"
        },
        "colab": {
          "base_uri": "https://localhost:8080/",
          "height": 206
        },
        "id": "d---9wlTcczm",
        "outputId": "d43eb5c3-aad1-49f9-df10-250ea669e9b1"
      }
    },
    {
      "cell_type": "markdown",
      "source": [
        "**primaryCategories**"
      ],
      "metadata": {
        "collapsed": false,
        "pycharm": {
          "name": "#%% md\n"
        },
        "id": "iwx_in8Ccczm"
      }
    },
    {
      "cell_type": "code",
      "execution_count": 53,
      "outputs": [
        {
          "output_type": "execute_result",
          "data": {
            "text/plain": [
              "63.072462697591966"
            ]
          },
          "metadata": {},
          "execution_count": 53
        }
      ],
      "source": [
        "#Nulls overview\n",
        "nulls= reviews[\"primaryCategories\"].isnull().sum()\n",
        "\n",
        "perc_nulls = (nulls/reviews.shape[0]) *100\n",
        "\n",
        "perc_nulls"
      ],
      "metadata": {
        "pycharm": {
          "name": "#%%\n"
        },
        "colab": {
          "base_uri": "https://localhost:8080/"
        },
        "id": "UFcf5oKccczn",
        "outputId": "27d55a3f-e7a3-4c5b-9dd5-98833512cc49"
      }
    },
    {
      "cell_type": "code",
      "execution_count": 54,
      "outputs": [],
      "source": [
        "#dropping primaryCategories as these are over 60% missing\n",
        "reviews.drop(columns=[\"primaryCategories\"], inplace=True)"
      ],
      "metadata": {
        "pycharm": {
          "name": "#%%\n"
        },
        "id": "Uiu3DKCncczn"
      }
    },
    {
      "cell_type": "markdown",
      "source": [
        "**Post code**"
      ],
      "metadata": {
        "collapsed": false,
        "pycharm": {
          "name": "#%% md\n"
        },
        "id": "j_SD4RSkcczo"
      }
    },
    {
      "cell_type": "code",
      "execution_count": 55,
      "outputs": [
        {
          "output_type": "execute_result",
          "data": {
            "text/plain": [
              "0.10156596247599349"
            ]
          },
          "metadata": {},
          "execution_count": 55
        }
      ],
      "source": [
        "#Nulls overview\n",
        "nulls= reviews[\"postalCode\"].isnull().sum()\n",
        "\n",
        "perc_nulls = (nulls/reviews.shape[0]) *100\n",
        "\n",
        "perc_nulls"
      ],
      "metadata": {
        "pycharm": {
          "name": "#%%\n"
        },
        "colab": {
          "base_uri": "https://localhost:8080/"
        },
        "id": "zEr1_WCRcczo",
        "outputId": "a5718238-3715-4921-c821-69d183d2cc5b"
      }
    },
    {
      "cell_type": "code",
      "execution_count": 56,
      "outputs": [
        {
          "output_type": "stream",
          "name": "stdout",
          "text": [
            "[41492, 41493, 41494, 41495, 41496, 41497, 41498, 41499, 41500, 41501, 41502, 41503, 41504, 41505, 41506, 41507, 41508, 41509, 41510, 41511, 41512, 41513, 41514, 41515, 41516, 41517, 41518, 41519, 41520, 41521, 41522, 41523, 41524, 41525, 41526, 41527, 41528, 41529, 41530, 41531, 41532, 41533, 41534, 41535, 41536, 41537, 41538, 41539, 41540, 41541, 41542, 41543, 41544, 41545, 41546]\n",
            "55\n"
          ]
        }
      ],
      "source": [
        "#Finding indexes where postalCode is null\n",
        "#-> same logic as for finding latitude and longitude indexes\n",
        "counter=-1\n",
        "postcode=[]\n",
        "for i in reviews[\"postalCode\"].isnull():\n",
        "    counter+=1\n",
        "    if i==True:\n",
        "        postcode.append(counter)\n",
        "print(postcode)\n",
        "print(len(postcode))"
      ],
      "metadata": {
        "pycharm": {
          "name": "#%%\n"
        },
        "colab": {
          "base_uri": "https://localhost:8080/"
        },
        "id": "UUDdtcGdcczo",
        "outputId": "4cc83b9e-fb09-4fe7-9321-fcb4b62d1339"
      }
    },
    {
      "cell_type": "code",
      "execution_count": 57,
      "outputs": [],
      "source": [
        "#Finding the correct city and address information for row indexes that lack the postcode\n",
        "\n",
        "cityloc =[]\n",
        "addressloc =[]\n",
        "for i in postcode:\n",
        "    cityloc.append(reviews.loc[i, [\"city\"]])\n",
        "    addressloc.append(reviews.loc[i, [\"address\"]])"
      ],
      "metadata": {
        "pycharm": {
          "name": "#%%\n"
        },
        "id": "mHO-Ntwvcczp"
      }
    },
    {
      "cell_type": "code",
      "execution_count": 58,
      "outputs": [
        {
          "output_type": "execute_result",
          "data": {
            "text/plain": [
              "           city\n",
              "41492  Curitiba\n",
              "41493  Curitiba\n",
              "41494  Curitiba\n",
              "41495  Curitiba\n",
              "41496  Curitiba"
            ],
            "text/html": [
              "\n",
              "  <div id=\"df-fd1b4660-1ced-4560-b58f-f222492e4d22\">\n",
              "    <div class=\"colab-df-container\">\n",
              "      <div>\n",
              "<style scoped>\n",
              "    .dataframe tbody tr th:only-of-type {\n",
              "        vertical-align: middle;\n",
              "    }\n",
              "\n",
              "    .dataframe tbody tr th {\n",
              "        vertical-align: top;\n",
              "    }\n",
              "\n",
              "    .dataframe thead th {\n",
              "        text-align: right;\n",
              "    }\n",
              "</style>\n",
              "<table border=\"1\" class=\"dataframe\">\n",
              "  <thead>\n",
              "    <tr style=\"text-align: right;\">\n",
              "      <th></th>\n",
              "      <th>city</th>\n",
              "    </tr>\n",
              "  </thead>\n",
              "  <tbody>\n",
              "    <tr>\n",
              "      <th>41492</th>\n",
              "      <td>Curitiba</td>\n",
              "    </tr>\n",
              "    <tr>\n",
              "      <th>41493</th>\n",
              "      <td>Curitiba</td>\n",
              "    </tr>\n",
              "    <tr>\n",
              "      <th>41494</th>\n",
              "      <td>Curitiba</td>\n",
              "    </tr>\n",
              "    <tr>\n",
              "      <th>41495</th>\n",
              "      <td>Curitiba</td>\n",
              "    </tr>\n",
              "    <tr>\n",
              "      <th>41496</th>\n",
              "      <td>Curitiba</td>\n",
              "    </tr>\n",
              "  </tbody>\n",
              "</table>\n",
              "</div>\n",
              "      <button class=\"colab-df-convert\" onclick=\"convertToInteractive('df-fd1b4660-1ced-4560-b58f-f222492e4d22')\"\n",
              "              title=\"Convert this dataframe to an interactive table.\"\n",
              "              style=\"display:none;\">\n",
              "        \n",
              "  <svg xmlns=\"http://www.w3.org/2000/svg\" height=\"24px\"viewBox=\"0 0 24 24\"\n",
              "       width=\"24px\">\n",
              "    <path d=\"M0 0h24v24H0V0z\" fill=\"none\"/>\n",
              "    <path d=\"M18.56 5.44l.94 2.06.94-2.06 2.06-.94-2.06-.94-.94-2.06-.94 2.06-2.06.94zm-11 1L8.5 8.5l.94-2.06 2.06-.94-2.06-.94L8.5 2.5l-.94 2.06-2.06.94zm10 10l.94 2.06.94-2.06 2.06-.94-2.06-.94-.94-2.06-.94 2.06-2.06.94z\"/><path d=\"M17.41 7.96l-1.37-1.37c-.4-.4-.92-.59-1.43-.59-.52 0-1.04.2-1.43.59L10.3 9.45l-7.72 7.72c-.78.78-.78 2.05 0 2.83L4 21.41c.39.39.9.59 1.41.59.51 0 1.02-.2 1.41-.59l7.78-7.78 2.81-2.81c.8-.78.8-2.07 0-2.86zM5.41 20L4 18.59l7.72-7.72 1.47 1.35L5.41 20z\"/>\n",
              "  </svg>\n",
              "      </button>\n",
              "      \n",
              "  <style>\n",
              "    .colab-df-container {\n",
              "      display:flex;\n",
              "      flex-wrap:wrap;\n",
              "      gap: 12px;\n",
              "    }\n",
              "\n",
              "    .colab-df-convert {\n",
              "      background-color: #E8F0FE;\n",
              "      border: none;\n",
              "      border-radius: 50%;\n",
              "      cursor: pointer;\n",
              "      display: none;\n",
              "      fill: #1967D2;\n",
              "      height: 32px;\n",
              "      padding: 0 0 0 0;\n",
              "      width: 32px;\n",
              "    }\n",
              "\n",
              "    .colab-df-convert:hover {\n",
              "      background-color: #E2EBFA;\n",
              "      box-shadow: 0px 1px 2px rgba(60, 64, 67, 0.3), 0px 1px 3px 1px rgba(60, 64, 67, 0.15);\n",
              "      fill: #174EA6;\n",
              "    }\n",
              "\n",
              "    [theme=dark] .colab-df-convert {\n",
              "      background-color: #3B4455;\n",
              "      fill: #D2E3FC;\n",
              "    }\n",
              "\n",
              "    [theme=dark] .colab-df-convert:hover {\n",
              "      background-color: #434B5C;\n",
              "      box-shadow: 0px 1px 3px 1px rgba(0, 0, 0, 0.15);\n",
              "      filter: drop-shadow(0px 1px 2px rgba(0, 0, 0, 0.3));\n",
              "      fill: #FFFFFF;\n",
              "    }\n",
              "  </style>\n",
              "\n",
              "      <script>\n",
              "        const buttonEl =\n",
              "          document.querySelector('#df-fd1b4660-1ced-4560-b58f-f222492e4d22 button.colab-df-convert');\n",
              "        buttonEl.style.display =\n",
              "          google.colab.kernel.accessAllowed ? 'block' : 'none';\n",
              "\n",
              "        async function convertToInteractive(key) {\n",
              "          const element = document.querySelector('#df-fd1b4660-1ced-4560-b58f-f222492e4d22');\n",
              "          const dataTable =\n",
              "            await google.colab.kernel.invokeFunction('convertToInteractive',\n",
              "                                                     [key], {});\n",
              "          if (!dataTable) return;\n",
              "\n",
              "          const docLinkHtml = 'Like what you see? Visit the ' +\n",
              "            '<a target=\"_blank\" href=https://colab.research.google.com/notebooks/data_table.ipynb>data table notebook</a>'\n",
              "            + ' to learn more about interactive tables.';\n",
              "          element.innerHTML = '';\n",
              "          dataTable['output_type'] = 'display_data';\n",
              "          await google.colab.output.renderOutput(dataTable, element);\n",
              "          const docLink = document.createElement('div');\n",
              "          docLink.innerHTML = docLinkHtml;\n",
              "          element.appendChild(docLink);\n",
              "        }\n",
              "      </script>\n",
              "    </div>\n",
              "  </div>\n",
              "  "
            ]
          },
          "metadata": {},
          "execution_count": 58
        }
      ],
      "source": [
        "#Converting city information to a dataframe\n",
        "citylocdf = pd.DataFrame(cityloc)\n",
        "citylocdf.head()"
      ],
      "metadata": {
        "pycharm": {
          "name": "#%%\n"
        },
        "colab": {
          "base_uri": "https://localhost:8080/",
          "height": 206
        },
        "id": "xYqzZoFVcczp",
        "outputId": "dd6177c9-7a63-46a2-b8c9-2ef3bf43b1d6"
      }
    },
    {
      "cell_type": "code",
      "execution_count": 59,
      "outputs": [
        {
          "output_type": "execute_result",
          "data": {
            "text/plain": [
              "                                  address\n",
              "41492  Rua Desembargador Motta 2044 Batel\n",
              "41493  Rua Desembargador Motta 2044 Batel\n",
              "41494  Rua Desembargador Motta 2044 Batel\n",
              "41495  Rua Desembargador Motta 2044 Batel\n",
              "41496  Rua Desembargador Motta 2044 Batel"
            ],
            "text/html": [
              "\n",
              "  <div id=\"df-d11aa5bb-804a-4648-8349-9005ab5979a5\">\n",
              "    <div class=\"colab-df-container\">\n",
              "      <div>\n",
              "<style scoped>\n",
              "    .dataframe tbody tr th:only-of-type {\n",
              "        vertical-align: middle;\n",
              "    }\n",
              "\n",
              "    .dataframe tbody tr th {\n",
              "        vertical-align: top;\n",
              "    }\n",
              "\n",
              "    .dataframe thead th {\n",
              "        text-align: right;\n",
              "    }\n",
              "</style>\n",
              "<table border=\"1\" class=\"dataframe\">\n",
              "  <thead>\n",
              "    <tr style=\"text-align: right;\">\n",
              "      <th></th>\n",
              "      <th>address</th>\n",
              "    </tr>\n",
              "  </thead>\n",
              "  <tbody>\n",
              "    <tr>\n",
              "      <th>41492</th>\n",
              "      <td>Rua Desembargador Motta 2044 Batel</td>\n",
              "    </tr>\n",
              "    <tr>\n",
              "      <th>41493</th>\n",
              "      <td>Rua Desembargador Motta 2044 Batel</td>\n",
              "    </tr>\n",
              "    <tr>\n",
              "      <th>41494</th>\n",
              "      <td>Rua Desembargador Motta 2044 Batel</td>\n",
              "    </tr>\n",
              "    <tr>\n",
              "      <th>41495</th>\n",
              "      <td>Rua Desembargador Motta 2044 Batel</td>\n",
              "    </tr>\n",
              "    <tr>\n",
              "      <th>41496</th>\n",
              "      <td>Rua Desembargador Motta 2044 Batel</td>\n",
              "    </tr>\n",
              "  </tbody>\n",
              "</table>\n",
              "</div>\n",
              "      <button class=\"colab-df-convert\" onclick=\"convertToInteractive('df-d11aa5bb-804a-4648-8349-9005ab5979a5')\"\n",
              "              title=\"Convert this dataframe to an interactive table.\"\n",
              "              style=\"display:none;\">\n",
              "        \n",
              "  <svg xmlns=\"http://www.w3.org/2000/svg\" height=\"24px\"viewBox=\"0 0 24 24\"\n",
              "       width=\"24px\">\n",
              "    <path d=\"M0 0h24v24H0V0z\" fill=\"none\"/>\n",
              "    <path d=\"M18.56 5.44l.94 2.06.94-2.06 2.06-.94-2.06-.94-.94-2.06-.94 2.06-2.06.94zm-11 1L8.5 8.5l.94-2.06 2.06-.94-2.06-.94L8.5 2.5l-.94 2.06-2.06.94zm10 10l.94 2.06.94-2.06 2.06-.94-2.06-.94-.94-2.06-.94 2.06-2.06.94z\"/><path d=\"M17.41 7.96l-1.37-1.37c-.4-.4-.92-.59-1.43-.59-.52 0-1.04.2-1.43.59L10.3 9.45l-7.72 7.72c-.78.78-.78 2.05 0 2.83L4 21.41c.39.39.9.59 1.41.59.51 0 1.02-.2 1.41-.59l7.78-7.78 2.81-2.81c.8-.78.8-2.07 0-2.86zM5.41 20L4 18.59l7.72-7.72 1.47 1.35L5.41 20z\"/>\n",
              "  </svg>\n",
              "      </button>\n",
              "      \n",
              "  <style>\n",
              "    .colab-df-container {\n",
              "      display:flex;\n",
              "      flex-wrap:wrap;\n",
              "      gap: 12px;\n",
              "    }\n",
              "\n",
              "    .colab-df-convert {\n",
              "      background-color: #E8F0FE;\n",
              "      border: none;\n",
              "      border-radius: 50%;\n",
              "      cursor: pointer;\n",
              "      display: none;\n",
              "      fill: #1967D2;\n",
              "      height: 32px;\n",
              "      padding: 0 0 0 0;\n",
              "      width: 32px;\n",
              "    }\n",
              "\n",
              "    .colab-df-convert:hover {\n",
              "      background-color: #E2EBFA;\n",
              "      box-shadow: 0px 1px 2px rgba(60, 64, 67, 0.3), 0px 1px 3px 1px rgba(60, 64, 67, 0.15);\n",
              "      fill: #174EA6;\n",
              "    }\n",
              "\n",
              "    [theme=dark] .colab-df-convert {\n",
              "      background-color: #3B4455;\n",
              "      fill: #D2E3FC;\n",
              "    }\n",
              "\n",
              "    [theme=dark] .colab-df-convert:hover {\n",
              "      background-color: #434B5C;\n",
              "      box-shadow: 0px 1px 3px 1px rgba(0, 0, 0, 0.15);\n",
              "      filter: drop-shadow(0px 1px 2px rgba(0, 0, 0, 0.3));\n",
              "      fill: #FFFFFF;\n",
              "    }\n",
              "  </style>\n",
              "\n",
              "      <script>\n",
              "        const buttonEl =\n",
              "          document.querySelector('#df-d11aa5bb-804a-4648-8349-9005ab5979a5 button.colab-df-convert');\n",
              "        buttonEl.style.display =\n",
              "          google.colab.kernel.accessAllowed ? 'block' : 'none';\n",
              "\n",
              "        async function convertToInteractive(key) {\n",
              "          const element = document.querySelector('#df-d11aa5bb-804a-4648-8349-9005ab5979a5');\n",
              "          const dataTable =\n",
              "            await google.colab.kernel.invokeFunction('convertToInteractive',\n",
              "                                                     [key], {});\n",
              "          if (!dataTable) return;\n",
              "\n",
              "          const docLinkHtml = 'Like what you see? Visit the ' +\n",
              "            '<a target=\"_blank\" href=https://colab.research.google.com/notebooks/data_table.ipynb>data table notebook</a>'\n",
              "            + ' to learn more about interactive tables.';\n",
              "          element.innerHTML = '';\n",
              "          dataTable['output_type'] = 'display_data';\n",
              "          await google.colab.output.renderOutput(dataTable, element);\n",
              "          const docLink = document.createElement('div');\n",
              "          docLink.innerHTML = docLinkHtml;\n",
              "          element.appendChild(docLink);\n",
              "        }\n",
              "      </script>\n",
              "    </div>\n",
              "  </div>\n",
              "  "
            ]
          },
          "metadata": {},
          "execution_count": 59
        }
      ],
      "source": [
        "#Converting address information to a dataframe\n",
        "addresslocdf = pd.DataFrame(addressloc)\n",
        "addresslocdf.head()"
      ],
      "metadata": {
        "pycharm": {
          "name": "#%%\n"
        },
        "colab": {
          "base_uri": "https://localhost:8080/",
          "height": 206
        },
        "id": "sNu40OAxcczp",
        "outputId": "a2a06268-70a7-492b-f68f-02bf2377509c"
      }
    },
    {
      "cell_type": "code",
      "execution_count": 60,
      "outputs": [
        {
          "output_type": "execute_result",
          "data": {
            "text/plain": [
              "array(['Curitiba'], dtype=object)"
            ]
          },
          "metadata": {},
          "execution_count": 60
        }
      ],
      "source": [
        "#Curitiba is the only city that is missing the postcode\n",
        "citylocdf[\"city\"].unique()"
      ],
      "metadata": {
        "pycharm": {
          "name": "#%%\n"
        },
        "colab": {
          "base_uri": "https://localhost:8080/"
        },
        "id": "DTjlbA3-cczq",
        "outputId": "f409e2cb-ec78-49ae-c6ec-af678c937c19"
      }
    },
    {
      "cell_type": "code",
      "execution_count": 61,
      "outputs": [
        {
          "output_type": "execute_result",
          "data": {
            "text/plain": [
              "array(['Rua Desembargador Motta 2044 Batel'], dtype=object)"
            ]
          },
          "metadata": {},
          "execution_count": 61
        }
      ],
      "source": [
        "#Rua Desembargador Motta 2044 Batel is the only address that is missing the postcode\n",
        "addresslocdf[\"address\"].unique()"
      ],
      "metadata": {
        "pycharm": {
          "name": "#%%\n"
        },
        "colab": {
          "base_uri": "https://localhost:8080/"
        },
        "id": "9oo0tMRNcczq",
        "outputId": "d6cdd668-e80f-4e72-80be-4ee59d282ad2"
      }
    },
    {
      "cell_type": "code",
      "execution_count": 62,
      "outputs": [
        {
          "output_type": "stream",
          "name": "stdout",
          "text": [
            "2044, Rua Desembargador Motta, Centro, Curitiba, Região Geográfica Imediata de Curitiba, Região Metropolitana de Curitiba, Região Geográfica Intermediária de Curitiba, Paraná, Região Sul, 80420-190, Brasil\n"
          ]
        }
      ],
      "source": [
        "#Because the city and address do not change, I can easily find the postcode\n",
        "geolocator = Nominatim(user_agent=\"my_user_agent\")\n",
        "address = \"Rua Desembargador Motta 2044 Batel\"\n",
        "city = \"Curitiba\"\n",
        "country = \"Brazil\"\n",
        "loc = geolocator.geocode(address + \",\" + city + ',' + country)\n",
        "print(loc)\n",
        "#the postcode is 80420-190"
      ],
      "metadata": {
        "pycharm": {
          "name": "#%%\n"
        },
        "colab": {
          "base_uri": "https://localhost:8080/"
        },
        "id": "HW16yObScczq",
        "outputId": "0a7079d8-0058-4288-c475-081e3f147213"
      }
    },
    {
      "cell_type": "code",
      "execution_count": 63,
      "outputs": [],
      "source": [
        "#Filling in the postcode nulls\n",
        "reviews[\"postalCode\"].fillna(value=80420-190, inplace=True)\n",
        "#I could have created another loop, but the loop would take considerably longer to run because Nominatim restricts heavy usage (1 request per second)"
      ],
      "metadata": {
        "pycharm": {
          "name": "#%%\n"
        },
        "id": "J0Om_XA6cczr"
      }
    },
    {
      "cell_type": "code",
      "execution_count": 64,
      "outputs": [
        {
          "output_type": "execute_result",
          "data": {
            "text/plain": [
              "0.0"
            ]
          },
          "metadata": {},
          "execution_count": 64
        }
      ],
      "source": [
        "#Checking the nulls were filled\n",
        "nulls= reviews[\"postalCode\"].isnull().sum()\n",
        "\n",
        "perc_nulls = (nulls/reviews.shape[0]) *100\n",
        "\n",
        "perc_nulls"
      ],
      "metadata": {
        "pycharm": {
          "name": "#%%\n"
        },
        "colab": {
          "base_uri": "https://localhost:8080/"
        },
        "id": "uYRaLaFjcczr",
        "outputId": "8f5080b4-be98-4298-c9cf-139670ef65f2"
      }
    },
    {
      "cell_type": "markdown",
      "source": [
        "**reviews.userCity** and **reviews.userProvince** - (renamed dataset to **usercity**)"
      ],
      "metadata": {
        "collapsed": false,
        "pycharm": {
          "name": "#%% md\n"
        },
        "id": "mQwpcV-tcczs"
      }
    },
    {
      "cell_type": "code",
      "execution_count": 65,
      "outputs": [
        {
          "output_type": "stream",
          "name": "stdout",
          "text": [
            "Percentage is:\n",
            "reviews.userCity        44.051928\n",
            "reviews.userProvince    44.404639\n",
            "dtype: float64\n",
            "\n",
            "Number of nulls is:\n",
            "reviews.userCity        23855\n",
            "reviews.userProvince    24046\n",
            "dtype: int64\n"
          ]
        }
      ],
      "source": [
        "#Nulls overview\n",
        "nulls= reviews[[\"reviews.userCity\", \"reviews.userProvince\"]].isnull().sum()\n",
        "\n",
        "perc_nulls = (nulls/reviews.shape[0]) *100\n",
        "\n",
        "print(\"Percentage is:\")\n",
        "print(perc_nulls)\n",
        "print()\n",
        "print(\"Number of nulls is:\")\n",
        "print(nulls)"
      ],
      "metadata": {
        "pycharm": {
          "name": "#%%\n"
        },
        "colab": {
          "base_uri": "https://localhost:8080/"
        },
        "id": "qgf-u3hecczs",
        "outputId": "0a6b4270-a874-4373-8cc2-339f6d159f73"
      }
    },
    {
      "cell_type": "code",
      "execution_count": 66,
      "outputs": [],
      "source": [
        "#reviews.userCity and reviews.userProvince lack 44% of values, which is about 24 000 values\n",
        "#My dataset is big (about 55 000 rows), which means that reviews.userCity and reviews.userProvince still have about 30 000 values\n",
        "\n",
        "#usercity - Decision: create a copy of the current dataset but drop the rows that lack reviews.userCity and reviews.userProvince"
      ],
      "metadata": {
        "pycharm": {
          "name": "#%%\n"
        },
        "id": "G4pP8nsCcczt"
      }
    },
    {
      "cell_type": "code",
      "execution_count": 67,
      "outputs": [],
      "source": [
        "usercity = reviews.copy()\n",
        "usercity.dropna(subset = [\"reviews.userCity\", \"reviews.userProvince\"], inplace = True)"
      ],
      "metadata": {
        "pycharm": {
          "name": "#%%\n"
        },
        "id": "0NRtwqNHcczt"
      }
    },
    {
      "cell_type": "code",
      "execution_count": 68,
      "outputs": [
        {
          "output_type": "execute_result",
          "data": {
            "text/plain": [
              "(28200, 16)"
            ]
          },
          "metadata": {},
          "execution_count": 68
        }
      ],
      "source": [
        "usercity.shape"
      ],
      "metadata": {
        "pycharm": {
          "name": "#%%\n"
        },
        "colab": {
          "base_uri": "https://localhost:8080/"
        },
        "id": "BcfupXvkcczt",
        "outputId": "87e60bba-f5fa-4f45-8eb6-170f0d9c3d16"
      }
    },
    {
      "cell_type": "code",
      "execution_count": 69,
      "outputs": [
        {
          "output_type": "stream",
          "name": "stdout",
          "text": [
            "Percentage is:\n",
            "address                 0.0\n",
            "categories              0.0\n",
            "city                    0.0\n",
            "country                 0.0\n",
            "latitude                0.0\n",
            "longitude               0.0\n",
            "name                    0.0\n",
            "postalCode              0.0\n",
            "province                0.0\n",
            "reviews.date            0.0\n",
            "reviews.rating          0.0\n",
            "reviews.text            0.0\n",
            "reviews.title           0.0\n",
            "reviews.userCity        0.0\n",
            "reviews.userProvince    0.0\n",
            "reviews.username        0.0\n",
            "dtype: float64\n",
            "\n",
            "Number of nulls is:\n",
            "address                 0\n",
            "categories              0\n",
            "city                    0\n",
            "country                 0\n",
            "latitude                0\n",
            "longitude               0\n",
            "name                    0\n",
            "postalCode              0\n",
            "province                0\n",
            "reviews.date            0\n",
            "reviews.rating          0\n",
            "reviews.text            0\n",
            "reviews.title           0\n",
            "reviews.userCity        0\n",
            "reviews.userProvince    0\n",
            "reviews.username        0\n",
            "dtype: int64\n"
          ]
        }
      ],
      "source": [
        "#Checking that usercity has no nulls:\n",
        "\n",
        "nulls= usercity.isnull().sum()\n",
        "\n",
        "perc_nulls = (nulls/usercity.shape[0]) *100\n",
        "\n",
        "print(\"Percentage is:\")\n",
        "print(perc_nulls)\n",
        "print()\n",
        "print(\"Number of nulls is:\")\n",
        "print(nulls)"
      ],
      "metadata": {
        "pycharm": {
          "name": "#%%\n"
        },
        "colab": {
          "base_uri": "https://localhost:8080/"
        },
        "id": "k01xBAqacczt",
        "outputId": "7a0ac92c-c094-4f05-971d-17f6f025fed7"
      }
    },
    {
      "cell_type": "code",
      "execution_count": 71,
      "outputs": [],
      "source": [
        "# -> use reset_index for assigning unqiue indexes\n",
        "usercity.reset_index(inplace=True)\n",
        "\n",
        "#reset_index results in the formation of a unique index column that contains original indexes\n",
        "#-> drop the index column\n",
        "usercity.drop(columns=\"index\", inplace=True)"
      ],
      "metadata": {
        "pycharm": {
          "name": "#%%\n"
        },
        "id": "LSHcYL2ecczu"
      }
    },
    {
      "cell_type": "markdown",
      "source": [
        "**Correlation**"
      ],
      "metadata": {
        "collapsed": false,
        "pycharm": {
          "name": "#%% md\n"
        },
        "id": "eotPSAIgcczu"
      }
    },
    {
      "cell_type": "code",
      "execution_count": 72,
      "outputs": [
        {
          "output_type": "display_data",
          "data": {
            "text/plain": [
              "<Figure size 432x288 with 2 Axes>"
            ],
            "image/png": "[encoded data removed]"
          },
          "metadata": {
            "needs_background": "light"
          }
        }
      ],
      "source": [
        "#No interesting correlation between numerical values\n",
        "sns.heatmap(usercity.corr(),\n",
        "            annot = True,\n",
        "            vmin = -1,\n",
        "            vmax = 1,\n",
        "            robust = False,\n",
        "            center=0\n",
        "            )\n",
        "plt.show()"
      ],
      "metadata": {
        "pycharm": {
          "name": "#%%\n"
        },
        "colab": {
          "base_uri": "https://localhost:8080/",
          "height": 269
        },
        "id": "t1r2Ibl1cczu",
        "outputId": "7869bed3-1e0e-413a-a1ee-93ca29819398"
      }
    },
    {
      "cell_type": "markdown",
      "source": [
        "**Dropping outliers in reviews.rating**"
      ],
      "metadata": {
        "collapsed": false,
        "pycharm": {
          "name": "#%% md\n"
        },
        "id": "-YJ9misLcczu"
      }
    },
    {
      "cell_type": "code",
      "execution_count": 73,
      "outputs": [
        {
          "output_type": "display_data",
          "data": {
            "text/plain": [
              "<Figure size 720x360 with 1 Axes>"
            ],
            "image/png": "[encoded data removed]"
          },
          "metadata": {
            "needs_background": "light"
          }
        }
      ],
      "source": [
        "#There are some outliers\n",
        "fig = plt.figure(figsize=(10,5))\n",
        "sns.boxplot(x=usercity[\"reviews.rating\"])\n",
        "plt.show()"
      ],
      "metadata": {
        "pycharm": {
          "name": "#%%\n"
        },
        "colab": {
          "base_uri": "https://localhost:8080/",
          "height": 334
        },
        "id": "8ueUpOQ0cczv",
        "outputId": "c7f99b01-075c-483c-f748-dd39a7c36d12"
      }
    },
    {
      "cell_type": "code",
      "execution_count": 74,
      "outputs": [
        {
          "output_type": "display_data",
          "data": {
            "text/plain": [
              "       reviews.rating                                       reviews.text  \\\n",
              "12673             0.0  to share your opinion of this businesswith YP ...   \n",
              "13176             0.0         xxxxxxxxxxxxxxxxxxxxxxxxxxxxxxxxxxxxxxxxxx   \n",
              "13325             0.0  to share your opinion of this businesswith YP ...   \n",
              "13482             0.0  to share your opinion of this businesswith YP ...   \n",
              "13995             0.0         xxxxxxxxxxxxxxxxxxxxxxxxxxxxxxxxxxxxxxxxxx   \n",
              "\n",
              "                      reviews.title  \n",
              "12673          Lovely oasis of rest  \n",
              "13176   Friendly staff, clean room.  \n",
              "13325  Great value in fabulous town  \n",
              "13482                      The best  \n",
              "13995                            Ok  "
            ],
            "text/html": [
              "\n",
              "  <div id=\"df-2c048594-2227-4697-aa52-28d84fed2f2b\">\n",
              "    <div class=\"colab-df-container\">\n",
              "      <div>\n",
              "<style scoped>\n",
              "    .dataframe tbody tr th:only-of-type {\n",
              "        vertical-align: middle;\n",
              "    }\n",
              "\n",
              "    .dataframe tbody tr th {\n",
              "        vertical-align: top;\n",
              "    }\n",
              "\n",
              "    .dataframe thead th {\n",
              "        text-align: right;\n",
              "    }\n",
              "</style>\n",
              "<table border=\"1\" class=\"dataframe\">\n",
              "  <thead>\n",
              "    <tr style=\"text-align: right;\">\n",
              "      <th></th>\n",
              "      <th>reviews.rating</th>\n",
              "      <th>reviews.text</th>\n",
              "      <th>reviews.title</th>\n",
              "    </tr>\n",
              "  </thead>\n",
              "  <tbody>\n",
              "    <tr>\n",
              "      <th>12673</th>\n",
              "      <td>0.0</td>\n",
              "      <td>to share your opinion of this businesswith YP ...</td>\n",
              "      <td>Lovely oasis of rest</td>\n",
              "    </tr>\n",
              "    <tr>\n",
              "      <th>13176</th>\n",
              "      <td>0.0</td>\n",
              "      <td>xxxxxxxxxxxxxxxxxxxxxxxxxxxxxxxxxxxxxxxxxx</td>\n",
              "      <td>Friendly staff, clean room.</td>\n",
              "    </tr>\n",
              "    <tr>\n",
              "      <th>13325</th>\n",
              "      <td>0.0</td>\n",
              "      <td>to share your opinion of this businesswith YP ...</td>\n",
              "      <td>Great value in fabulous town</td>\n",
              "    </tr>\n",
              "    <tr>\n",
              "      <th>13482</th>\n",
              "      <td>0.0</td>\n",
              "      <td>to share your opinion of this businesswith YP ...</td>\n",
              "      <td>The best</td>\n",
              "    </tr>\n",
              "    <tr>\n",
              "      <th>13995</th>\n",
              "      <td>0.0</td>\n",
              "      <td>xxxxxxxxxxxxxxxxxxxxxxxxxxxxxxxxxxxxxxxxxx</td>\n",
              "      <td>Ok</td>\n",
              "    </tr>\n",
              "  </tbody>\n",
              "</table>\n",
              "</div>\n",
              "      <button class=\"colab-df-convert\" onclick=\"convertToInteractive('df-2c048594-2227-4697-aa52-28d84fed2f2b')\"\n",
              "              title=\"Convert this dataframe to an interactive table.\"\n",
              "              style=\"display:none;\">\n",
              "        \n",
              "  <svg xmlns=\"http://www.w3.org/2000/svg\" height=\"24px\"viewBox=\"0 0 24 24\"\n",
              "       width=\"24px\">\n",
              "    <path d=\"M0 0h24v24H0V0z\" fill=\"none\"/>\n",
              "    <path d=\"M18.56 5.44l.94 2.06.94-2.06 2.06-.94-2.06-.94-.94-2.06-.94 2.06-2.06.94zm-11 1L8.5 8.5l.94-2.06 2.06-.94-2.06-.94L8.5 2.5l-.94 2.06-2.06.94zm10 10l.94 2.06.94-2.06 2.06-.94-2.06-.94-.94-2.06-.94 2.06-2.06.94z\"/><path d=\"M17.41 7.96l-1.37-1.37c-.4-.4-.92-.59-1.43-.59-.52 0-1.04.2-1.43.59L10.3 9.45l-7.72 7.72c-.78.78-.78 2.05 0 2.83L4 21.41c.39.39.9.59 1.41.59.51 0 1.02-.2 1.41-.59l7.78-7.78 2.81-2.81c.8-.78.8-2.07 0-2.86zM5.41 20L4 18.59l7.72-7.72 1.47 1.35L5.41 20z\"/>\n",
              "  </svg>\n",
              "      </button>\n",
              "      \n",
              "  <style>\n",
              "    .colab-df-container {\n",
              "      display:flex;\n",
              "      flex-wrap:wrap;\n",
              "      gap: 12px;\n",
              "    }\n",
              "\n",
              "    .colab-df-convert {\n",
              "      background-color: #E8F0FE;\n",
              "      border: none;\n",
              "      border-radius: 50%;\n",
              "      cursor: pointer;\n",
              "      display: none;\n",
              "      fill: #1967D2;\n",
              "      height: 32px;\n",
              "      padding: 0 0 0 0;\n",
              "      width: 32px;\n",
              "    }\n",
              "\n",
              "    .colab-df-convert:hover {\n",
              "      background-color: #E2EBFA;\n",
              "      box-shadow: 0px 1px 2px rgba(60, 64, 67, 0.3), 0px 1px 3px 1px rgba(60, 64, 67, 0.15);\n",
              "      fill: #174EA6;\n",
              "    }\n",
              "\n",
              "    [theme=dark] .colab-df-convert {\n",
              "      background-color: #3B4455;\n",
              "      fill: #D2E3FC;\n",
              "    }\n",
              "\n",
              "    [theme=dark] .colab-df-convert:hover {\n",
              "      background-color: #434B5C;\n",
              "      box-shadow: 0px 1px 3px 1px rgba(0, 0, 0, 0.15);\n",
              "      filter: drop-shadow(0px 1px 2px rgba(0, 0, 0, 0.3));\n",
              "      fill: #FFFFFF;\n",
              "    }\n",
              "  </style>\n",
              "\n",
              "      <script>\n",
              "        const buttonEl =\n",
              "          document.querySelector('#df-2c048594-2227-4697-aa52-28d84fed2f2b button.colab-df-convert');\n",
              "        buttonEl.style.display =\n",
              "          google.colab.kernel.accessAllowed ? 'block' : 'none';\n",
              "\n",
              "        async function convertToInteractive(key) {\n",
              "          const element = document.querySelector('#df-2c048594-2227-4697-aa52-28d84fed2f2b');\n",
              "          const dataTable =\n",
              "            await google.colab.kernel.invokeFunction('convertToInteractive',\n",
              "                                                     [key], {});\n",
              "          if (!dataTable) return;\n",
              "\n",
              "          const docLinkHtml = 'Like what you see? Visit the ' +\n",
              "            '<a target=\"_blank\" href=https://colab.research.google.com/notebooks/data_table.ipynb>data table notebook</a>'\n",
              "            + ' to learn more about interactive tables.';\n",
              "          element.innerHTML = '';\n",
              "          dataTable['output_type'] = 'display_data';\n",
              "          await google.colab.output.renderOutput(dataTable, element);\n",
              "          const docLink = document.createElement('div');\n",
              "          docLink.innerHTML = docLinkHtml;\n",
              "          element.appendChild(docLink);\n",
              "        }\n",
              "      </script>\n",
              "    </div>\n",
              "  </div>\n",
              "  "
            ]
          },
          "metadata": {}
        }
      ],
      "source": [
        "#calculate upper and lower limits\n",
        "upper_limit = usercity[\"reviews.rating\"].mean() + 3 * usercity[\"reviews.rating\"].std()\n",
        "lower_limit = usercity[\"reviews.rating\"].mean() -3 * usercity[\"reviews.rating\"].std()\n",
        "\n",
        "#select outliers\n",
        "display(usercity[[\"reviews.rating\", \"reviews.text\", \"reviews.title\"]][~((usercity[\"reviews.rating\"] < upper_limit) & (usercity[\"reviews.rating\"] > lower_limit))].head())"
      ],
      "metadata": {
        "pycharm": {
          "name": "#%%\n"
        },
        "colab": {
          "base_uri": "https://localhost:8080/",
          "height": 206
        },
        "id": "BAswsT99cczv",
        "outputId": "ea53b916-0cac-46b5-d668-c0e9692f2f61"
      }
    },
    {
      "cell_type": "markdown",
      "source": [
        "Reviews that are 0.0 are likely outliers"
      ],
      "metadata": {
        "collapsed": false,
        "pycharm": {
          "name": "#%% md\n"
        },
        "id": "PGqVZVXlcczw"
      }
    },
    {
      "cell_type": "code",
      "execution_count": 75,
      "outputs": [
        {
          "output_type": "execute_result",
          "data": {
            "text/plain": [
              "                                            reviews.text  \\\n",
              "12673  to share your opinion of this businesswith YP ...   \n",
              "13176         xxxxxxxxxxxxxxxxxxxxxxxxxxxxxxxxxxxxxxxxxx   \n",
              "13325  to share your opinion of this businesswith YP ...   \n",
              "13482  to share your opinion of this businesswith YP ...   \n",
              "13995         xxxxxxxxxxxxxxxxxxxxxxxxxxxxxxxxxxxxxxxxxx   \n",
              "14227         xxxxxxxxxxxxxxxxxxxxxxxxxxxxxxxxxxxxxxxxxx   \n",
              "14241  to share your opinion of this businesswith YP ...   \n",
              "14375  to share your opinion of this businesswith YP ...   \n",
              "14665  to share your opinion of this businesswith YP ...   \n",
              "14759         xxxxxxxxxxxxxxxxxxxxxxxxxxxxxxxxxxxxxxxxxx   \n",
              "15547  to share your opinion of this businesswith YP ...   \n",
              "15925         xxxxxxxxxxxxxxxxxxxxxxxxxxxxxxxxxxxxxxxxxx   \n",
              "16119  to share your opinion of this businesswith YP ...   \n",
              "16397  to share your opinion of this businesswith YP ...   \n",
              "16711  to share your opinion of this businesswith YP ...   \n",
              "16975  to share your opinion of this businesswith YP ...   \n",
              "17148         xxxxxxxxxxxxxxxxxxxxxxxxxxxxxxxxxxxxxxxxxx   \n",
              "17316  to share your opinion of this businesswith YP ...   \n",
              "17763  to share your opinion of this businesswith YP ...   \n",
              "18144  to share your opinion of this businesswith YP ...   \n",
              "18268  to share your opinion of this businesswith YP ...   \n",
              "19102         xxxxxxxxxxxxxxxxxxxxxxxxxxxxxxxxxxxxxxxxxx   \n",
              "19325  to share your opinion of this businesswith YP ...   \n",
              "19326  The table-side Caesar salad for two is a real ...   \n",
              "19327  Bartender is great. Ask about chocolate bacon ...   \n",
              "19328  (no chocolate bacon. I am dissapoint) great wa...   \n",
              "19366         xxxxxxxxxxxxxxxxxxxxxxxxxxxxxxxxxxxxxxxxxx   \n",
              "19463  to share your opinion of this businesswith YP ...   \n",
              "19504  to share your opinion of this businesswith YP ...   \n",
              "19505         xxxxxxxxxxxxxxxxxxxxxxxxxxxxxxxxxxxxxxxxxx   \n",
              "19632  to share your opinion of this businesswith YP ...   \n",
              "20113         xxxxxxxxxxxxxxxxxxxxxxxxxxxxxxxxxxxxxxxxxx   \n",
              "20476  to share your opinion of this businesswith YP ...   \n",
              "20496         xxxxxxxxxxxxxxxxxxxxxxxxxxxxxxxxxxxxxxxxxx   \n",
              "20925         xxxxxxxxxxxxxxxxxxxxxxxxxxxxxxxxxxxxxxxxxx   \n",
              "21433  to share your opinion of this businesswith YP ...   \n",
              "21790  to share your opinion of this businesswith YP ...   \n",
              "21950         xxxxxxxxxxxxxxxxxxxxxxxxxxxxxxxxxxxxxxxxxx   \n",
              "22350  to share your opinion of this businesswith YP ...   \n",
              "22637  to share your opinion of this businesswith YP ...   \n",
              "22871  to share your opinion of this businesswith YP ...   \n",
              "22887  to share your opinion of this businesswith YP ...   \n",
              "23040         xxxxxxxxxxxxxxxxxxxxxxxxxxxxxxxxxxxxxxxxxx   \n",
              "23511  to share your opinion of this businesswith YP ...   \n",
              "23519         xxxxxxxxxxxxxxxxxxxxxxxxxxxxxxxxxxxxxxxxxx   \n",
              "23538  to share your opinion of this businesswith YP ...   \n",
              "24069  to share your opinion of this businesswith YP ...   \n",
              "24167  to share your opinion of this businesswith YP ...   \n",
              "24790  to share your opinion of this businesswith YP ...   \n",
              "24904  to share your opinion of this businesswith YP ...   \n",
              "\n",
              "                                           reviews.title  \n",
              "12673                               Lovely oasis of rest  \n",
              "13176                        Friendly staff, clean room.  \n",
              "13325                       Great value in fabulous town  \n",
              "13482                                           The best  \n",
              "13995                                                 Ok  \n",
              "14227                Amazing Hotel with Great Character!  \n",
              "14241                    Very cool hotel in South Dakota  \n",
              "14375                            Beautiful and Relaxing!  \n",
              "14665                              So Peaceful Beautiful  \n",
              "14759                       I will NEVER stay here agan.  \n",
              "15547           Review of my stay at Ramada in Denver CO  \n",
              "15925                    Amazing old and well kept hotel  \n",
              "16119                                  Feels like family  \n",
              "16397                            High prices bad service  \n",
              "16711                          Nice for a one night stay  \n",
              "16975                                        anniversary  \n",
              "17148                                        Good Enough  \n",
              "17316        This place has so much unrealized potential  \n",
              "17763                               Wow. Bad Experience.  \n",
              "18144  Rustic, not for everyone, but perfect for many...  \n",
              "18268                        Perfect for what we needed!  \n",
              "19102                                   Nice guest house  \n",
              "19325                                          fantastic  \n",
              "19326                                          fantastic  \n",
              "19327                                          fantastic  \n",
              "19328                                          fantastic  \n",
              "19366                        Decent Hotel but high price  \n",
              "19463                                     Very Very Nice  \n",
              "19504                 Great place to stay for the value!  \n",
              "19505                 Great place to stay for the value!  \n",
              "19632                    Excellent value and very clean.  \n",
              "20113                                              Great  \n",
              "20476                             Our Best BB Experience  \n",
              "20496                          Pay more and go elsewhere  \n",
              "20925                                       End of Day 3  \n",
              "21433             FANTASTIC STAY - EVEN BETTER EMPLOYEES  \n",
              "21790             Awesome Stay, Super Friendly Innkeeper  \n",
              "21950                                   Good night sleep  \n",
              "22350                                   Simply the Best!  \n",
              "22637                          Great place to visit Zion  \n",
              "22871                         Main Street as it once was  \n",
              "22887               Nice at home feel and friendly staff  \n",
              "23040                           The view is so worth it!  \n",
              "23511                              Best Hampton Inn ever  \n",
              "23519                                              Clean  \n",
              "23538                                   Choose this one!  \n",
              "24069       disgusting !!!!!!!! terrible !!! trashy !!!!  \n",
              "24167                                    Lovely weekend!  \n",
              "24790                  Great and in a very good location  \n",
              "24904                              Quiet and comfortable  "
            ],
            "text/html": [
              "\n",
              "  <div id=\"df-3911e7d6-485d-471d-add9-6067228fbe1b\">\n",
              "    <div class=\"colab-df-container\">\n",
              "      <div>\n",
              "<style scoped>\n",
              "    .dataframe tbody tr th:only-of-type {\n",
              "        vertical-align: middle;\n",
              "    }\n",
              "\n",
              "    .dataframe tbody tr th {\n",
              "        vertical-align: top;\n",
              "    }\n",
              "\n",
              "    .dataframe thead th {\n",
              "        text-align: right;\n",
              "    }\n",
              "</style>\n",
              "<table border=\"1\" class=\"dataframe\">\n",
              "  <thead>\n",
              "    <tr style=\"text-align: right;\">\n",
              "      <th></th>\n",
              "      <th>reviews.text</th>\n",
              "      <th>reviews.title</th>\n",
              "    </tr>\n",
              "  </thead>\n",
              "  <tbody>\n",
              "    <tr>\n",
              "      <th>12673</th>\n",
              "      <td>to share your opinion of this businesswith YP ...</td>\n",
              "      <td>Lovely oasis of rest</td>\n",
              "    </tr>\n",
              "    <tr>\n",
              "      <th>13176</th>\n",
              "      <td>xxxxxxxxxxxxxxxxxxxxxxxxxxxxxxxxxxxxxxxxxx</td>\n",
              "      <td>Friendly staff, clean room.</td>\n",
              "    </tr>\n",
              "    <tr>\n",
              "      <th>13325</th>\n",
              "      <td>to share your opinion of this businesswith YP ...</td>\n",
              "      <td>Great value in fabulous town</td>\n",
              "    </tr>\n",
              "    <tr>\n",
              "      <th>13482</th>\n",
              "      <td>to share your opinion of this businesswith YP ...</td>\n",
              "      <td>The best</td>\n",
              "    </tr>\n",
              "    <tr>\n",
              "      <th>13995</th>\n",
              "      <td>xxxxxxxxxxxxxxxxxxxxxxxxxxxxxxxxxxxxxxxxxx</td>\n",
              "      <td>Ok</td>\n",
              "    </tr>\n",
              "    <tr>\n",
              "      <th>14227</th>\n",
              "      <td>xxxxxxxxxxxxxxxxxxxxxxxxxxxxxxxxxxxxxxxxxx</td>\n",
              "      <td>Amazing Hotel with Great Character!</td>\n",
              "    </tr>\n",
              "    <tr>\n",
              "      <th>14241</th>\n",
              "      <td>to share your opinion of this businesswith YP ...</td>\n",
              "      <td>Very cool hotel in South Dakota</td>\n",
              "    </tr>\n",
              "    <tr>\n",
              "      <th>14375</th>\n",
              "      <td>to share your opinion of this businesswith YP ...</td>\n",
              "      <td>Beautiful and Relaxing!</td>\n",
              "    </tr>\n",
              "    <tr>\n",
              "      <th>14665</th>\n",
              "      <td>to share your opinion of this businesswith YP ...</td>\n",
              "      <td>So Peaceful Beautiful</td>\n",
              "    </tr>\n",
              "    <tr>\n",
              "      <th>14759</th>\n",
              "      <td>xxxxxxxxxxxxxxxxxxxxxxxxxxxxxxxxxxxxxxxxxx</td>\n",
              "      <td>I will NEVER stay here agan.</td>\n",
              "    </tr>\n",
              "    <tr>\n",
              "      <th>15547</th>\n",
              "      <td>to share your opinion of this businesswith YP ...</td>\n",
              "      <td>Review of my stay at Ramada in Denver CO</td>\n",
              "    </tr>\n",
              "    <tr>\n",
              "      <th>15925</th>\n",
              "      <td>xxxxxxxxxxxxxxxxxxxxxxxxxxxxxxxxxxxxxxxxxx</td>\n",
              "      <td>Amazing old and well kept hotel</td>\n",
              "    </tr>\n",
              "    <tr>\n",
              "      <th>16119</th>\n",
              "      <td>to share your opinion of this businesswith YP ...</td>\n",
              "      <td>Feels like family</td>\n",
              "    </tr>\n",
              "    <tr>\n",
              "      <th>16397</th>\n",
              "      <td>to share your opinion of this businesswith YP ...</td>\n",
              "      <td>High prices bad service</td>\n",
              "    </tr>\n",
              "    <tr>\n",
              "      <th>16711</th>\n",
              "      <td>to share your opinion of this businesswith YP ...</td>\n",
              "      <td>Nice for a one night stay</td>\n",
              "    </tr>\n",
              "    <tr>\n",
              "      <th>16975</th>\n",
              "      <td>to share your opinion of this businesswith YP ...</td>\n",
              "      <td>anniversary</td>\n",
              "    </tr>\n",
              "    <tr>\n",
              "      <th>17148</th>\n",
              "      <td>xxxxxxxxxxxxxxxxxxxxxxxxxxxxxxxxxxxxxxxxxx</td>\n",
              "      <td>Good Enough</td>\n",
              "    </tr>\n",
              "    <tr>\n",
              "      <th>17316</th>\n",
              "      <td>to share your opinion of this businesswith YP ...</td>\n",
              "      <td>This place has so much unrealized potential</td>\n",
              "    </tr>\n",
              "    <tr>\n",
              "      <th>17763</th>\n",
              "      <td>to share your opinion of this businesswith YP ...</td>\n",
              "      <td>Wow. Bad Experience.</td>\n",
              "    </tr>\n",
              "    <tr>\n",
              "      <th>18144</th>\n",
              "      <td>to share your opinion of this businesswith YP ...</td>\n",
              "      <td>Rustic, not for everyone, but perfect for many...</td>\n",
              "    </tr>\n",
              "    <tr>\n",
              "      <th>18268</th>\n",
              "      <td>to share your opinion of this businesswith YP ...</td>\n",
              "      <td>Perfect for what we needed!</td>\n",
              "    </tr>\n",
              "    <tr>\n",
              "      <th>19102</th>\n",
              "      <td>xxxxxxxxxxxxxxxxxxxxxxxxxxxxxxxxxxxxxxxxxx</td>\n",
              "      <td>Nice guest house</td>\n",
              "    </tr>\n",
              "    <tr>\n",
              "      <th>19325</th>\n",
              "      <td>to share your opinion of this businesswith YP ...</td>\n",
              "      <td>fantastic</td>\n",
              "    </tr>\n",
              "    <tr>\n",
              "      <th>19326</th>\n",
              "      <td>The table-side Caesar salad for two is a real ...</td>\n",
              "      <td>fantastic</td>\n",
              "    </tr>\n",
              "    <tr>\n",
              "      <th>19327</th>\n",
              "      <td>Bartender is great. Ask about chocolate bacon ...</td>\n",
              "      <td>fantastic</td>\n",
              "    </tr>\n",
              "    <tr>\n",
              "      <th>19328</th>\n",
              "      <td>(no chocolate bacon. I am dissapoint) great wa...</td>\n",
              "      <td>fantastic</td>\n",
              "    </tr>\n",
              "    <tr>\n",
              "      <th>19366</th>\n",
              "      <td>xxxxxxxxxxxxxxxxxxxxxxxxxxxxxxxxxxxxxxxxxx</td>\n",
              "      <td>Decent Hotel but high price</td>\n",
              "    </tr>\n",
              "    <tr>\n",
              "      <th>19463</th>\n",
              "      <td>to share your opinion of this businesswith YP ...</td>\n",
              "      <td>Very Very Nice</td>\n",
              "    </tr>\n",
              "    <tr>\n",
              "      <th>19504</th>\n",
              "      <td>to share your opinion of this businesswith YP ...</td>\n",
              "      <td>Great place to stay for the value!</td>\n",
              "    </tr>\n",
              "    <tr>\n",
              "      <th>19505</th>\n",
              "      <td>xxxxxxxxxxxxxxxxxxxxxxxxxxxxxxxxxxxxxxxxxx</td>\n",
              "      <td>Great place to stay for the value!</td>\n",
              "    </tr>\n",
              "    <tr>\n",
              "      <th>19632</th>\n",
              "      <td>to share your opinion of this businesswith YP ...</td>\n",
              "      <td>Excellent value and very clean.</td>\n",
              "    </tr>\n",
              "    <tr>\n",
              "      <th>20113</th>\n",
              "      <td>xxxxxxxxxxxxxxxxxxxxxxxxxxxxxxxxxxxxxxxxxx</td>\n",
              "      <td>Great</td>\n",
              "    </tr>\n",
              "    <tr>\n",
              "      <th>20476</th>\n",
              "      <td>to share your opinion of this businesswith YP ...</td>\n",
              "      <td>Our Best BB Experience</td>\n",
              "    </tr>\n",
              "    <tr>\n",
              "      <th>20496</th>\n",
              "      <td>xxxxxxxxxxxxxxxxxxxxxxxxxxxxxxxxxxxxxxxxxx</td>\n",
              "      <td>Pay more and go elsewhere</td>\n",
              "    </tr>\n",
              "    <tr>\n",
              "      <th>20925</th>\n",
              "      <td>xxxxxxxxxxxxxxxxxxxxxxxxxxxxxxxxxxxxxxxxxx</td>\n",
              "      <td>End of Day 3</td>\n",
              "    </tr>\n",
              "    <tr>\n",
              "      <th>21433</th>\n",
              "      <td>to share your opinion of this businesswith YP ...</td>\n",
              "      <td>FANTASTIC STAY - EVEN BETTER EMPLOYEES</td>\n",
              "    </tr>\n",
              "    <tr>\n",
              "      <th>21790</th>\n",
              "      <td>to share your opinion of this businesswith YP ...</td>\n",
              "      <td>Awesome Stay, Super Friendly Innkeeper</td>\n",
              "    </tr>\n",
              "    <tr>\n",
              "      <th>21950</th>\n",
              "      <td>xxxxxxxxxxxxxxxxxxxxxxxxxxxxxxxxxxxxxxxxxx</td>\n",
              "      <td>Good night sleep</td>\n",
              "    </tr>\n",
              "    <tr>\n",
              "      <th>22350</th>\n",
              "      <td>to share your opinion of this businesswith YP ...</td>\n",
              "      <td>Simply the Best!</td>\n",
              "    </tr>\n",
              "    <tr>\n",
              "      <th>22637</th>\n",
              "      <td>to share your opinion of this businesswith YP ...</td>\n",
              "      <td>Great place to visit Zion</td>\n",
              "    </tr>\n",
              "    <tr>\n",
              "      <th>22871</th>\n",
              "      <td>to share your opinion of this businesswith YP ...</td>\n",
              "      <td>Main Street as it once was</td>\n",
              "    </tr>\n",
              "    <tr>\n",
              "      <th>22887</th>\n",
              "      <td>to share your opinion of this businesswith YP ...</td>\n",
              "      <td>Nice at home feel and friendly staff</td>\n",
              "    </tr>\n",
              "    <tr>\n",
              "      <th>23040</th>\n",
              "      <td>xxxxxxxxxxxxxxxxxxxxxxxxxxxxxxxxxxxxxxxxxx</td>\n",
              "      <td>The view is so worth it!</td>\n",
              "    </tr>\n",
              "    <tr>\n",
              "      <th>23511</th>\n",
              "      <td>to share your opinion of this businesswith YP ...</td>\n",
              "      <td>Best Hampton Inn ever</td>\n",
              "    </tr>\n",
              "    <tr>\n",
              "      <th>23519</th>\n",
              "      <td>xxxxxxxxxxxxxxxxxxxxxxxxxxxxxxxxxxxxxxxxxx</td>\n",
              "      <td>Clean</td>\n",
              "    </tr>\n",
              "    <tr>\n",
              "      <th>23538</th>\n",
              "      <td>to share your opinion of this businesswith YP ...</td>\n",
              "      <td>Choose this one!</td>\n",
              "    </tr>\n",
              "    <tr>\n",
              "      <th>24069</th>\n",
              "      <td>to share your opinion of this businesswith YP ...</td>\n",
              "      <td>disgusting !!!!!!!! terrible !!! trashy !!!!</td>\n",
              "    </tr>\n",
              "    <tr>\n",
              "      <th>24167</th>\n",
              "      <td>to share your opinion of this businesswith YP ...</td>\n",
              "      <td>Lovely weekend!</td>\n",
              "    </tr>\n",
              "    <tr>\n",
              "      <th>24790</th>\n",
              "      <td>to share your opinion of this businesswith YP ...</td>\n",
              "      <td>Great and in a very good location</td>\n",
              "    </tr>\n",
              "    <tr>\n",
              "      <th>24904</th>\n",
              "      <td>to share your opinion of this businesswith YP ...</td>\n",
              "      <td>Quiet and comfortable</td>\n",
              "    </tr>\n",
              "  </tbody>\n",
              "</table>\n",
              "</div>\n",
              "      <button class=\"colab-df-convert\" onclick=\"convertToInteractive('df-3911e7d6-485d-471d-add9-6067228fbe1b')\"\n",
              "              title=\"Convert this dataframe to an interactive table.\"\n",
              "              style=\"display:none;\">\n",
              "        \n",
              "  <svg xmlns=\"http://www.w3.org/2000/svg\" height=\"24px\"viewBox=\"0 0 24 24\"\n",
              "       width=\"24px\">\n",
              "    <path d=\"M0 0h24v24H0V0z\" fill=\"none\"/>\n",
              "    <path d=\"M18.56 5.44l.94 2.06.94-2.06 2.06-.94-2.06-.94-.94-2.06-.94 2.06-2.06.94zm-11 1L8.5 8.5l.94-2.06 2.06-.94-2.06-.94L8.5 2.5l-.94 2.06-2.06.94zm10 10l.94 2.06.94-2.06 2.06-.94-2.06-.94-.94-2.06-.94 2.06-2.06.94z\"/><path d=\"M17.41 7.96l-1.37-1.37c-.4-.4-.92-.59-1.43-.59-.52 0-1.04.2-1.43.59L10.3 9.45l-7.72 7.72c-.78.78-.78 2.05 0 2.83L4 21.41c.39.39.9.59 1.41.59.51 0 1.02-.2 1.41-.59l7.78-7.78 2.81-2.81c.8-.78.8-2.07 0-2.86zM5.41 20L4 18.59l7.72-7.72 1.47 1.35L5.41 20z\"/>\n",
              "  </svg>\n",
              "      </button>\n",
              "      \n",
              "  <style>\n",
              "    .colab-df-container {\n",
              "      display:flex;\n",
              "      flex-wrap:wrap;\n",
              "      gap: 12px;\n",
              "    }\n",
              "\n",
              "    .colab-df-convert {\n",
              "      background-color: #E8F0FE;\n",
              "      border: none;\n",
              "      border-radius: 50%;\n",
              "      cursor: pointer;\n",
              "      display: none;\n",
              "      fill: #1967D2;\n",
              "      height: 32px;\n",
              "      padding: 0 0 0 0;\n",
              "      width: 32px;\n",
              "    }\n",
              "\n",
              "    .colab-df-convert:hover {\n",
              "      background-color: #E2EBFA;\n",
              "      box-shadow: 0px 1px 2px rgba(60, 64, 67, 0.3), 0px 1px 3px 1px rgba(60, 64, 67, 0.15);\n",
              "      fill: #174EA6;\n",
              "    }\n",
              "\n",
              "    [theme=dark] .colab-df-convert {\n",
              "      background-color: #3B4455;\n",
              "      fill: #D2E3FC;\n",
              "    }\n",
              "\n",
              "    [theme=dark] .colab-df-convert:hover {\n",
              "      background-color: #434B5C;\n",
              "      box-shadow: 0px 1px 3px 1px rgba(0, 0, 0, 0.15);\n",
              "      filter: drop-shadow(0px 1px 2px rgba(0, 0, 0, 0.3));\n",
              "      fill: #FFFFFF;\n",
              "    }\n",
              "  </style>\n",
              "\n",
              "      <script>\n",
              "        const buttonEl =\n",
              "          document.querySelector('#df-3911e7d6-485d-471d-add9-6067228fbe1b button.colab-df-convert');\n",
              "        buttonEl.style.display =\n",
              "          google.colab.kernel.accessAllowed ? 'block' : 'none';\n",
              "\n",
              "        async function convertToInteractive(key) {\n",
              "          const element = document.querySelector('#df-3911e7d6-485d-471d-add9-6067228fbe1b');\n",
              "          const dataTable =\n",
              "            await google.colab.kernel.invokeFunction('convertToInteractive',\n",
              "                                                     [key], {});\n",
              "          if (!dataTable) return;\n",
              "\n",
              "          const docLinkHtml = 'Like what you see? Visit the ' +\n",
              "            '<a target=\"_blank\" href=https://colab.research.google.com/notebooks/data_table.ipynb>data table notebook</a>'\n",
              "            + ' to learn more about interactive tables.';\n",
              "          element.innerHTML = '';\n",
              "          dataTable['output_type'] = 'display_data';\n",
              "          await google.colab.output.renderOutput(dataTable, element);\n",
              "          const docLink = document.createElement('div');\n",
              "          docLink.innerHTML = docLinkHtml;\n",
              "          element.appendChild(docLink);\n",
              "        }\n",
              "      </script>\n",
              "    </div>\n",
              "  </div>\n",
              "  "
            ]
          },
          "metadata": {},
          "execution_count": 75
        }
      ],
      "source": [
        "# reviews.rating==0.0 are not reliable\n",
        "usercity[[\"reviews.text\", \"reviews.title\"]][usercity[\"reviews.rating\"]==0.0].head(50)"
      ],
      "metadata": {
        "pycharm": {
          "name": "#%%\n"
        },
        "colab": {
          "base_uri": "https://localhost:8080/",
          "height": 1000
        },
        "id": "qN4M1eIacczw",
        "outputId": "4d85897f-cfd6-4032-d665-453b4e209e16"
      }
    },
    {
      "cell_type": "code",
      "execution_count": 76,
      "outputs": [
        {
          "output_type": "execute_result",
          "data": {
            "text/plain": [
              "address                 0.20922\n",
              "categories              0.20922\n",
              "city                    0.20922\n",
              "country                 0.20922\n",
              "latitude                0.20922\n",
              "longitude               0.20922\n",
              "name                    0.20922\n",
              "postalCode              0.20922\n",
              "province                0.20922\n",
              "reviews.date            0.20922\n",
              "reviews.rating          0.20922\n",
              "reviews.text            0.20922\n",
              "reviews.title           0.20922\n",
              "reviews.userCity        0.20922\n",
              "reviews.userProvince    0.20922\n",
              "reviews.username        0.20922\n",
              "dtype: float64"
            ]
          },
          "metadata": {},
          "execution_count": 76
        }
      ],
      "source": [
        "#Less than 0.3% of data has reviews.rating 0.0\n",
        "\n",
        "zeros = usercity[usercity[\"reviews.rating\"]==0.0].count()\n",
        "perc_zeros = (zeros/usercity.shape[0])*100\n",
        "perc_zeros"
      ],
      "metadata": {
        "pycharm": {
          "name": "#%%\n"
        },
        "colab": {
          "base_uri": "https://localhost:8080/"
        },
        "id": "1ZLpmxGMcczx",
        "outputId": "1df049db-1bbf-4f05-ba98-5b44c990da6b"
      }
    },
    {
      "cell_type": "code",
      "execution_count": 77,
      "outputs": [],
      "source": [
        "#Dropping reviews.rating==0.0 because these are less than 0.2% of data\n",
        "\n",
        "usercity.drop(usercity[usercity['reviews.rating'] == 0.0].index, inplace=True)\n",
        "\n",
        "# -> use reset_index for assigning unique indexes\n",
        "usercity.reset_index(inplace=True)\n",
        "\n",
        "#reset_index results in the formation of a unique index column that contains original indexes\n",
        "#-> drop the index column\n",
        "usercity.drop(columns=\"index\", inplace=True)"
      ],
      "metadata": {
        "pycharm": {
          "name": "#%%\n"
        },
        "id": "ztQBxZxwcczx"
      }
    },
    {
      "cell_type": "code",
      "execution_count": 78,
      "outputs": [
        {
          "output_type": "execute_result",
          "data": {
            "text/plain": [
              "28141"
            ]
          },
          "metadata": {},
          "execution_count": 78
        }
      ],
      "source": [
        "#No of rows after dropping reviews.rating == 0.0\n",
        "usercity.shape[0]"
      ],
      "metadata": {
        "pycharm": {
          "name": "#%%\n"
        },
        "colab": {
          "base_uri": "https://localhost:8080/"
        },
        "id": "_AmYyxKncczx",
        "outputId": "664d8fc7-a2b0-43e5-ec53-06fc9a87fa1f"
      }
    },
    {
      "cell_type": "markdown",
      "source": [
        "Some **reviews.ratings** are between **1 and 5**, some are between **1 and 10**"
      ],
      "metadata": {
        "collapsed": false,
        "pycharm": {
          "name": "#%% md\n"
        },
        "id": "lu9hFV3Ncczx"
      }
    },
    {
      "cell_type": "code",
      "execution_count": 79,
      "outputs": [
        {
          "output_type": "execute_result",
          "data": {
            "text/plain": [
              "array([ 2. ,  5. ,  4. ,  1. ,  3. ,  4.1,  3.3, 10. ,  9.6,  9.2,  7.1,\n",
              "        7.9,  8.8,  8.3,  4.3,  4.8,  3.9,  2.8,  4.5,  4.4,  4.7,  1.5,\n",
              "        4.9,  4.6,  3.1,  6.3,  5.8,  7.5,  5.4,  6.7,  2.5,  6. ,  2.9,\n",
              "        4.2,  7. ,  9.5])"
            ]
          },
          "metadata": {},
          "execution_count": 79
        }
      ],
      "source": [
        "#unique elements of reviews.rating\n",
        "usercity[\"reviews.rating\"].unique()"
      ],
      "metadata": {
        "pycharm": {
          "name": "#%%\n"
        },
        "colab": {
          "base_uri": "https://localhost:8080/"
        },
        "id": "rkPQ7_zhcczy",
        "outputId": "345a8f5f-bbdd-4b30-e245-35f17cc8e3b3"
      }
    },
    {
      "cell_type": "code",
      "execution_count": 80,
      "outputs": [
        {
          "output_type": "execute_result",
          "data": {
            "text/plain": [
              "address                 297\n",
              "categories              297\n",
              "city                    297\n",
              "country                 297\n",
              "latitude                297\n",
              "longitude               297\n",
              "name                    297\n",
              "postalCode              297\n",
              "province                297\n",
              "reviews.date            297\n",
              "reviews.rating          297\n",
              "reviews.text            297\n",
              "reviews.title           297\n",
              "reviews.userCity        297\n",
              "reviews.userProvince    297\n",
              "reviews.username        297\n",
              "dtype: int64"
            ]
          },
          "metadata": {},
          "execution_count": 80
        }
      ],
      "source": [
        "#The majority of reviews.rating is between 0 and 5\n",
        "usercity[usercity[\"reviews.rating\"] > 5.0].count()"
      ],
      "metadata": {
        "pycharm": {
          "name": "#%%\n"
        },
        "colab": {
          "base_uri": "https://localhost:8080/"
        },
        "id": "C833H7fhcczy",
        "outputId": "a40c503f-600b-498b-90df-0d13ddb18d49"
      }
    },
    {
      "cell_type": "code",
      "execution_count": 81,
      "outputs": [
        {
          "output_type": "execute_result",
          "data": {
            "text/plain": [
              "address                 1.0554\n",
              "categories              1.0554\n",
              "city                    1.0554\n",
              "country                 1.0554\n",
              "latitude                1.0554\n",
              "longitude               1.0554\n",
              "name                    1.0554\n",
              "postalCode              1.0554\n",
              "province                1.0554\n",
              "reviews.date            1.0554\n",
              "reviews.rating          1.0554\n",
              "reviews.text            1.0554\n",
              "reviews.title           1.0554\n",
              "reviews.userCity        1.0554\n",
              "reviews.userProvince    1.0554\n",
              "reviews.username        1.0554\n",
              "dtype: float64"
            ]
          },
          "metadata": {},
          "execution_count": 81
        }
      ],
      "source": [
        "#Less than 2% of data has reviews.rating over 5.0\n",
        "\n",
        "one_to_ten = usercity[usercity[\"reviews.rating\"]>5.0].count()\n",
        "perc_one_to_ten = (one_to_ten/usercity.shape[0])*100\n",
        "perc_one_to_ten"
      ],
      "metadata": {
        "pycharm": {
          "name": "#%%\n"
        },
        "colab": {
          "base_uri": "https://localhost:8080/"
        },
        "id": "yVLcEeKIcczy",
        "outputId": "0056ee5c-c1a2-42c2-e63e-2f98141dae92"
      }
    },
    {
      "cell_type": "code",
      "execution_count": 82,
      "outputs": [],
      "source": [
        "#Dropping hotels with reviews.rating > 5.0 because these are less than 2% of the data\n",
        "usercity.drop(usercity[\"name\"][usercity[\"reviews.rating\"]>5.0].index, inplace=True)\n",
        "\n",
        "#resetting index after dropping rows\n",
        "usercity.reset_index(inplace=True)\n",
        "\n",
        "#reset_index results in the formation of a unique index column that contains original indexes\n",
        "#-> drop the index column\n",
        "usercity.drop(columns=\"index\", inplace=True)"
      ],
      "metadata": {
        "pycharm": {
          "name": "#%%\n"
        },
        "id": "tTWXkUq6cczz"
      }
    },
    {
      "cell_type": "code",
      "execution_count": 83,
      "outputs": [
        {
          "output_type": "execute_result",
          "data": {
            "text/plain": [
              "0"
            ]
          },
          "metadata": {},
          "execution_count": 83
        }
      ],
      "source": [
        "#Dropping reviews.rating > 5.0 worked\n",
        "usercity[\"name\"][usercity[\"reviews.rating\"]>5.0].count()"
      ],
      "metadata": {
        "pycharm": {
          "name": "#%%\n"
        },
        "colab": {
          "base_uri": "https://localhost:8080/"
        },
        "id": "qVTJ2EAHcczz",
        "outputId": "b1cfdd9b-1263-4e1e-f16d-c2b71e31ba7e"
      }
    },
    {
      "cell_type": "code",
      "execution_count": 84,
      "outputs": [
        {
          "output_type": "execute_result",
          "data": {
            "text/plain": [
              "27844"
            ]
          },
          "metadata": {},
          "execution_count": 84
        }
      ],
      "source": [
        "#No of rows after dropping reviews.rating == 0.0\n",
        "usercity.shape[0]"
      ],
      "metadata": {
        "pycharm": {
          "name": "#%%\n"
        },
        "colab": {
          "base_uri": "https://localhost:8080/"
        },
        "id": "04-7GW_Fcczz",
        "outputId": "bf5c4a24-569b-4b88-e845-2f38ebb70f75"
      }
    },
    {
      "cell_type": "markdown",
      "source": [
        "**Categories**"
      ],
      "metadata": {
        "collapsed": false,
        "pycharm": {
          "name": "#%% md\n"
        },
        "id": "maJuFd4vcczz"
      }
    },
    {
      "cell_type": "code",
      "execution_count": 85,
      "outputs": [
        {
          "output_type": "execute_result",
          "data": {
            "text/plain": [
              "array(['Hotels,Hotels and motels,Travel agencies and bureaus,Hotel and Motel Management,Hotel & Motel Management,Motels,Hotel',\n",
              "       'Hotels,Hotels and motels,Hotel and motel reservations,Corporate Lodging,Lodging,Real estate,Hotel',\n",
              "       'Hotels,Caterers,Hotels and motels,Hotel,Restaurants', ...,\n",
              "       'Hotels,hotel', 'Motels,Hotels,Bed & Breakfast & Inns,Lodging',\n",
              "       'Cabins,Resorts & Vacation Cottages,Wedding Chapels,Vacation Home Rental,Hotels,Bowling Alleys,Hotels & Motels,Hotel,Cabin Cottage & Chalet Rental,Resorts,Real Estate Developers,Home Builders,Resortresort_hotel'],\n",
              "      dtype=object)"
            ]
          },
          "metadata": {},
          "execution_count": 85
        }
      ],
      "source": [
        "usercity[\"categories\"].unique()"
      ],
      "metadata": {
        "pycharm": {
          "name": "#%%\n"
        },
        "colab": {
          "base_uri": "https://localhost:8080/"
        },
        "id": "BcW5GadIccz0",
        "outputId": "64bace25-83fa-4322-98f8-fd503b8965b7"
      }
    },
    {
      "cell_type": "code",
      "execution_count": 86,
      "outputs": [],
      "source": [
        "#dropping categories as these are not informative\n",
        "usercity.drop(columns=[\"categories\"], inplace=True)"
      ],
      "metadata": {
        "pycharm": {
          "name": "#%%\n"
        },
        "id": "79ZOFp-wccz0"
      }
    },
    {
      "cell_type": "markdown",
      "source": [
        "**Generating primary keys** \n",
        "- because the dataset will be imported into SANDBOX (type of postgresql database system)"
      ],
      "metadata": {
        "collapsed": false,
        "pycharm": {
          "name": "#%% md\n"
        },
        "id": "ioZ7OxJEccz0"
      }
    },
    {
      "cell_type": "code",
      "execution_count": 87,
      "outputs": [],
      "source": [
        "#inserting an empty column called keys\n",
        "usercity.insert(3, \"keys\", \"\")"
      ],
      "metadata": {
        "pycharm": {
          "name": "#%%\n"
        },
        "id": "BYDnsTsJccz0"
      }
    },
    {
      "cell_type": "code",
      "execution_count": 88,
      "outputs": [],
      "source": [
        "#Filling the key column with unique row index\n",
        "for i in range(0, usercity.shape[0]):\n",
        "    counter+=1\n",
        "    usercity.loc[i, [\"keys\"]] = i"
      ],
      "metadata": {
        "pycharm": {
          "name": "#%%\n"
        },
        "id": "NWAd7VMpccz0"
      }
    },
    {
      "cell_type": "code",
      "execution_count": 89,
      "outputs": [
        {
          "output_type": "execute_result",
          "data": {
            "text/plain": [
              "          address     city country keys   latitude  longitude  \\\n",
              "0  7520 Teague Rd  Hanover      US    0  39.155929 -76.716341   \n",
              "1  7520 Teague Rd  Hanover      US    1  39.155929 -76.716341   \n",
              "2  7520 Teague Rd  Hanover      US    2  39.155929 -76.716341   \n",
              "3  7520 Teague Rd  Hanover      US    3  39.155929 -76.716341   \n",
              "4  7520 Teague Rd  Hanover      US    4  39.155929 -76.716341   \n",
              "\n",
              "                  name postalCode province reviews.date  reviews.rating  \\\n",
              "0  Aloft Arundel Mills      21076       MD   2016-05-15             2.0   \n",
              "1  Aloft Arundel Mills      21076       MD   2016-07-09             5.0   \n",
              "2  Aloft Arundel Mills      21076       MD   2016-06-11             5.0   \n",
              "3  Aloft Arundel Mills      21076       MD   2016-06-24             5.0   \n",
              "4  Aloft Arundel Mills      21076       MD   2016-05-29             5.0   \n",
              "\n",
              "                                        reviews.text  \\\n",
              "0  Currently in bed writing this for the past hr ...   \n",
              "1  I live in Md and the Aloft is my Home away fro...   \n",
              "2  I stayed here with my family for my daughters ...   \n",
              "3  We stayed here while visiting Maryland Live!. ...   \n",
              "4  I travel a lot with my job, so I'm constantly ...   \n",
              "\n",
              "                              reviews.title reviews.userCity  \\\n",
              "0  Never again...beware, if you want sleep.         Richmond   \n",
              "1                      ALWAYS GREAT STAY...           Laurel   \n",
              "2                            Wonderful stay           Laurel   \n",
              "3                    Great Hotel Experiece!          Clayton   \n",
              "4                  Short stay for business.           Boston   \n",
              "\n",
              "  reviews.userProvince      reviews.username  \n",
              "0                   VA             jaeem2016  \n",
              "1                   MD            MamaNiaOne  \n",
              "2                   MD              kevan777  \n",
              "3                   NC           DebMurphy57  \n",
              "4                   MA  kayleighwillswim1224  "
            ],
            "text/html": [
              "\n",
              "  <div id=\"df-49033fc5-135e-4ffb-ad9b-a7cab8cd6841\">\n",
              "    <div class=\"colab-df-container\">\n",
              "      <div>\n",
              "<style scoped>\n",
              "    .dataframe tbody tr th:only-of-type {\n",
              "        vertical-align: middle;\n",
              "    }\n",
              "\n",
              "    .dataframe tbody tr th {\n",
              "        vertical-align: top;\n",
              "    }\n",
              "\n",
              "    .dataframe thead th {\n",
              "        text-align: right;\n",
              "    }\n",
              "</style>\n",
              "<table border=\"1\" class=\"dataframe\">\n",
              "  <thead>\n",
              "    <tr style=\"text-align: right;\">\n",
              "      <th></th>\n",
              "      <th>address</th>\n",
              "      <th>city</th>\n",
              "      <th>country</th>\n",
              "      <th>keys</th>\n",
              "      <th>latitude</th>\n",
              "      <th>longitude</th>\n",
              "      <th>name</th>\n",
              "      <th>postalCode</th>\n",
              "      <th>province</th>\n",
              "      <th>reviews.date</th>\n",
              "      <th>reviews.rating</th>\n",
              "      <th>reviews.text</th>\n",
              "      <th>reviews.title</th>\n",
              "      <th>reviews.userCity</th>\n",
              "      <th>reviews.userProvince</th>\n",
              "      <th>reviews.username</th>\n",
              "    </tr>\n",
              "  </thead>\n",
              "  <tbody>\n",
              "    <tr>\n",
              "      <th>0</th>\n",
              "      <td>7520 Teague Rd</td>\n",
              "      <td>Hanover</td>\n",
              "      <td>US</td>\n",
              "      <td>0</td>\n",
              "      <td>39.155929</td>\n",
              "      <td>-76.716341</td>\n",
              "      <td>Aloft Arundel Mills</td>\n",
              "      <td>21076</td>\n",
              "      <td>MD</td>\n",
              "      <td>2016-05-15</td>\n",
              "      <td>2.0</td>\n",
              "      <td>Currently in bed writing this for the past hr ...</td>\n",
              "      <td>Never again...beware, if you want sleep.</td>\n",
              "      <td>Richmond</td>\n",
              "      <td>VA</td>\n",
              "      <td>jaeem2016</td>\n",
              "    </tr>\n",
              "    <tr>\n",
              "      <th>1</th>\n",
              "      <td>7520 Teague Rd</td>\n",
              "      <td>Hanover</td>\n",
              "      <td>US</td>\n",
              "      <td>1</td>\n",
              "      <td>39.155929</td>\n",
              "      <td>-76.716341</td>\n",
              "      <td>Aloft Arundel Mills</td>\n",
              "      <td>21076</td>\n",
              "      <td>MD</td>\n",
              "      <td>2016-07-09</td>\n",
              "      <td>5.0</td>\n",
              "      <td>I live in Md and the Aloft is my Home away fro...</td>\n",
              "      <td>ALWAYS GREAT STAY...</td>\n",
              "      <td>Laurel</td>\n",
              "      <td>MD</td>\n",
              "      <td>MamaNiaOne</td>\n",
              "    </tr>\n",
              "    <tr>\n",
              "      <th>2</th>\n",
              "      <td>7520 Teague Rd</td>\n",
              "      <td>Hanover</td>\n",
              "      <td>US</td>\n",
              "      <td>2</td>\n",
              "      <td>39.155929</td>\n",
              "      <td>-76.716341</td>\n",
              "      <td>Aloft Arundel Mills</td>\n",
              "      <td>21076</td>\n",
              "      <td>MD</td>\n",
              "      <td>2016-06-11</td>\n",
              "      <td>5.0</td>\n",
              "      <td>I stayed here with my family for my daughters ...</td>\n",
              "      <td>Wonderful stay</td>\n",
              "      <td>Laurel</td>\n",
              "      <td>MD</td>\n",
              "      <td>kevan777</td>\n",
              "    </tr>\n",
              "    <tr>\n",
              "      <th>3</th>\n",
              "      <td>7520 Teague Rd</td>\n",
              "      <td>Hanover</td>\n",
              "      <td>US</td>\n",
              "      <td>3</td>\n",
              "      <td>39.155929</td>\n",
              "      <td>-76.716341</td>\n",
              "      <td>Aloft Arundel Mills</td>\n",
              "      <td>21076</td>\n",
              "      <td>MD</td>\n",
              "      <td>2016-06-24</td>\n",
              "      <td>5.0</td>\n",
              "      <td>We stayed here while visiting Maryland Live!. ...</td>\n",
              "      <td>Great Hotel Experiece!</td>\n",
              "      <td>Clayton</td>\n",
              "      <td>NC</td>\n",
              "      <td>DebMurphy57</td>\n",
              "    </tr>\n",
              "    <tr>\n",
              "      <th>4</th>\n",
              "      <td>7520 Teague Rd</td>\n",
              "      <td>Hanover</td>\n",
              "      <td>US</td>\n",
              "      <td>4</td>\n",
              "      <td>39.155929</td>\n",
              "      <td>-76.716341</td>\n",
              "      <td>Aloft Arundel Mills</td>\n",
              "      <td>21076</td>\n",
              "      <td>MD</td>\n",
              "      <td>2016-05-29</td>\n",
              "      <td>5.0</td>\n",
              "      <td>I travel a lot with my job, so I'm constantly ...</td>\n",
              "      <td>Short stay for business.</td>\n",
              "      <td>Boston</td>\n",
              "      <td>MA</td>\n",
              "      <td>kayleighwillswim1224</td>\n",
              "    </tr>\n",
              "  </tbody>\n",
              "</table>\n",
              "</div>\n",
              "      <button class=\"colab-df-convert\" onclick=\"convertToInteractive('df-49033fc5-135e-4ffb-ad9b-a7cab8cd6841')\"\n",
              "              title=\"Convert this dataframe to an interactive table.\"\n",
              "              style=\"display:none;\">\n",
              "        \n",
              "  <svg xmlns=\"http://www.w3.org/2000/svg\" height=\"24px\"viewBox=\"0 0 24 24\"\n",
              "       width=\"24px\">\n",
              "    <path d=\"M0 0h24v24H0V0z\" fill=\"none\"/>\n",
              "    <path d=\"M18.56 5.44l.94 2.06.94-2.06 2.06-.94-2.06-.94-.94-2.06-.94 2.06-2.06.94zm-11 1L8.5 8.5l.94-2.06 2.06-.94-2.06-.94L8.5 2.5l-.94 2.06-2.06.94zm10 10l.94 2.06.94-2.06 2.06-.94-2.06-.94-.94-2.06-.94 2.06-2.06.94z\"/><path d=\"M17.41 7.96l-1.37-1.37c-.4-.4-.92-.59-1.43-.59-.52 0-1.04.2-1.43.59L10.3 9.45l-7.72 7.72c-.78.78-.78 2.05 0 2.83L4 21.41c.39.39.9.59 1.41.59.51 0 1.02-.2 1.41-.59l7.78-7.78 2.81-2.81c.8-.78.8-2.07 0-2.86zM5.41 20L4 18.59l7.72-7.72 1.47 1.35L5.41 20z\"/>\n",
              "  </svg>\n",
              "      </button>\n",
              "      \n",
              "  <style>\n",
              "    .colab-df-container {\n",
              "      display:flex;\n",
              "      flex-wrap:wrap;\n",
              "      gap: 12px;\n",
              "    }\n",
              "\n",
              "    .colab-df-convert {\n",
              "      background-color: #E8F0FE;\n",
              "      border: none;\n",
              "      border-radius: 50%;\n",
              "      cursor: pointer;\n",
              "      display: none;\n",
              "      fill: #1967D2;\n",
              "      height: 32px;\n",
              "      padding: 0 0 0 0;\n",
              "      width: 32px;\n",
              "    }\n",
              "\n",
              "    .colab-df-convert:hover {\n",
              "      background-color: #E2EBFA;\n",
              "      box-shadow: 0px 1px 2px rgba(60, 64, 67, 0.3), 0px 1px 3px 1px rgba(60, 64, 67, 0.15);\n",
              "      fill: #174EA6;\n",
              "    }\n",
              "\n",
              "    [theme=dark] .colab-df-convert {\n",
              "      background-color: #3B4455;\n",
              "      fill: #D2E3FC;\n",
              "    }\n",
              "\n",
              "    [theme=dark] .colab-df-convert:hover {\n",
              "      background-color: #434B5C;\n",
              "      box-shadow: 0px 1px 3px 1px rgba(0, 0, 0, 0.15);\n",
              "      filter: drop-shadow(0px 1px 2px rgba(0, 0, 0, 0.3));\n",
              "      fill: #FFFFFF;\n",
              "    }\n",
              "  </style>\n",
              "\n",
              "      <script>\n",
              "        const buttonEl =\n",
              "          document.querySelector('#df-49033fc5-135e-4ffb-ad9b-a7cab8cd6841 button.colab-df-convert');\n",
              "        buttonEl.style.display =\n",
              "          google.colab.kernel.accessAllowed ? 'block' : 'none';\n",
              "\n",
              "        async function convertToInteractive(key) {\n",
              "          const element = document.querySelector('#df-49033fc5-135e-4ffb-ad9b-a7cab8cd6841');\n",
              "          const dataTable =\n",
              "            await google.colab.kernel.invokeFunction('convertToInteractive',\n",
              "                                                     [key], {});\n",
              "          if (!dataTable) return;\n",
              "\n",
              "          const docLinkHtml = 'Like what you see? Visit the ' +\n",
              "            '<a target=\"_blank\" href=https://colab.research.google.com/notebooks/data_table.ipynb>data table notebook</a>'\n",
              "            + ' to learn more about interactive tables.';\n",
              "          element.innerHTML = '';\n",
              "          dataTable['output_type'] = 'display_data';\n",
              "          await google.colab.output.renderOutput(dataTable, element);\n",
              "          const docLink = document.createElement('div');\n",
              "          docLink.innerHTML = docLinkHtml;\n",
              "          element.appendChild(docLink);\n",
              "        }\n",
              "      </script>\n",
              "    </div>\n",
              "  </div>\n",
              "  "
            ]
          },
          "metadata": {},
          "execution_count": 89
        }
      ],
      "source": [
        "#Final overview\n",
        "usercity.head()"
      ],
      "metadata": {
        "pycharm": {
          "name": "#%%\n"
        },
        "colab": {
          "base_uri": "https://localhost:8080/",
          "height": 548
        },
        "id": "J0LVuG5Bccz1",
        "outputId": "73c58b97-637e-434c-a7cf-400607fadd40"
      }
    },
    {
      "cell_type": "code",
      "execution_count": 90,
      "outputs": [
        {
          "output_type": "execute_result",
          "data": {
            "text/plain": [
              "(27844, 16)"
            ]
          },
          "metadata": {},
          "execution_count": 90
        }
      ],
      "source": [
        "#Double-checking shape\n",
        "usercity.shape"
      ],
      "metadata": {
        "pycharm": {
          "name": "#%%\n"
        },
        "colab": {
          "base_uri": "https://localhost:8080/"
        },
        "id": "bAbdH6dfccz1",
        "outputId": "afa00d10-36c8-42c0-ca58-3bc25f539ad4"
      }
    },
    {
      "cell_type": "code",
      "execution_count": 91,
      "outputs": [],
      "source": [
        "#Double-checking nulls\n",
        "\n",
        "nulls= usercity.isnull().sum()\n",
        "\n",
        "perc_nulls = (nulls/usercity.shape[0]) *100"
      ],
      "metadata": {
        "pycharm": {
          "name": "#%%\n"
        },
        "id": "WftdcUCLccz1"
      }
    },
    {
      "cell_type": "code",
      "execution_count": 92,
      "outputs": [],
      "source": [
        "#Renaming columns to be more understandable to potential users\n",
        "usercity.rename(columns={'reviews.username': 'username','province': 'hotel_province', \"address\":\"hotel_address\", 'name': 'hotel_name', \"city\":\"hotel_city\", \"country\":\"hotel_country\", \"latitude\":\"hotel_latitude\", \"longitude\":\"hotel_longitude\", 'postalCode': 'hotel_postcode', \"reviews.date\":\"review_date\", \"reviews.rating\":\"review_rating\", \"reviews.text\":\"review_text\", \"reviews.title\":\"review_title\", \"reviews.userCity\": \"user_city\", \"reviews.userProvince\":\"user_province_or_country\"}, inplace=True)"
      ],
      "metadata": {
        "pycharm": {
          "name": "#%%\n"
        },
        "id": "YD2Vo05accz1"
      }
    },
    {
      "cell_type": "code",
      "execution_count": 93,
      "outputs": [
        {
          "output_type": "execute_result",
          "data": {
            "text/plain": [
              "Index(['hotel_address', 'hotel_city', 'hotel_country', 'keys',\n",
              "       'hotel_latitude', 'hotel_longitude', 'hotel_name', 'hotel_postcode',\n",
              "       'hotel_province', 'review_date', 'review_rating', 'review_text',\n",
              "       'review_title', 'user_city', 'user_province_or_country', 'username'],\n",
              "      dtype='object')"
            ]
          },
          "metadata": {},
          "execution_count": 93
        }
      ],
      "source": [
        "usercity.columns"
      ],
      "metadata": {
        "pycharm": {
          "name": "#%%\n"
        },
        "colab": {
          "base_uri": "https://localhost:8080/"
        },
        "id": "GnFygi63ccz2",
        "outputId": "4b676f74-66fe-4eb8-c085-733ba7802145"
      }
    },
    {
      "cell_type": "code",
      "execution_count": 95,
      "outputs": [],
      "source": [
        "usercity.to_csv('hotel_review_data.csv', index = False, header = True)"
      ],
      "metadata": {
        "pycharm": {
          "name": "#%%\n"
        },
        "id": "FyVTaNKjccz2"
      }
    },
    {
      "cell_type": "code",
      "source": [],
      "metadata": {
        "id": "pTifatYNiIOz"
      },
      "execution_count": null,
      "outputs": []
    }
  ],
  "metadata": {
    "kernelspec": {
      "display_name": "Python 3",
      "language": "python",
      "name": "python3"
    },
    "language_info": {
      "codemirror_mode": {
        "name": "ipython",
        "version": 2
      },
      "file_extension": ".py",
      "mimetype": "text/x-python",
      "name": "python",
      "nbconvert_exporter": "python",
      "pygments_lexer": "ipython2",
      "version": "2.7.6"
    },
    "colab": {
      "provenance": [],
      "collapsed_sections": []
    }
  },
  "nbformat": 4,
  "nbformat_minor": 0
}